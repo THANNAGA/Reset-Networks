{
 "cells": [
  {
   "cell_type": "markdown",
   "metadata": {
    "id": "n53Dkv-KLoeP"
   },
   "source": [
    "# Reset networks - number topography\n",
    "**Objective**\n",
    "\n",
    "Demonstrate the emergence of topography for numbers in Reset networks.\n",
    "\n",
    "**Means**\n",
    "\n",
    "Reset network <br>\n",
    "Number codes as distributed labels (random matrix theory) <br>"
   ]
  },
  {
   "cell_type": "markdown",
   "metadata": {
    "id": "EpUlyU5RbvsB"
   },
   "source": [
    "<img src = 'https://github.com/THANNAGA/Reset-Networks/blob/main/Topography%20for%20numbers/Reset_general_specific_approach.png?raw=true' width=700px>\n"
   ]
  },
  {
   "cell_type": "markdown",
   "metadata": {
    "id": "NdQPjJ7YQfin"
   },
   "source": [
    "*Figure 1.(A) Reset Networks approach the visual cortex as a sequence of levels that realize different topographic spaces. Each level consists in a grid of deep neural networks shares the entire input from the level below. The output of the grid then becomes the input to the grid of networks at the next level.**(B)** A depth 2 Reset network as a model of parietal cortex. When trained to map number images onto developmentally realistic number codes, topography for numbers appears at level 1 of the network.*"
   ]
  },
  {
   "cell_type": "code",
   "execution_count": null,
   "metadata": {
    "colab": {
     "base_uri": "https://localhost:8080/"
    },
    "collapsed": false,
    "id": "YGz5Bsqt_oe-",
    "outputId": "3d1cd59c-dbf4-4c7b-fff5-737759d73643"
   },
   "outputs": [
    {
     "name": "stdout",
     "output_type": "stream",
     "text": [
      "Mounted at /content/drive\n"
     ]
    }
   ],
   "source": [
    "from google.colab import drive\n",
    "drive.mount('/content/drive')"
   ]
  },
  {
   "cell_type": "code",
   "execution_count": null,
   "metadata": {
    "colab": {
     "base_uri": "https://localhost:8080/"
    },
    "collapsed": false,
    "id": "-dBrA_-ck766",
    "outputId": "b9914375-ddec-4613-ae95-1047d78ab8cc"
   },
   "outputs": [
    {
     "name": "stdout",
     "output_type": "stream",
     "text": [
      "Requirement already satisfied: einops in /usr/local/lib/python3.7/dist-packages (0.3.2)\n"
     ]
    }
   ],
   "source": [
    "import torch\n",
    "import torch.nn as nn\n",
    "import torch.nn.functional as F\n",
    "from torch.autograd import Variable\n",
    "\n",
    "import torchvision\n",
    "import torchvision.transforms as transforms\n",
    "import torch.optim as optim\n",
    "\n",
    "from PIL import Image\n",
    "import time\n",
    "import numpy as np\n",
    "from numpy.ma import masked_array\n",
    "from scipy import ndimage\n",
    "from scipy.signal import convolve2d as conv\n",
    "from scipy.ndimage import gaussian_filter\n",
    "import matplotlib.pyplot as plt\n",
    "import matplotlib.patches as patches\n",
    "from matplotlib.patches import Rectangle\n",
    "from matplotlib import gridspec\n",
    "import sys, math\n",
    "import pandas as pd\n",
    "from sklearn.utils import shuffle\n",
    "import cv2\n",
    "\n",
    "sys.path.insert(0,'/content/drive/MyDrive/ColabNotebooks/')\n",
    "from resnet import resnetSmall, resnet18, resnet34, resnet50, resnet101, resnet152 \n",
    "from resnet_CIFAR10 import resnet20, hresnet20reg"
   ]
  },
  {
   "cell_type": "code",
   "execution_count": null,
   "metadata": {
    "collapsed": true,
    "id": "RjT8uSonOv70"
   },
   "outputs": [],
   "source": [
    "checkpointpath = '/content/drive/MyDrive/ColabNotebooks/'\n",
    "modelname = 'ResetNumber8'#'ResNet20'#'ResetNumber8'\n",
    "dataset = 'Numbers10'\n",
    "train_batchsize = 100\n",
    "test_batchsize = 100\n",
    "classes = ['0', '1', '2', '3', '4', '5', '6', '7', '8', '9']\n",
    "use_cuda = True\n",
    "gridsize = 4\n",
    "n_classes1 = 8*8#4*4#16*16#8*8#32*32#400#36#100\n",
    "n_classes = 100\n",
    "lrate = 0.001\n",
    "drop_rate = 0.5\n",
    "input_channels = 3\n",
    "load_model = False\n",
    "load_submodels = False\n",
    "epochs = 50"
   ]
  },
  {
   "cell_type": "markdown",
   "metadata": {
    "id": "rL8HumqbE-eC"
   },
   "source": [
    "Transforms for data augmentation"
   ]
  },
  {
   "cell_type": "code",
   "execution_count": null,
   "metadata": {
    "collapsed": true,
    "id": "ZpM_i-WtDCBz"
   },
   "outputs": [],
   "source": [
    "augment_data = False\n",
    "if augment_data: \n",
    "    transform = transforms.Compose(\n",
    "      [transforms.RandomCrop(32, padding=4),\n",
    "      transforms.RandomHorizontalFlip(),\n",
    "      transforms.ToTensor(),\n",
    "      transforms.Normalize((0.5071, 0.4867, 0.4408), (0.2675, 0.2565, 0.2761))])\n",
    "    \n",
    "    transform_w = transforms.Compose(\n",
    "      [transforms.RandomCrop(32, padding=4),\n",
    "      transforms.RandomHorizontalFlip(),\n",
    "      transforms.ToTensor(),\n",
    "      transforms.Normalize((0, 0, 0), (1, 1, 1))])\n",
    "else: \n",
    "    transform = transforms.Compose(\n",
    "      [transforms.ToTensor(),\n",
    "       transforms.Normalize((0.5071, 0.4867, 0.4408), (0.2675, 0.2565, 0.2761))])\n",
    "    transform_w = transforms.Compose(\n",
    "      [transforms.ToTensor(),\n",
    "       transforms.Normalize((0, 0, 0), (1, 1, 1))])"
   ]
  },
  {
   "cell_type": "markdown",
   "metadata": {
    "id": "bUom9_JDzv3n"
   },
   "source": [
    "# Creating the number dataset (skip if already loaded)"
   ]
  },
  {
   "cell_type": "markdown",
   "metadata": {
    "id": "X1xGkgSgD1tG"
   },
   "source": [
    "Create number dataset: \n",
    "X = images in 3 x 32 x 32 format<br>\n",
    "Y = number codes - [Hannagan et al. (2018)](https://royalsocietypublishing.org/doi/10.1098/rstb.2017.0253)<br>"
   ]
  },
  {
   "cell_type": "code",
   "execution_count": null,
   "metadata": {
    "collapsed": true,
    "id": "eWKgtcZpGcBK"
   },
   "outputs": [],
   "source": [
    "from PIL import Image, ImageDraw, ImageFont, ImageFile\n",
    "def numbers_to_images(shuffle=True, text=None, numex=1, dimx = 32, dimy = 32, size=8, show=False):\n",
    "    nw_array = np.zeros((6*12*9, 3, dimx, dimy))   #6x, 24y, 9fonts\n",
    "    fontnames = ['arial', 'lato', 'openSans', 'ostrich', 'oswald', 'PTN57F', 'raleway', 'roboto', 'tahoma']\n",
    "    i = 0\n",
    "    for xshift in np.arange(-3,3):\n",
    "      for yshift in np.arange(-6,6):\n",
    "        for fontname in fontnames:\n",
    "          if len(text) == 1:\n",
    "            size = np.random.randint(15,20)\n",
    "\n",
    "          text = text.upper()\n",
    "\n",
    "          img = Image.new(\"RGB\", (dimx,dimy), color = (255, 255, 255))\n",
    "          fnt = ImageFont.truetype(checkpointpath+fontname+'.ttf', size) #size in pixels\n",
    "          draw = ImageDraw.Draw(img)\n",
    "          w, h = fnt.getsize(text)\n",
    "          draw.text((xshift + (dimx-w)/2, yshift + (dimy-h)/2), text, font=fnt, fill='black')\n",
    "\n",
    "          if show:\n",
    "              print ('was here')\n",
    "              plt.imshow(img);plt.show()\n",
    "          nw_array[i] = np.moveaxis(np.array(img), 2, 0)\n",
    "          if np.mean(nw_array[i]) == 255.0:\n",
    "            print ('xshift, yshift, text, fontname', xshift, yshift, text, fontname)\n",
    "            return 'issue'\n",
    "          i += 1\n",
    "\n",
    "    if shuffle:\n",
    "      np.random.shuffle(nw_array)\n",
    "    return nw_array[:numex]\n",
    "\n",
    "def numbers_to_vectors(number_codes=None, number_id=0, numex=1):\n",
    "    number_vector = number_codes[number_id, 0]\n",
    "    number_vectors = np.repeat(np.expand_dims(number_vector, axis=0), numex, axis=0)\n",
    "    return number_vectors\n",
    "\n",
    "def numbers_to_labels(number_id=0, numex=1):\n",
    "    number_vector = number_codes[number_id, 0]\n",
    "    number_labels = number_id*np.ones(numex)\n",
    "    return number_labels"
   ]
  },
  {
   "cell_type": "code",
   "execution_count": null,
   "metadata": {
    "colab": {
     "base_uri": "https://localhost:8080/"
    },
    "collapsed": false,
    "id": "PiygYJt-D-cz",
    "outputId": "ba04578e-514a-4917-ae72-bf3d59c377d3"
   },
   "outputs": [
    {
     "name": "stdout",
     "output_type": "stream",
     "text": [
      "number_codes.shape (21, 1, 100)\n"
     ]
    }
   ],
   "source": [
    "number_list = ['0', '1', '2', '3', '4', '5', '6', '7', '8', '9']\n",
    "np.save(checkpointpath + \"number_classes.npy\", number_list)\n",
    "\n",
    "#number_codes = np.load(checkpointpath + \"Numbers_num40_dim100.npy\")\n",
    "number_codes = np.load(checkpointpath + \"Numbers_stable.npy\");number_codes = np.expand_dims(number_codes, axis=1)\n",
    "print ('number_codes.shape', number_codes.shape)\n",
    "def create_number_dataset(dimx=32, dimy=32, dimn=100, number_list=None, numex=600):\n",
    "  \n",
    "  n = len(number_list)\n",
    "  num_train = 500\n",
    "  num_test = 100\n",
    "\n",
    "  X_train = np.zeros((n*num_train, 3, dimx, dimy))\n",
    "  Y1_train = np.zeros((n*num_train, dimn))\n",
    "  Y2_train = np.zeros(n*num_train)\n",
    "\n",
    "  X_test = np.zeros((n*num_test, 3, dimx, dimy))\n",
    "  Y1_test = np.zeros((n*num_test, dimn))\n",
    "  Y2_test = np.zeros(n*num_test)\n",
    "\n",
    "\n",
    "  # Calculate input image and p_vector\n",
    "  for i, number in enumerate(number_list):\n",
    "    number_matrices = numbers_to_images(text=number, size=10, numex=numex)\n",
    "    number_vectors = numbers_to_vectors(number_codes = number_codes, number_id=i, numex=numex)\n",
    "    number_labels = numbers_to_labels(number_id=i, numex=numex)\n",
    "    \n",
    "    X_train[i*num_train : (i+1)*num_train] = number_matrices[:num_train]\n",
    "    Y1_train[i*num_train : (i+1)*num_train] = number_vectors[:num_train]\n",
    "    Y2_train[i*num_train : (i+1)*num_train] = number_labels[:num_train]\n",
    "\n",
    "    X_test[i*num_test : (i+1)*num_test] = number_matrices[-num_test:]\n",
    "    Y1_test[i*num_test : (i+1)*num_test]= number_vectors[-num_test:]\n",
    "    Y2_test[i*num_test : (i+1)*num_test] = number_labels[:num_test]\n",
    "  \n",
    "  # print shapes\n",
    "  print ('X_train.shape', X_train.shape)\n",
    "  print ('Y1_train.shape', Y1_train.shape)\n",
    "  print ('Y2_train.shape', Y2_train.shape)\n",
    "\n",
    "  print ('X_test.shape', X_test.shape)\n",
    "  print ('Y1_test.shape', Y1_test.shape)\n",
    "  print ('Y2_test.shape', Y2_test.shape)\n",
    "\n",
    "  # save datasets\n",
    "  np.save(checkpointpath + \"number_images_train.npy\", X_train)\n",
    "  np.save(checkpointpath + \"number_codes_train.npy\", Y1_train)\n",
    "  np.save(checkpointpath + \"number_labels_train.npy\", Y2_train)\n",
    "\n",
    "  np.save(checkpointpath + \"number_images_test.npy\", X_test)\n",
    "  np.save(checkpointpath + \"number_codes_test.npy\", Y1_test)  \n",
    "  np.save(checkpointpath + \"number_labels_test.npy\", Y2_test)\n",
    "  \n",
    "  return X_train, Y1_train, Y2_train, X_test, Y1_test, Y2_test\n",
    "\n",
    "create_sym_dataset = False\n",
    "if create_sym_dataset:\n",
    "  X_train, Y1_train, Y2_train, X_test, Y1_test, Y2_test = create_number_dataset(number_list=number_list, numex=1100)"
   ]
  },
  {
   "cell_type": "markdown",
   "metadata": {
    "id": "2UARZOt_Fcek"
   },
   "source": [
    "Load dataset: Numbers 10 - custom loading"
   ]
  },
  {
   "cell_type": "code",
   "execution_count": null,
   "metadata": {
    "colab": {
     "base_uri": "https://localhost:8080/"
    },
    "collapsed": false,
    "id": "n5FaZRX1e5CV",
    "outputId": "e2469345-6b85-4eeb-8fae-ed2cba2dd745"
   },
   "outputs": [
    {
     "name": "stdout",
     "output_type": "stream",
     "text": [
      "train_x.shape (5000, 3, 32, 32)\n",
      "test_x.shape (1000, 3, 32, 32)\n"
     ]
    }
   ],
   "source": [
    "from torch.utils.data import Dataset\n",
    "class SymbolDataset(Dataset):\n",
    "    def __init__(self, X, Y, transform=None):\n",
    "        self.X = X\n",
    "        self.Y = Y\n",
    "        self.transform = transform\n",
    "\n",
    "    def __len__(self):\n",
    "        return len(self.Y)\n",
    "\n",
    "    def __getitem__(self, index):\n",
    "        if self.transform:\n",
    "          #sample = Image.fromarray(self.X[index])\n",
    "          #sample = self.transform(sample)\n",
    "          sample = self.transform(self.X[index])\n",
    "          x = torch.tensor(sample).float()\n",
    "        else:\n",
    "          x = torch.tensor(self.X[index]).float()\n",
    "        #custom item-wise standaradizing\n",
    "        #mu = torch.mean(x, dim = (1,2), keepdim = True)\n",
    "        #sd = torch.std(x, dim = (1,2), keepdim = True)\n",
    "        #x = (x - mu)/sd\n",
    "        #x = 1-x\n",
    "        y = torch.tensor(self.Y[index]).float()\n",
    "\n",
    "        return (x/255.0, y)\n",
    "\n",
    "class SymbolDataset2(Dataset):\n",
    "    def __init__(self, X, Y1, Y2, transform=None):\n",
    "        self.X = X\n",
    "        self.Y1 = Y1\n",
    "        self.Y2 = Y2\n",
    "        self.transform = transform\n",
    "\n",
    "    def __len__(self):\n",
    "        return len(self.Y2)\n",
    "\n",
    "    def __getitem__(self, index):\n",
    "        if self.transform:\n",
    "          #sample = Image.fromarray(self.X[index])\n",
    "          #sample = self.transform(sample)\n",
    "          sample = self.transform(self.X[index])\n",
    "          x = torch.tensor(sample).float()\n",
    "        else:\n",
    "          x = torch.tensor(self.X[index]).float()\n",
    "        #custom item-wise standaradizing\n",
    "        #mu = torch.mean(x, dim = (1,2), keepdim = True)\n",
    "        #sd = torch.std(x, dim = (1,2), keepdim = True)\n",
    "        #x = (x - mu)/sd\n",
    "        #x = 1-x\n",
    "        y1 = torch.tensor(self.Y1[index]).float()\n",
    "        y2 = torch.tensor(self.Y2[index]).float()\n",
    "\n",
    "        return (x/255.0, y1, y2)\n",
    "\n",
    "\n",
    "train_x = np.load(checkpointpath + \"number_images_train.npy\")\n",
    "train_y1 = np.load(checkpointpath + \"number_codes_train.npy\")\n",
    "train_y2 = np.load(checkpointpath + \"number_labels_train.npy\")\n",
    "\n",
    "test_x = np.load(checkpointpath + \"number_images_test.npy\")\n",
    "test_y1 = np.load(checkpointpath + \"number_codes_test.npy\")\n",
    "test_y2 = np.load(checkpointpath + \"number_labels_test.npy\")\n",
    "\n",
    "classes = np.load(checkpointpath + \"number_classes.npy\")\n",
    "print ('train_x.shape', train_x.shape)\n",
    "print ('test_x.shape', test_x.shape)\n",
    "train_y1 = np.array(train_y1)\n",
    "test_y1 = np.array(test_y1)\n",
    "train_y2 = np.array(train_y2, dtype='int')\n",
    "test_y2 = np.array(test_y2, dtype='int')\n",
    "\n",
    "if augment_data: \n",
    "  #train_x = np.moveaxis(train_x, 1, 3); test_x = np.moveaxis(test_x, 1, 3)\n",
    "  train_x = np.array(train_x, dtype = 'uint')\n",
    "  test_x = np.array(test_x, dtype = 'uint')\n",
    "  print ('np.shape(train_x)', np.shape(train_x))\n",
    "  print ('np.min(train_x)', np.min(train_x))\n",
    "  print ('np.max(train_x)', np.max(train_x))\n",
    "\n",
    "trainset = SymbolDataset(train_x, train_y1)#, transform=transform_w)\n",
    "testset = SymbolDataset(test_x, test_y1)\n",
    "trainset2 = SymbolDataset2(train_x, train_y1, train_y2)#, transform=transform_w)\n",
    "testset2 = SymbolDataset2(test_x, test_y1, test_y2)"
   ]
  },
  {
   "cell_type": "markdown",
   "metadata": {
    "id": "2MrKquq_Fj3O"
   },
   "source": [
    "Dataloaders"
   ]
  },
  {
   "cell_type": "code",
   "execution_count": null,
   "metadata": {
    "colab": {
     "base_uri": "https://localhost:8080/"
    },
    "collapsed": false,
    "id": "XAtydvnh9U4R",
    "outputId": "a4002ac4-d7c6-4766-9ca7-972a93a25f49"
   },
   "outputs": [
    {
     "name": "stdout",
     "output_type": "stream",
     "text": [
      "number of classes: 10\n",
      "weights.size(): torch.Size([10])\n",
      "weights: tensor([1., 1., 1., 1., 1., 1., 1., 1., 1., 1.])\n",
      "Custom number dataset has been loaded\n"
     ]
    }
   ],
   "source": [
    "trainloader = torch.utils.data.DataLoader(trainset, batch_size=train_batchsize, shuffle=True, num_workers=1)\n",
    "testloader = torch.utils.data.DataLoader(testset, batch_size=test_batchsize, shuffle=False, num_workers=1)\n",
    "\n",
    "lc = len(classes)\n",
    "\n",
    "class_total = np.zeros(lc)\n",
    "for ex in trainset2:\n",
    "  class_total[int(ex[2])] += 1\n",
    "weights = torch.Tensor(np.max(class_total)/np.array(class_total)).float()\n",
    "print ('number of classes:', len(weights))\n",
    "print ('weights.size():', weights.size())\n",
    "print ('weights:', weights)\n",
    "print ('Custom number dataset has been loaded')"
   ]
  },
  {
   "cell_type": "markdown",
   "metadata": {
    "id": "Qv8GC0BoFpZm"
   },
   "source": [
    "Reality check"
   ]
  },
  {
   "cell_type": "code",
   "execution_count": null,
   "metadata": {
    "colab": {
     "base_uri": "https://localhost:8080/",
     "height": 597
    },
    "collapsed": false,
    "id": "5ZH7c5QLShyc",
    "outputId": "0f2d009e-291e-4d9f-8bbf-a7f7f78d8718"
   },
   "outputs": [
    {
     "name": "stdout",
     "output_type": "stream",
     "text": [
      "classes[index], mean: 7 0.96922493\n",
      "classes[index], mean: 2 0.9645872\n",
      "classes[index], mean: 7 0.97526425\n",
      "classes[index], mean: 5 0.9620711\n",
      "classes[index], mean: 1 0.9763174\n"
     ]
    },
    {
     "data": {
      "image/png": "[encoded data removed]",
      "text/plain": [
       "<Figure size 432x288 with 10 Axes>"
      ]
     },
     "metadata": {
      "needs_background": "light",
      "tags": []
     },
     "output_type": "display_data"
    },
    {
     "name": "stdout",
     "output_type": "stream",
     "text": [
      "codes[0] tensor([0.0000e+00, 1.4549e-02, 0.0000e+00, 6.4039e-02, 0.0000e+00, 0.0000e+00,\n",
      "        8.7235e-02, 0.0000e+00, 0.0000e+00, 0.0000e+00, 0.0000e+00, 0.0000e+00,\n",
      "        6.2763e-02, 0.0000e+00, 0.0000e+00, 6.8468e-01, 1.0000e+00, 0.0000e+00,\n",
      "        0.0000e+00, 3.2728e-01, 0.0000e+00, 0.0000e+00, 0.0000e+00, 1.8524e-01,\n",
      "        0.0000e+00, 6.1496e-01, 5.7063e-01, 0.0000e+00, 3.4843e-01, 8.1785e-02,\n",
      "        0.0000e+00, 7.7252e-02, 0.0000e+00, 1.5576e-02, 0.0000e+00, 1.9266e-01,\n",
      "        0.0000e+00, 6.6046e-02, 5.8720e-02, 0.0000e+00, 0.0000e+00, 1.1174e-02,\n",
      "        1.1362e-02, 0.0000e+00, 2.0503e-02, 2.7426e-02, 4.2481e-02, 0.0000e+00,\n",
      "        3.4780e-02, 0.0000e+00, 2.1972e-02, 0.0000e+00, 0.0000e+00, 1.3141e-01,\n",
      "        0.0000e+00, 0.0000e+00, 6.4699e-02, 0.0000e+00, 5.4347e-02, 0.0000e+00,\n",
      "        0.0000e+00, 0.0000e+00, 0.0000e+00, 0.0000e+00, 6.4207e-02, 2.4674e-02,\n",
      "        5.0919e-02, 6.7668e-03, 0.0000e+00, 6.3051e-02, 6.2625e-03, 2.7291e-02,\n",
      "        0.0000e+00, 0.0000e+00, 8.5218e-03, 6.8430e-03, 7.7994e-03, 1.0627e-02,\n",
      "        3.1981e-02, 0.0000e+00, 1.5661e-02, 1.0865e-02, 3.2841e-03, 3.2659e-02,\n",
      "        0.0000e+00, 0.0000e+00, 0.0000e+00, 0.0000e+00, 0.0000e+00, 0.0000e+00,\n",
      "        6.7425e-03, 0.0000e+00, 0.0000e+00, 0.0000e+00, 2.1657e-04, 8.9973e-03,\n",
      "        0.0000e+00, 9.6803e-03, 0.0000e+00, 0.0000e+00])\n"
     ]
    }
   ],
   "source": [
    "trainloader2 = torch.utils.data.DataLoader(trainset2, batch_size=train_batchsize, shuffle=True, num_workers=1)\n",
    "testloader2 = torch.utils.data.DataLoader(testset2, batch_size=test_batchsize, shuffle=False, num_workers=1)\n",
    "train_iter = iter(trainloader2)\n",
    "images, codes, labels = train_iter.next()\n",
    "for i in np.arange(5):\n",
    "  index = int(labels[i].numpy())\n",
    "  plt.subplot(2,5,i+1)\n",
    "  plt.title(classes[index])\n",
    "  plt.axis('off')\n",
    "  im = np.moveaxis(images[i].numpy(), 0,2)\n",
    "  plt.imshow(im)\n",
    "  plt.subplot(2,5,5+i+1)\n",
    "  im2 = np.reshape(codes[i], (10, 10))\n",
    "  plt.imshow(im2)\n",
    "  plt.axis('off')\n",
    "  print ('classes[index], mean:', classes[index], np.mean(im))\n",
    "plt.savefig('Symbols_10.png', dpi = 300)\n",
    "plt.show()\n",
    "print ('codes[0]', codes[0])"
   ]
  },
  {
   "cell_type": "markdown",
   "metadata": {
    "id": "AZfqAMKThb6V"
   },
   "source": [
    "## Model"
   ]
  },
  {
   "cell_type": "code",
   "execution_count": null,
   "metadata": {
    "collapsed": true,
    "id": "E6-k78fuhfVy"
   },
   "outputs": [],
   "source": [
    "# Nested classifiers for CIFAR\n",
    "class NestedCifarNoDecoder(nn.Module):\n",
    "  def __init__(self, input_channels=3, h1_1=400, gridsize=8, n_classes1=16, n_classes2=10, drop_rate=0.2):\n",
    "    super(NestedCifarNoDecoder, self).__init__()\n",
    "    self.gridsize = gridsize\n",
    "    self.n_classes1 = n_classes1\n",
    "    self.sqrt_n_classes1 = int(n_classes1**0.5)\n",
    "    self.Nest1 = nn.ModuleList([resnet20(num_channels=input_channels, num_classes=n_classes1) for i in np.arange(self.gridsize**2)])\n",
    "    self.Classifier = resnet20(num_channels=1, num_classes=n_classes2)\n",
    "    self.BN0 = nn.BatchNorm2d(num_features = 1)\n",
    "    self.dropout = nn.Dropout(drop_rate)\n",
    "    self.sigmoid = nn.Sigmoid()\n",
    "    self.tanh = nn.Tanh()\n",
    "\t\n",
    "  def forward(self, x):\n",
    "    level1 = [self.Nest1[i](x) for i in np.arange(self.gridsize**2)] #process input through all networks at level 1\n",
    "    level1 = torch.stack(level1, dim=0)\n",
    "    level1 = level1.permute(1,2,0)\n",
    "    # reshape by patch (nested list comprehension probably more elegant)\n",
    "    to_cat = []\n",
    "    for j in np.arange(self.gridsize):\n",
    "      to_cat += [torch.cat([level1[:,:,i].reshape(-1, 1, self.sqrt_n_classes1, self.sqrt_n_classes1) for i in np.arange(j*self.gridsize, (j+1)*self.gridsize)],3)]\n",
    "    grid = torch.cat(to_cat, 2)\n",
    "    #grid = self.sigmoid(grid)\n",
    "    grid = self.tanh(grid)\n",
    "    grid = self.dropout(grid)\n",
    "    grid = self.BN0(grid)\n",
    "    out_c = self.Classifier(grid)\n",
    "    out_c = self.sigmoid(out_c)\n",
    "    return grid, out_c"
   ]
  },
  {
   "cell_type": "code",
   "execution_count": null,
   "metadata": {
    "colab": {
     "base_uri": "https://localhost:8080/"
    },
    "collapsed": false,
    "id": "TUBA5NyRiNX1",
    "outputId": "8bc594b0-f7dd-439e-c9a7-248f13ece52a"
   },
   "outputs": [
    {
     "name": "stdout",
     "output_type": "stream",
     "text": [
      "Nested cortical networks (without autoencoder) for Numbers loaded\n",
      "==> Model built. The model has  4646998 total parameters, and  100 classes\n"
     ]
    }
   ],
   "source": [
    "def load_Model(checkpointpath=None, modelname=None, dataset=None, load_model=False,\n",
    "               input_channels=input_channels, gridsize=gridsize, n_classes1=n_classes1, n_classes2=n_classes):\n",
    "\n",
    "\n",
    "  if 'NestedCifar' in modelname:\n",
    "    net = NestedCifar(input_channels=input_channels, gridsize=gridsize, n_classes1=n_classes1, n_classes2=n_classes)\n",
    "    print ('Nested cortical networks for CIFAR loaded')\n",
    "\n",
    "  if 'ResetNumber' in modelname:\n",
    "    net = NestedCifarNoDecoder(input_channels=input_channels, gridsize=gridsize, n_classes1=n_classes1, n_classes2=n_classes)\n",
    "    print ('Nested cortical networks (without autoencoder) for Numbers loaded')\n",
    "\n",
    "  if 'ResNet20' in modelname:\n",
    "    net = hresnet20reg(num_channels=input_channels, num_classes=n_classes)\n",
    "    print ('ResNet20 loaded')\n",
    "\n",
    "  model_total_params = sum(p.numel() for p in net.parameters())\n",
    "  print('==> Model built. The model has ',model_total_params,'total parameters, and ',n_classes,'classes')\n",
    "\n",
    "  if load_model:\n",
    "    #load the model\n",
    "    state = torch.load(checkpointpath + modelname + dataset + 'best_ckpt.t7')\n",
    "    keys = list(state['net'].keys()); print ('This network had', len(keys),'stored sets of parameters')\n",
    "    if 'module.' in keys[0]:\n",
    "      for name in keys:\n",
    "        state['net'][name[7:]] = state['net'].pop(name)\n",
    "    net.load_state_dict(state['net'])\n",
    "    print ('Pretrained weights loaded')\n",
    "\n",
    "  if load_submodels:\n",
    "    #load pretrained submodel\n",
    "    pretrained_dict = submodel.state_dict()\n",
    "    \n",
    "    model_dict = model.state_dict()\n",
    "    # 1. filter out unnecessary keys (remove key for last dense layer)\n",
    "    pretrained_dict = {k: v for k, v in pretrained_dict.items() if k is not 'fc2'}\n",
    "    # 2. overwrite entries in the existing state dict\n",
    "    model_dict.update(pretrained_dict) \n",
    "    # 3. load the new state dict\n",
    "    model.load_state_dict(pretrained_dict)\n",
    "  \n",
    "  return net\n",
    "\n",
    "net = load_Model(checkpointpath=checkpointpath, modelname=modelname, load_model=load_model)"
   ]
  },
  {
   "cell_type": "markdown",
   "metadata": {
    "id": "wFKCRzDnGGtQ"
   },
   "source": [
    "# Training"
   ]
  },
  {
   "cell_type": "markdown",
   "metadata": {
    "id": "yQtbPnojAMVZ"
   },
   "source": [
    "Parallel computing"
   ]
  },
  {
   "cell_type": "code",
   "execution_count": null,
   "metadata": {
    "colab": {
     "base_uri": "https://localhost:8080/"
    },
    "collapsed": false,
    "id": "E8aznUBZPYQH",
    "outputId": "fd34c7d8-7d79-43d7-c7a3-cb2af5685532"
   },
   "outputs": [
    {
     "name": "stdout",
     "output_type": "stream",
     "text": [
      "device: cuda\n",
      "One GPU available.\n",
      "GPU type: Tesla P100-PCIE-16GB\n"
     ]
    }
   ],
   "source": [
    "# Parallel computing\n",
    "device = torch.device(\"cuda\" if use_cuda else \"cpu\")\n",
    "print ('device:', device)\n",
    "net.to(device)\n",
    "net = torch.nn.DataParallel(net)\n",
    "weights = weights.to(device)\n",
    "GPUcount = torch.cuda.device_count()\n",
    "if GPUcount == 0:\n",
    "  print ('No GPU available.')\n",
    "if GPUcount == 1:\n",
    "  print ('One GPU available.')\n",
    "if GPUcount > 1:\n",
    "  print (GPUcount, 'GPUs are available.')\n",
    "print ('GPU type:', torch.cuda.get_device_name())"
   ]
  },
  {
   "cell_type": "code",
   "execution_count": null,
   "metadata": {
    "collapsed": true,
    "id": "sfxTZF9v0k2S"
   },
   "outputs": [],
   "source": [
    "Adam=False\n",
    "if Adam:\n",
    "  criterion = nn.CrossEntropyLoss(weight=weights)\n",
    "  optimizer = optim.Adam(net.parameters(), lr=lrate)"
   ]
  },
  {
   "cell_type": "code",
   "execution_count": null,
   "metadata": {
    "collapsed": true,
    "id": "PVyRe0h1g2Kc"
   },
   "outputs": [],
   "source": [
    "Sgd=False\n",
    "if Sgd:\n",
    "  criterion = nn.CrossEntropyLoss(weight=weights)\n",
    "  optimizer = optim.SGD(net.parameters(), lr=lrate, momentum=0.9, weight_decay=5e-4)\n",
    "  scheduler = torch.optim.lr_scheduler.CosineAnnealingLR(optimizer, T_max=200)"
   ]
  },
  {
   "cell_type": "code",
   "execution_count": null,
   "metadata": {
    "collapsed": true,
    "id": "tIIVBmcRt7zJ"
   },
   "outputs": [],
   "source": [
    "BCE = True\n",
    "if BCE:# Define an optimizer and criterion for autoencoder\n",
    "  criterion = nn.BCELoss()\n",
    "  optimizer = optim.Adam(net.parameters())"
   ]
  },
  {
   "cell_type": "code",
   "execution_count": null,
   "metadata": {
    "collapsed": true,
    "id": "7bePq6neW_Tf"
   },
   "outputs": [],
   "source": [
    "CombinedLoss = False\n",
    "if CombinedLoss:# Define an optimizer and criterion for autoencoder and classfier\n",
    "  criterionAuto = nn.BCELoss()\n",
    "  criterionClass = nn.CrossEntropyLoss(weight=weights)\n",
    "  optimizer = optim.Adam(net.parameters())"
   ]
  },
  {
   "cell_type": "markdown",
   "metadata": {
    "id": "zn05hy_j3UP5"
   },
   "source": [
    "Testing:"
   ]
  },
  {
   "cell_type": "code",
   "execution_count": null,
   "metadata": {
    "collapsed": true,
    "id": "kFFyUKtvAJY8"
   },
   "outputs": [],
   "source": [
    "def test2(net):\n",
    "  net.eval()\n",
    "  start = time.time()\n",
    "  net.to(device)\n",
    "  correct = 0\n",
    "  total = 0\n",
    "  with torch.no_grad():\n",
    "      for data in testloader:\n",
    "          inputs, codes = data\n",
    "          inputs, codes = inputs.to(device), codes.to(device)\n",
    "          grid, outputs = net(inputs)\n",
    "          mse = torch.mean(torch.square(outputs - codes)).item()\n",
    "          total += labels.size(0)\n",
    "\n",
    "  print('Mse of the network on ',total,'test images:',mse)\n",
    "\n",
    "  end = time.time()\n",
    "  print('Test time:', time.strftime('%H:%M:%S', time.gmtime(end-start)))\n",
    "  print('n')\n",
    "\n",
    "  return grid, mse"
   ]
  },
  {
   "cell_type": "markdown",
   "metadata": {
    "id": "-f8vrDnw97pH"
   },
   "source": [
    "Compute grid responses and output accuracies for all categories"
   ]
  },
  {
   "cell_type": "code",
   "execution_count": null,
   "metadata": {
    "collapsed": true,
    "id": "B3NbZS_FDWWU"
   },
   "outputs": [],
   "source": [
    "def compute_class_grid2(grid, verbose=False):\n",
    "  n = len(classes)\n",
    "  if modelname == 'ResNet20':\n",
    "    gn, gh = grid.shape\n",
    "    gc = 1\n",
    "    gs = int(gh**0.5)\n",
    "  else:\n",
    "    gn, gc, gs, gs = grid.shape\n",
    "  print ('gn, gc, gs, gs', gn, gc, gs, gs)\n",
    "  class_correct = list(0. for i in np.arange(n))\n",
    "  class_total = list(0. for i in np.arange(n))\n",
    "  class_grid = np.zeros((n, gs, gs))\n",
    "  with torch.no_grad():\n",
    "      for data in testloader2:\n",
    "          images, codes, labels = data\n",
    "          #images, codes, labels = images.to(device), codes.to(device), labels.to(device)\n",
    "          images, codes = images.to(device), codes.to(device)\n",
    "\n",
    "          grid, outputs = net(images)\n",
    "          mse = torch.mean(torch.square(outputs - codes), 1)\n",
    "          grid_data = grid.cpu().numpy().squeeze()\n",
    "          if modelname == 'ResNet20':\n",
    "            grid_data = np.reshape(grid_data, (-1, gs, gs))\n",
    "\n",
    "          for i, label in enumerate(labels):\n",
    "              label = int(label.cpu().numpy())\n",
    "              if gc > 1:\n",
    "                class_grid[label] += np.mean(grid[i], axis=0)\n",
    "              else:\n",
    "                class_grid[label] += grid_data[i]\n",
    "              class_correct[label] += mse[i].item()\n",
    "              class_total[label] += 1\n",
    "  class_acc = np.zeros(n)\n",
    "  for i in np.arange(n):\n",
    "      class_acc[i] = 100 * class_correct[i] / class_total[i]\n",
    "      if class_total[i] > 0:\n",
    "        class_grid[i] = class_grid[i]/class_total[i]\n",
    "      if verbose:\n",
    "        print('%3d Accuracy of %5s : %2d %% (%5d / %5d)' % (i, classes[i], class_acc[i], class_correct[i], class_total[i]))\n",
    "  return class_acc, class_grid\n",
    "  \n",
    "go_compute_class_grid2 = False\n",
    "if go_compute_class_grid2:\n",
    "  class_acc, class_grid = compute_class_grid2(grid, verbose=True)"
   ]
  },
  {
   "cell_type": "markdown",
   "metadata": {
    "id": "i1LrtuXRQsdl"
   },
   "source": [
    "Training"
   ]
  },
  {
   "cell_type": "code",
   "execution_count": null,
   "metadata": {
    "colab": {
     "base_uri": "https://localhost:8080/",
     "height": 232
    },
    "collapsed": false,
    "id": "olmO7hhzQtvY",
    "outputId": "9be8eb93-056b-4521-b02e-1adf9db1b4f8"
   },
   "outputs": [
    {
     "ename": "NameError",
     "evalue": "ignored",
     "output_type": "error",
     "traceback": [
      "\u001b[0;31m---------------------------------------------------------------------------\u001b[0m",
      "\u001b[0;31mNameError\u001b[0m                                 Traceback (most recent call last)",
      "\u001b[0;32m<ipython-input-5-e42f48a4225f>\u001b[0m in \u001b[0;36m<module>\u001b[0;34m()\u001b[0m\n\u001b[1;32m      1\u001b[0m \u001b[0mstart\u001b[0m \u001b[0;34m=\u001b[0m \u001b[0mtime\u001b[0m\u001b[0;34m.\u001b[0m\u001b[0mtime\u001b[0m\u001b[0;34m(\u001b[0m\u001b[0;34m)\u001b[0m\u001b[0;34m\u001b[0m\u001b[0;34m\u001b[0m\u001b[0m\n\u001b[1;32m      2\u001b[0m \u001b[0me_start\u001b[0m \u001b[0;34m=\u001b[0m \u001b[0mtime\u001b[0m\u001b[0;34m.\u001b[0m\u001b[0mtime\u001b[0m\u001b[0;34m(\u001b[0m\u001b[0;34m)\u001b[0m\u001b[0;34m\u001b[0m\u001b[0;34m\u001b[0m\u001b[0m\n\u001b[0;32m----> 3\u001b[0;31m \u001b[0mltrain\u001b[0m\u001b[0;34m,\u001b[0m \u001b[0mltest\u001b[0m \u001b[0;34m=\u001b[0m \u001b[0mlen\u001b[0m\u001b[0;34m(\u001b[0m\u001b[0mtrainloader\u001b[0m\u001b[0;34m)\u001b[0m\u001b[0;34m,\u001b[0m \u001b[0mlen\u001b[0m\u001b[0;34m(\u001b[0m\u001b[0mtestloader\u001b[0m\u001b[0;34m)\u001b[0m\u001b[0;34m\u001b[0m\u001b[0;34m\u001b[0m\u001b[0m\n\u001b[0m\u001b[1;32m      4\u001b[0m \u001b[0mprint\u001b[0m \u001b[0;34m(\u001b[0m\u001b[0;34m'number of mini-batches for training:'\u001b[0m\u001b[0;34m,\u001b[0m \u001b[0mltrain\u001b[0m\u001b[0;34m)\u001b[0m\u001b[0;34m\u001b[0m\u001b[0;34m\u001b[0m\u001b[0m\n\u001b[1;32m      5\u001b[0m \u001b[0mprint\u001b[0m \u001b[0;34m(\u001b[0m\u001b[0;34m'mini-batch size:'\u001b[0m\u001b[0;34m,\u001b[0m \u001b[0mtrain_batchsize\u001b[0m\u001b[0;34m)\u001b[0m\u001b[0;34m\u001b[0m\u001b[0;34m\u001b[0m\u001b[0m\n",
      "\u001b[0;31mNameError\u001b[0m: name 'trainloader' is not defined"
     ]
    }
   ],
   "source": [
    "start = time.time()\n",
    "e_start = time.time()\n",
    "ltrain, ltest = len(trainloader), len(testloader)\n",
    "print ('number of mini-batches for training:', ltrain)\n",
    "print ('mini-batch size:', train_batchsize)\n",
    "print ('total number of training exemplars:', ltrain*train_batchsize)\n",
    "print ('\\nnumber of mini-batches for testing:', ltest)\n",
    "print ('mini-batch size:', test_batchsize)\n",
    "\n",
    "if load_model:\n",
    "  test_acc_history = np.load(checkpointpath + modelname + dataset + 'test_acc_history.npy')\n",
    "  class_acc_history = np.load(checkpointpath + modelname + dataset + 'class_acc_history.npy')\n",
    "  class_grid_history = np.load(checkpointpath + modelname + dataset + 'class_grid_history.npy')\n",
    "  last_epoch = len(test_acc_history)\n",
    "  bestacc = np.max(test_acc_history)\n",
    "  print ('saved metrics loaded')\n",
    "else:\n",
    "  test_acc_history = []\n",
    "  class_acc_history = []\n",
    "  class_grid_history = []\n",
    "  last_epoch = 0\n",
    "  bestacc = 0\n",
    "\n",
    "test_every = ltrain//2\n",
    "#test_every = 2*ltrain   #never test\n",
    "print_every = ltrain//20\n",
    "print ('we will test every:', test_every, 'mini-batches, meaning, every',test_every*train_batchsize,'training exemplars.')\n",
    "\n",
    "# Initial testing before training.\n",
    "grid, testacc = test2(net)\n",
    "test_acc_history += [testacc]\n",
    "class_acc, class_grid = compute_class_grid2(grid, verbose=False)\n",
    "class_acc_history += [class_acc]\n",
    "class_grid_history += [class_grid]\n",
    "np.save(checkpointpath + modelname + dataset + 'test_acc_history.npy', test_acc_history)\n",
    "np.save(checkpointpath + modelname + dataset + 'class_acc_history.npy', class_acc_history)\n",
    "np.save(checkpointpath + modelname + dataset + 'class_grid_history.npy', class_grid_history)\n",
    "\n",
    "# Start training\n",
    "net.train()\n",
    "for epoch in np.arange(last_epoch + epochs): \n",
    "    print ('Epoch:', epoch) \n",
    "    running_loss = 0.0\n",
    "    running_lossAuto = 0.0\n",
    "    running_lossClass = 0.0\n",
    "    for i, (inputs, codes, labels) in enumerate(trainloader2):\n",
    "        inputs, codes = inputs.to(device), codes.to(device)\n",
    "        #print ('labels.size()', labels.size())\n",
    "\n",
    "        optimizer.zero_grad()\n",
    "        grid, outputs = net(inputs)\n",
    "        #print(outputs.size())\n",
    "        loss = criterion(outputs, codes)\n",
    "\n",
    "        \n",
    "        loss.backward()\n",
    "        optimizer.step()\n",
    "\n",
    "        # print statistics\n",
    "        running_loss += loss.item()\n",
    "        if (i != 0) & (i % print_every == 0):    # print\n",
    "          print ('[batch %3d] number code loss:%.3f' % (i, loss.item()))\n",
    "\n",
    "        if (i != 0) & (i % test_every == 0):    # test \n",
    "            e_end = time.time()\n",
    "            print('\\n\\nTraining time:', time.strftime('%H:%M:%S', time.gmtime(e_end - e_start)))\n",
    "            e_start = time.time()\n",
    "\n",
    "            closs = running_loss / test_every\n",
    "            print('[%d, %5d] number code loss:%.3f' % (epoch + 1, i + 1, closs))\n",
    "\n",
    "            running_loss = 0.0\n",
    "            _, testacc = test2(net)\n",
    "            test_acc_history += [testacc]\n",
    "            class_acc, class_grid = compute_class_grid2(grid, verbose=False)\n",
    "            class_acc_history += [class_acc]\n",
    "            class_grid_history += [class_grid]\n",
    "            np.save(checkpointpath + modelname + dataset + 'test_acc_history.npy', test_acc_history)\n",
    "            np.save(checkpointpath + modelname + dataset + 'class_acc_history.npy', class_acc_history)\n",
    "            np.save(checkpointpath + modelname + dataset + 'class_grid_history.npy', class_grid_history)\n",
    "            net.train()\n",
    "\n",
    "            if testacc > bestacc:\n",
    "              print ('saving as best model')\n",
    "              state = {'net': net.state_dict(),}\n",
    "              torch.save(state, checkpointpath + modelname + dataset + 'best_ckpt.t7')\n",
    "              bestacc = testacc\n",
    "np.save(checkpointpath + modelname + dataset + 'test_acc_history.npy', test_acc_history)\n",
    "np.save(checkpointpath + modelname + dataset + 'class_acc_history.npy', class_acc_history)\n",
    "np.save(checkpointpath + modelname + dataset + 'class_grid_history.npy', class_grid_history)\n",
    "end = time.time()\n",
    "print('Done training. Total training time:')\n",
    "print(time.strftime('%H:%M:%S', time.gmtime(end-start)))"
   ]
  },
  {
   "cell_type": "markdown",
   "metadata": {
    "id": "8qKDiRKupJ-o"
   },
   "source": [
    "## Number topography"
   ]
  },
  {
   "cell_type": "code",
   "execution_count": null,
   "metadata": {
    "collapsed": true,
    "id": "_1VHgsA9pXCq"
   },
   "outputs": [],
   "source": [
    "import math\n",
    "\n",
    "def topo(data):\n",
    "  #topo_index = np.mean(ndimage.sobel(data)) # the more variations on the sobeled map, the less the neighbors are the same, the less topography.\n",
    "  #topo_index = np.mean(data - gaussian_filter(data, sigma = 1))\n",
    "  filter = (-1/8)*np.ones((3, 3));filter[0,0]=1\n",
    "  d = np.mean(ndimage.convolve(data, filter))\n",
    "  dz = np.mean(ndimage.convolve(data, (1/8)*np.ones((3, 3))))\n",
    "  if d != 0:\n",
    "    topo_index = 1/d # topography == same neighbors ==> more canceling ==> low mean ==> high inverse of mean\n",
    "  else:\n",
    "    topo_index = dz\n",
    "  return topo_index\n",
    "\n",
    "def topo2(data):\n",
    "  data = data.astype('float')\n",
    "  n,n = data.shape\n",
    "  topo_index, c = 0, 0\n",
    "  for i in range(1, n-1):\n",
    "    for j in range(1, n-1):\n",
    "      if data[i, j] != -1:\n",
    "        context = np.copy(data[i-1:i+2, j-1:j+2])\n",
    "        mask = context == -1\n",
    "        context[mask] = np.nan; context[1,1] = np.nan\n",
    "        context = np.abs(context - data[i, j])\n",
    "        context[mask] = 10; context[1,1] = np.nan\n",
    "        #topo_index += 10 - np.nanmean(context)\n",
    "        topo_index += 10 - np.nansum(context)/8\n",
    "        c += 1\n",
    "  if c != 0:\n",
    "    topo_index = 0.1*topo_index/float(c)\n",
    "    return topo_index\n",
    "  if c == 0:\n",
    "    return 0\n",
    "\n",
    "def clustering_index2(data, threshold=0.85, connectivity=4):\n",
    "  den_index = np.sum(data)\n",
    "  data = (data > threshold).astype(np.uint8)\n",
    "  # Thresholding\n",
    "  ret, thresh = cv2.threshold(data,0,255,cv2.THRESH_BINARY+cv2.THRESH_OTSU)\n",
    "  # Choose 4 or 8 for connectivity type\n",
    "  num_labels, labels, stats, centroids = cv2.connectedComponentsWithStats(thresh, connectivity, cv2.CV_32S)\n",
    "  clu_index = np.mean(stats[1:,-1])\n",
    "  if math.isnan(clu_index):\n",
    "    clu_index = 1 #minimal cluster size\n",
    "  \n",
    "  return num_labels, labels, clu_index \n",
    "\n",
    "def compute_pipeline2(select1, select2, T = 1, connectivity = 8, gf_sigma=0, show=False):\n",
    "\n",
    "  # compute d-prime sensitivity measure at each point of the grid\n",
    "  mean1 = np.mean(select1, axis=0)\n",
    "  mean2 = np.mean(select2, axis=0)\n",
    "  std1 = np.var(select1, axis=0)**0.5\n",
    "  std2 = np.var(select2, axis=0)**0.5\n",
    "\n",
    "  # possibly smooth activations\n",
    "  gf_sigma = 0#.5\n",
    "  smean1 = gaussian_filter(mean1, sigma = gf_sigma)   # smoothing\n",
    "  smean2 = gaussian_filter(mean2, sigma = gf_sigma)   \n",
    "\n",
    "  # compute d-prime map\n",
    "  dmap = 2*(smean1 - smean2)/(std1 + std2)\n",
    "\n",
    "  # compute clustering index\n",
    "  _, _, clu_index = clustering_index2(dmap, threshold=T, connectivity=connectivity)\n",
    "\n",
    "  # compute control clustering index\n",
    "  clu_index_ctrl = 0\n",
    "  power = 20\n",
    "  for k in range(10):\n",
    "    dmapshuf = np.ravel(np.copy(dmap))\n",
    "    np.random.shuffle(dmapshuf)\n",
    "    dmapshuf = np.reshape(dmapshuf, dmap.shape)\n",
    "    _, _, ctrl_clu = clustering_index2(dmapshuf, threshold=T, connectivity=connectivity)\n",
    "    clu_index_ctrl += ctrl_clu\n",
    "    \n",
    "  clu_index_ctrl = clu_index_ctrl/float(power)\n",
    "\n",
    "  # return variables\n",
    "  targets_data = dmap #> T\n",
    "\n",
    "  density = np.sum(smean1)\n",
    "  if show:\n",
    "    plt.figure(figsize=(10,10))\n",
    "    plt.subplot(141);plt.imshow(mean1);plt.title('mean1');plt.axis('off')\n",
    "    plt.subplot(142);plt.imshow(mean2);plt.title('mean2');plt.axis('off')\n",
    "    plt.subplot(143);plt.imshow(dmap);plt.title('dprimes 1-2');plt.axis('off');plt.colorbar(orientation='horizontal')\n",
    "    plt.subplot(144);plt.imshow(dmap>T);plt.title('clustering:'+str(clu_index)[:5]);plt.axis('off');plt.colorbar(orientation='horizontal')\n",
    "    plt.show()\n",
    "    return stop_error\n",
    "  \n",
    "  return targets_data, clu_index, clu_index_ctrl\n",
    "\n",
    "def compute_save_metrics2(modelname=None, dataset=None, T=2, S=0, nopref=False, n_epochs=21):\n",
    "  # load data history\n",
    "  class_acc_history = np.load(checkpointpath + modelname + dataset + 'class_acc_history.npy')[:n_epochs]\n",
    "  print ('class_acc_history.shape',class_acc_history.shape)\n",
    "  class_grid_history = np.load(checkpointpath + modelname + dataset + 'class_grid_history.npy')[:n_epochs]\n",
    "  print ('class_grid_history.shape',class_grid_history.shape)\n",
    "\n",
    "  # initialize arrays \n",
    "  _,_,x,y = np.shape(class_grid_history)\n",
    "  n_classes = lc\n",
    "  print ('n_epochs,n_classes,x,y', n_epochs,n_classes,x,y)\n",
    "  target_maps_history = np.zeros((n_epochs, n_classes, x, y))\n",
    "  clustering_history = np.zeros((n_epochs, n_classes))\n",
    "  clustering_history_ctrl = np.zeros((n_epochs, n_classes))\n",
    "  topo_history = np.zeros(n_epochs)\n",
    "  topo_history_ctrl = np.zeros(n_epochs)\n",
    "  target_acc_history = np.zeros((n_epochs, n_classes))\n",
    "\n",
    "  # setting parameters for sensitivity and clustering analysis\n",
    "  connectivity = 4\n",
    "\n",
    "  # list of contrasts\n",
    "  sets1 = np.arange(lc)\n",
    "  sets2 = np.array([[j for j in sets1 if i != j] for i in sets1])\n",
    "  \n",
    "  # compute\n",
    "  for epoch in range(n_epochs):\n",
    "    print ('analyzing data from epoch', epoch)\n",
    "    for cat, (set1, set2) in enumerate(zip(sets1, sets2)):\n",
    "      #print ('cat', cat)\n",
    "      #print ('set1', set1)\n",
    "      #print ('set2', set2)\n",
    "      select1 = class_grid_history[epoch, set1]\n",
    "      select1 = np.expand_dims(select1, axis=0) #easier to expand dim here this way, for clustering index.\n",
    "      select2 = class_grid_history[epoch, set2]\n",
    "      \n",
    "      targets_data, clustering, clustering_ctrl = compute_pipeline2(select1, select2, T = T, connectivity = connectivity, gf_sigma=S, show=False)\n",
    "      target_maps_history[epoch, cat] = targets_data\n",
    "      clustering_history[epoch, cat] = clustering\n",
    "      clustering_history_ctrl[epoch, cat] = clustering_ctrl\n",
    "      target_acc_history[epoch, cat] = np.mean(class_acc_history[epoch,set1])\n",
    "\n",
    "  # create label maps. This makes a lot of sense for numerosity, since we've got a clear number line.\n",
    "  \n",
    "  if nopref:\n",
    "    # label -1 will stand for \"no preference\", when all d-primes are below thresholds\n",
    "    # we achieve that by concatenating a no preference map before the d-prime maps, filled with a high value.\n",
    "    # then we remove 1 to all the labels.\n",
    "    label_maps_history = np.zeros((n_epochs,x,y))\n",
    "    for epoch, target_maps in enumerate(target_maps_history):\n",
    "      thres_data = (target_maps<T)\n",
    "      indices_no_pref = (np.sum(thres_data, axis=0) == lc)\n",
    "      no_pref = 100*indices_no_pref\n",
    "      no_pref = np.expand_dims(no_pref, axis=0)\n",
    "      target_maps = np.concatenate((no_pref, target_maps))\n",
    "      label_maps = np.argmax(target_maps, axis=0) - 1\n",
    "      label_maps_history[epoch] = label_maps\n",
    "\n",
    "      # Based on these preference maps, compute the topographic index at each epoch\n",
    "      topo = topo2(label_maps)\n",
    "      topo_history[epoch] = topo\n",
    "      n_shufflings = 20\n",
    "      topo_ctrl = 0\n",
    "      for p in range(n_shufflings):\n",
    "        #shuffle map\n",
    "        dmapshuf = np.ravel(np.copy(label_maps))\n",
    "        np.random.shuffle(dmapshuf)\n",
    "        dmapshuf = np.reshape(dmapshuf, label_maps.shape)\n",
    "        #compute topo for shuffled map\n",
    "        topo_iter = topo2(dmapshuf)\n",
    "        topo_ctrl += topo_iter\n",
    "      topo_history_ctrl[epoch] = topo_ctrl/n_shufflings\n",
    "\n",
    "    masked_array(label_maps_history, label_maps_history < 0)\n",
    "\n",
    "    #save\n",
    "    np.save(checkpointpath + modelname + dataset + 'target_acc_history.npy', target_acc_history)\n",
    "    np.save(checkpointpath + modelname + dataset + 'target_maps_history.npy', target_maps_history) \n",
    "    np.save(checkpointpath + modelname + dataset + 'label_maps_history_nopref.npy', label_maps_history)\n",
    "    np.save(checkpointpath + modelname + dataset + 'clustering_history.npy', clustering_history)\n",
    "    np.save(checkpointpath + modelname + dataset + 'clustering_history_ctrl.npy', clustering_history_ctrl)\n",
    "    np.save(checkpointpath + modelname + dataset + 'topo_history.npy', topo_history)\n",
    "    np.save(checkpointpath + modelname + dataset + 'topo_history_ctrl.npy', topo_history_ctrl)\n",
    "\n",
    "  else:\n",
    "    label_maps_history = np.argmax(target_maps_history, axis=1)\n",
    "    \n",
    "    #save\n",
    "    np.save(checkpointpath + modelname + dataset + 'target_acc_history.npy', target_acc_history)\n",
    "    np.save(checkpointpath + modelname + dataset + 'target_maps_history.npy', target_maps_history) \n",
    "    np.save(checkpointpath + modelname + dataset + 'label_maps_history.npy', label_maps_history)\n",
    "    np.save(checkpointpath + modelname + dataset + 'clustering_history.npy', clustering_history)\n",
    "    np.save(checkpointpath + modelname + dataset + 'clustering_history_ctrl.npy', clustering_history_ctrl)\n",
    "    np.save(checkpointpath + modelname + dataset + 'topo_history.npy', topo_history)\n",
    "    np.save(checkpointpath + modelname + dataset + 'topo_history_ctrl.npy', topo_history_ctrl)"
   ]
  },
  {
   "cell_type": "code",
   "execution_count": null,
   "metadata": {
    "collapsed": true,
    "id": "xjw6A-ILve4y"
   },
   "outputs": [],
   "source": [
    "def animate_numerosity(T=None, S_map = None, save=True, nopref=False):\n",
    "  import numpy as np\n",
    "  from numpy.ma import masked_array\n",
    "  import matplotlib.pyplot as plt\n",
    "  from matplotlib import animation, rc\n",
    "  from IPython.display import HTML\n",
    "  from scipy.stats import describe\n",
    "\n",
    "  test_acc_history = np.load(checkpointpath + modelname + dataset + 'test_acc_history.npy')\n",
    "  target_acc_history = np.load(checkpointpath + modelname + dataset + 'target_acc_history.npy')\n",
    "  clustering_history = np.load(checkpointpath + modelname + dataset + 'clustering_history.npy')\n",
    "  clustering_history_ctrl = np.load(checkpointpath + modelname + dataset + 'clustering_history_ctrl.npy')\n",
    "  topo_history = np.load(checkpointpath + modelname + dataset + 'topo_history.npy')\n",
    "  topo_history_ctrl = np.load(checkpointpath + modelname + dataset + 'topo_history_ctrl.npy')\n",
    "  if nopref:\n",
    "    label_maps_history = np.load(checkpointpath + modelname + dataset + 'label_maps_history_nopref.npy')\n",
    "  else:\n",
    "    label_maps_history = np.load(checkpointpath + modelname + dataset + 'label_maps_history.npy')\n",
    "\n",
    "  epoch, x, y = label_maps_history.shape\n",
    "\n",
    "  target_acc_history = np.median(target_acc_history, axis=1)\n",
    "  clustering_history = np.median(clustering_history, axis=1)\n",
    "  clustering_history_ctrl = np.median(clustering_history_ctrl, axis=1)\n",
    "  \n",
    "  epochs = np.arange(epoch)\n",
    "  nans = np.nan*np.zeros(epoch)\n",
    "  acc_lines, clu_lines, clu_ctrl_lines, topo_lines, topo_ctrl_lines, den_lines = [[]], [[]], [[]], [[]], [[]], [[]]\n",
    "\n",
    "  titles = classes\n",
    "  l = len(titles)\n",
    "\n",
    "  fig = plt.figure(figsize=(12, 12)) \n",
    "  ncols, nrows = 15, 15\n",
    "  gs = gridspec.GridSpec(nrows, ncols, left=0.05, bottom=0.05, right=0.95, top=0.95, wspace=2, hspace=10)\n",
    "  plt.subplots_adjust(left=None, bottom=None, right=None, top=None, wspace=0.1, hspace=None)\n",
    "  # Add axes which can span multiple grid boxes\n",
    "  ax0 = fig.add_subplot(gs[:3, :5])\n",
    "  ax1 = fig.add_subplot(gs[:3, 5:10])\n",
    "  ax2 = fig.add_subplot(gs[:3, 10:15])\n",
    "  ax3 = fig.add_subplot(gs[3:, :15])\n",
    "\n",
    "  #plt.suptitle(modelname+' '+dataset, size=25)\n",
    "  ax0.set_title('test mse', size=20)\n",
    "  ax0.set_xlabel('epochs', size=13) \n",
    "  ax0.set_xlim(0, epoch+1)\n",
    "  \n",
    "  #ax1.set_title('clustering index', size=20)\n",
    "  ax1.set_title('cluster size', size=20)\n",
    "  ax1.set_xlabel('epochs', size=13)\n",
    "  ax1.set_xlim(0,epoch+1)\n",
    "  \n",
    "  #ax2.set_title('density index', size=20)\n",
    "  ax2.set_title('Topography', size=20)\n",
    "  ax2.set_xlabel('epochs', size=13)\n",
    "  ax2.set_xlim(0,epoch+1)\n",
    "  \n",
    "  ax3.set_title('epoch 0', size=20, y=-0.07)\n",
    "  ax3.tick_params(\n",
    "          axis='x',          # changes apply to the x-axis\n",
    "          which='both',      # both major and minor ticks are affected\n",
    "          bottom=False,      # ticks along the bottom edge are off\n",
    "          top=False,         # ticks along the top edge are off\n",
    "          labelbottom=False) # labels along the bottom edge are off\n",
    "  ax3.tick_params(\n",
    "          axis='y',          # changes apply to the x-axis\n",
    "          which='both',      # both major and minor ticks are affected\n",
    "          left=False,      # ticks along the bottom edge are off\n",
    "          right=False,         # ticks along the top edge are off\n",
    "          labelleft=False) # labels along the bottom edge are off\n",
    "  \n",
    "  MAX = np.max(label_maps_history)\n",
    "  smooth = True\n",
    "  sigma_curves = 1\n",
    "  if smooth:\n",
    "    target_acc_history = ndimage.gaussian_filter1d(target_acc_history, sigma_curves, axis=0)\n",
    "    clustering_history = ndimage.gaussian_filter1d(clustering_history, sigma_curves, axis=0)\n",
    "    clustering_history_ctrl = ndimage.gaussian_filter1d(clustering_history_ctrl, sigma_curves, axis=0)\n",
    "    topo_history = ndimage.gaussian_filter1d(topo_history, sigma_curves, axis=0)\n",
    "    topo_history_ctrl = ndimage.gaussian_filter1d(topo_history_ctrl, sigma_curves, axis=0)\n",
    "  \n",
    "  rescale = True\n",
    "  min_acc, max_acc = np.min(target_acc_history), np.max(target_acc_history)\n",
    "  min_clu = np.min((np.min(clustering_history), np.min(clustering_history_ctrl))) \n",
    "  max_clu = np.max((np.max(clustering_history), np.max(clustering_history_ctrl)))\n",
    "  min_topo = np.min((np.min(topo_history), np.min(topo_history_ctrl)))\n",
    "  max_topo = np.max((np.max(topo_history), np.max(topo_history_ctrl)))\n",
    "  if rescale:\n",
    "    target_acc_history = (target_acc_history - min_acc) / (max_acc - min_acc)\n",
    "    clustering_history = (clustering_history - min_clu) / (max_clu - min_clu)\n",
    "    clustering_history_ctrl = (clustering_history_ctrl - min_clu) / (max_clu - min_clu)\n",
    "    topo_history = (topo_history - min_topo) / (max_topo - min_topo)\n",
    "    topo_history_ctrl = (topo_history_ctrl - min_topo) / (max_topo - min_topo)\n",
    "    ax0.set_ylim(0,1.05) \n",
    "    ax1.set_ylim(0,1.05)\n",
    "    ax2.set_ylim(0,1.05)\n",
    "  else:\n",
    "    ax0.set_ylim(np.floor(min_acc), np.ceil(max_acc)) \n",
    "    ax1.set_ylim(0, np.ceil(max_clu))\n",
    "    ax2.set_ylim(min_topo, np.ceil(max_topo))\n",
    "\n",
    "  max = 9; min = 0\n",
    "  cmap = plt.get_cmap('gist_rainbow', max+1-min)\n",
    "  color = 'black'\n",
    "  # plot: accuracy\n",
    "  acc_lines[0], = ax0.plot([], [], color=color, lw=2)\n",
    "  # plot: clustering\n",
    "  clu_lines[0], = ax1.plot([], [], color=color, label='normal', lw=2)\n",
    "  # plot: clustering ctrl\n",
    "  clu_ctrl_lines[0], = ax1.plot([], [], color='gray', label='shuffled', lw=2);ax1.legend(frameon=False)\n",
    "  # plot: topo\n",
    "  topo_lines[0], = ax2.plot([], [], color=color, lw=2)\n",
    "  # plot: topo ctrl\n",
    "  topo_ctrl_lines[0], = ax2.plot([], [], color='gray', label='shuffled', lw=2)#;ax1.legend(frameon=False)\n",
    "\n",
    "  # plot: common map\n",
    "  data = label_maps_history[0]\n",
    "  images = ax3.imshow(data, alpha=0.7, cmap=plt.get_cmap(cmap), vmin = min -.5, vmax = max +.5)\n",
    "  \n",
    "  cb = plt.colorbar(images, ticks=np.arange(min, max+1), pad=0.01)\n",
    "  cb.set_ticklabels(['0', '1', '2', '3', '4', '5', '6', '7', '8', '9'])\n",
    "  cb.ax.set_ylabel('number preference', size=20)\n",
    "  \n",
    "  # initialization function: plot the background of each frame\n",
    "  def init():\n",
    "    acc_lines[0].set_data([], [])\n",
    "    clu_lines[0].set_data([], [])\n",
    "    clu_ctrl_lines[0].set_data([], [])\n",
    "    topo_lines[0].set_data([], [])\n",
    "    topo_ctrl_lines[0].set_data([], [])\n",
    "    images.set_array(label_maps_history[0])\n",
    "    return acc_lines+clu_lines+clu_ctrl_lines+topo_lines+topo_ctrl_lines+[images]\n",
    "  \n",
    "  # animation function. This is called sequentially  \n",
    "  def animate(t):\n",
    "    ax3.clear()\n",
    "    ax3.set_title('epoch '+str(t), size=20, y=-0.07)\n",
    "    acc_lines[0].set_data(epochs[:t+1], target_acc_history[:t+1])\n",
    "    clu_lines[0].set_data(epochs[:t+1], clustering_history[:t+1])\n",
    "    clu_ctrl_lines[0].set_data(epochs[:t+1], clustering_history_ctrl[:t+1])\n",
    "    topo_lines[0].set_data(epochs[:t+1], topo_history[:t+1])\n",
    "    topo_ctrl_lines[0].set_data(epochs[:t+1], topo_history_ctrl[:t+1])\n",
    "    update_data = label_maps_history[t]\n",
    "    update_data = gaussian_filter(update_data, sigma = S_map)\n",
    "    images = ax3.imshow(masked_array(update_data, update_data < 0), alpha=0.7, cmap=plt.get_cmap(cmap), vmin = min -.5, vmax = max +.5)\n",
    "    return acc_lines+clu_lines+clu_ctrl_lines+topo_lines+topo_ctrl_lines+[images]\n",
    "\n",
    "  frames = np.min((100, epoch))\n",
    "  anim = animation.FuncAnimation(fig, animate, init_func=init, frames=frames, interval=100, blit=True)\n",
    "\n",
    "  if save:\n",
    "    anim.save(filename='history_monitor_'+modelname+'_'+dataset+'.mp4', fps=5, dpi=300)\n",
    "\n",
    "  # Note: below is the part which makes it work on Colab\n",
    "  rc('animation', html='jshtml')\n",
    "  return anim"
   ]
  },
  {
   "cell_type": "code",
   "execution_count": null,
   "metadata": {
    "colab": {
     "base_uri": "https://localhost:8080/",
     "height": 1000
    },
    "collapsed": false,
    "id": "tgX6DFn_teTA",
    "outputId": "518179ef-42cf-4d3c-b04f-7b13422b7e06"
   },
   "outputs": [
    {
     "name": "stdout",
     "output_type": "stream",
     "text": [
      "class_acc_history.shape (21, 10)\n",
      "class_grid_history.shape (21, 10, 32, 32)\n",
      "n_epochs,n_classes,x,y 21 10 32 32\n",
      "analyzing data from epoch 0\n",
      "analyzing data from epoch 1\n",
      "analyzing data from epoch 2\n",
      "analyzing data from epoch 3\n",
      "analyzing data from epoch 4\n",
      "analyzing data from epoch 5\n",
      "analyzing data from epoch 6\n",
      "analyzing data from epoch 7\n",
      "analyzing data from epoch 8\n",
      "analyzing data from epoch 9\n"
     ]
    },
    {
     "name": "stderr",
     "output_type": "stream",
     "text": [
      "/usr/local/lib/python3.7/dist-packages/ipykernel_launcher.py:63: RuntimeWarning: invalid value encountered in true_divide\n",
      "/usr/local/lib/python3.7/dist-packages/ipykernel_launcher.py:63: RuntimeWarning: divide by zero encountered in true_divide\n"
     ]
    },
    {
     "name": "stdout",
     "output_type": "stream",
     "text": [
      "analyzing data from epoch 10\n",
      "analyzing data from epoch 11\n",
      "analyzing data from epoch 12\n",
      "analyzing data from epoch 13\n",
      "analyzing data from epoch 14\n",
      "analyzing data from epoch 15\n",
      "analyzing data from epoch 16\n",
      "analyzing data from epoch 17\n",
      "analyzing data from epoch 18\n",
      "analyzing data from epoch 19\n",
      "analyzing data from epoch 20\n",
      "label_maps_history.shape, min, max (21, 32, 32) -1.0 9.0\n",
      "test_acc_history.shape (51,)\n",
      "target_acc_history.shape (21,)\n",
      "label_maps_history.shape (21, 32, 32)\n",
      "clustering_history.shape (21,)\n",
      "clustering_history_ctrl.shape (21,)\n",
      "topo_history.shape (21,)\n",
      "topo_history_ctrl.shape (21,)\n",
      "topo_history [0.68611886 0.7101135  0.68073187 0.65294436 0.62676056 0.63926136\n",
      " 0.65956399 0.62599852 0.628459   0.63522564 0.60084187 0.58662664\n",
      " 0.59186508 0.57667034 0.56408991 0.58709971 0.56442024 0.55035501\n",
      " 0.57823741 0.55733333 0.55476632]\n",
      "topo_history_ctrl [0.68248245 0.70564758 0.68146072 0.65677585 0.63239292 0.63397488\n",
      " 0.66209009 0.63152787 0.63128967 0.63038647 0.59743257 0.58699511\n",
      " 0.59128271 0.57592431 0.56420275 0.58738069 0.56213532 0.54785039\n",
      " 0.57448374 0.54960391 0.54889039]\n",
      "clustering_history [1.42873239 2.08217092 1.72596899 1.57061404 1.075      1.36458333\n",
      " 1.57003375 1.71296296 1.58057029 1.93923611 1.97032828 2.04365809\n",
      " 2.13375295 2.11981033 2.24795082 2.19266917 2.06722222 2.10160819\n",
      " 2.31712329 2.07986044 2.18110395]\n",
      "clustering_history_ctrl [0.7269294  1.0238162  0.81134732 0.7397614  0.55012045 0.62724603\n",
      " 0.76662148 0.78084904 0.70137525 0.87847976 0.89884855 0.88149716\n",
      " 0.94924846 0.97719342 0.96656145 0.96383449 0.96819664 0.98804952\n",
      " 1.04356583 0.96073846 0.98069103]\n",
      "describe(clustering_history) DescribeResult(nobs=21, minmax=(1.075, 2.317123287671233), mean=1.8811885958039372, variance=0.11452986914095431, skewness=-0.7836627764058605, kurtosis=-0.3971303472547816)\n",
      "class_acc_history.shape (21, 10)\n",
      "class_grid_history.shape (21, 10, 32, 32)\n",
      "n_epochs,n_classes,x,y 21 10 32 32\n",
      "analyzing data from epoch 0\n",
      "analyzing data from epoch 1\n",
      "analyzing data from epoch 2\n",
      "analyzing data from epoch 3\n",
      "analyzing data from epoch 4\n",
      "analyzing data from epoch 5\n",
      "analyzing data from epoch 6\n",
      "analyzing data from epoch 7\n",
      "analyzing data from epoch 8\n",
      "analyzing data from epoch 9\n"
     ]
    },
    {
     "name": "stderr",
     "output_type": "stream",
     "text": [
      "/usr/local/lib/python3.7/dist-packages/ipykernel_launcher.py:63: RuntimeWarning: invalid value encountered in true_divide\n",
      "/usr/local/lib/python3.7/dist-packages/ipykernel_launcher.py:63: RuntimeWarning: divide by zero encountered in true_divide\n"
     ]
    },
    {
     "name": "stdout",
     "output_type": "stream",
     "text": [
      "analyzing data from epoch 10\n",
      "analyzing data from epoch 11\n",
      "analyzing data from epoch 12\n",
      "analyzing data from epoch 13\n",
      "analyzing data from epoch 14\n",
      "analyzing data from epoch 15\n",
      "analyzing data from epoch 16\n",
      "analyzing data from epoch 17\n",
      "analyzing data from epoch 18\n",
      "analyzing data from epoch 19\n",
      "analyzing data from epoch 20\n",
      "label_maps_history.shape, min, max (21, 32, 32) -1.0 9.0\n",
      "test_acc_history.shape (51,)\n",
      "target_acc_history.shape (21,)\n",
      "label_maps_history.shape (21, 32, 32)\n",
      "clustering_history.shape (21,)\n",
      "clustering_history_ctrl.shape (21,)\n",
      "topo_history.shape (21,)\n",
      "topo_history_ctrl.shape (21,)\n",
      "topo_history [0.83704013 0.68565341 0.69537815 0.61771117 0.5814194  0.57295882\n",
      " 0.5814203  0.57947531 0.5525838  0.55469858 0.56374827 0.54583921\n",
      " 0.54187587 0.57891587 0.55226308 0.56322359 0.53207308 0.54529197\n",
      " 0.54749273 0.54582726 0.54233163]\n",
      "topo_history_ctrl [0.82754419 0.67844558 0.68142603 0.60948153 0.56312059 0.55077748\n",
      " 0.57372697 0.56497654 0.54430398 0.54767986 0.55058421 0.53248121\n",
      " 0.50053718 0.56987221 0.54074154 0.54596394 0.51057931 0.52022085\n",
      " 0.52292119 0.5188062  0.51924616]\n",
      "clustering_history [1.40972222 2.11451829 3.14683116 3.78363636 2.33019362 2.62285714\n",
      " 3.45568562 2.9255814  3.04756098 2.83974359 2.90833333 3.19556714\n",
      " 3.175      2.78121059 3.10807453 2.72254169 2.34719888 2.68023088\n",
      " 2.55154072 2.6192185  2.72251846]\n",
      "clustering_history_ctrl [0.57909559 1.04706699 0.85374148 0.79458486 0.77381746 0.8432611\n",
      " 0.87322954 0.94775412 1.041953   0.93887032 0.93713514 0.90532881\n",
      " 0.91405425 1.01248418 1.00210325 0.89615324 0.90706498 0.93896692\n",
      " 0.97088993 0.96013445 0.9585279 ]\n",
      "describe(clustering_history) DescribeResult(nobs=21, minmax=(1.4097222222222223, 3.7836363636363632), mean=2.7851316714488323, variance=0.24882467145806256, skewness=-0.6503820972796097, kurtosis=1.3637641442403243)\n",
      "class_acc_history.shape (21, 10)\n",
      "class_grid_history.shape (21, 10, 32, 32)\n",
      "n_epochs,n_classes,x,y 21 10 32 32\n",
      "analyzing data from epoch 0\n",
      "analyzing data from epoch 1\n",
      "analyzing data from epoch 2\n",
      "analyzing data from epoch 3\n",
      "analyzing data from epoch 4\n",
      "analyzing data from epoch 5\n",
      "analyzing data from epoch 6\n",
      "analyzing data from epoch 7\n",
      "analyzing data from epoch 8\n",
      "analyzing data from epoch 9\n"
     ]
    },
    {
     "name": "stderr",
     "output_type": "stream",
     "text": [
      "/usr/local/lib/python3.7/dist-packages/ipykernel_launcher.py:63: RuntimeWarning: divide by zero encountered in true_divide\n",
      "/usr/local/lib/python3.7/dist-packages/ipykernel_launcher.py:63: RuntimeWarning: invalid value encountered in true_divide\n",
      "/usr/local/lib/python3.7/dist-packages/numpy/core/fromnumeric.py:87: RuntimeWarning: invalid value encountered in reduce\n",
      "  return ufunc.reduce(obj, axis, dtype, out, **passkwargs)\n"
     ]
    },
    {
     "name": "stdout",
     "output_type": "stream",
     "text": [
      "analyzing data from epoch 10\n",
      "analyzing data from epoch 11\n",
      "analyzing data from epoch 12\n",
      "analyzing data from epoch 13\n",
      "analyzing data from epoch 14\n",
      "analyzing data from epoch 15\n",
      "analyzing data from epoch 16\n",
      "analyzing data from epoch 17\n",
      "analyzing data from epoch 18\n",
      "analyzing data from epoch 19\n",
      "analyzing data from epoch 20\n",
      "label_maps_history.shape, min, max (21, 32, 32) -1.0 9.0\n",
      "test_acc_history.shape (51,)\n",
      "target_acc_history.shape (21,)\n",
      "label_maps_history.shape (21, 32, 32)\n",
      "clustering_history.shape (21,)\n",
      "clustering_history_ctrl.shape (21,)\n",
      "topo_history.shape (21,)\n",
      "topo_history_ctrl.shape (21,)\n",
      "topo_history [0.79432714 0.68114212 0.67247491 0.62941586 0.64794365 0.63190746\n",
      " 0.61111299 0.60657718 0.61932718 0.59407806 0.6335335  0.63281451\n",
      " 0.59599868 0.59561081 0.57838435 0.5788553  0.5729426  0.58068493\n",
      " 0.5803228  0.57575758 0.57083333]\n",
      "topo_history_ctrl [0.7942605  0.6738832  0.65460285 0.59008564 0.6161118  0.59792619\n",
      " 0.56792974 0.57021964 0.57211309 0.55653061 0.59074088 0.58195461\n",
      " 0.55951534 0.55995968 0.55118494 0.55172383 0.53790495 0.54613482\n",
      " 0.54203553 0.54793536 0.54121526]\n",
      "clustering_history [1.28774929 2.23446328 2.11519608 2.83333333 2.86094225 2.74909091\n",
      " 2.96383799 3.12820513 3.04886364 3.08317215 3.27874332 3.17327586\n",
      " 3.36726998 3.1        3.25378151 3.23477298 3.03149351 3.06491597\n",
      " 3.08625477 3.24702381 3.19593891]\n",
      "clustering_history_ctrl [0.61340994 0.96826475 0.67475144 0.84638624 0.97213175 0.9072386\n",
      " 1.03869401 1.01284534 0.97729694 1.02509411 1.09953458 1.02103344\n",
      " 0.87652991 0.93733518 0.93757794 0.87216007 0.90546761 0.89436792\n",
      " 0.91311972 0.94822177 0.91056337]\n",
      "describe(clustering_history) DescribeResult(nobs=21, minmax=(1.2877492877492878, 3.3672699849170438), mean=2.9208726028417606, variance=0.23952771318777302, skewness=-2.1432283147676894, kurtosis=4.194202402812221)\n",
      "class_acc_history.shape (21, 10)\n",
      "class_grid_history.shape (21, 10, 32, 32)\n",
      "n_epochs,n_classes,x,y 21 10 32 32\n",
      "analyzing data from epoch 0\n",
      "analyzing data from epoch 1\n",
      "analyzing data from epoch 2\n",
      "analyzing data from epoch 3\n",
      "analyzing data from epoch 4\n",
      "analyzing data from epoch 5\n",
      "analyzing data from epoch 6\n",
      "analyzing data from epoch 7\n",
      "analyzing data from epoch 8\n",
      "analyzing data from epoch 9\n",
      "analyzing data from epoch 10\n"
     ]
    },
    {
     "name": "stderr",
     "output_type": "stream",
     "text": [
      "/usr/local/lib/python3.7/dist-packages/ipykernel_launcher.py:63: RuntimeWarning: invalid value encountered in true_divide\n",
      "/usr/local/lib/python3.7/dist-packages/ipykernel_launcher.py:63: RuntimeWarning: divide by zero encountered in true_divide\n"
     ]
    },
    {
     "name": "stdout",
     "output_type": "stream",
     "text": [
      "analyzing data from epoch 11\n",
      "analyzing data from epoch 12\n",
      "analyzing data from epoch 13\n",
      "analyzing data from epoch 14\n",
      "analyzing data from epoch 15\n",
      "analyzing data from epoch 16\n",
      "analyzing data from epoch 17\n",
      "analyzing data from epoch 18\n",
      "analyzing data from epoch 19\n",
      "analyzing data from epoch 20\n",
      "label_maps_history.shape, min, max (21, 32, 32) -1.0 9.0\n",
      "test_acc_history.shape (51,)\n",
      "target_acc_history.shape (21,)\n",
      "label_maps_history.shape (21, 32, 32)\n",
      "clustering_history.shape (21,)\n",
      "clustering_history_ctrl.shape (21,)\n",
      "topo_history.shape (21,)\n",
      "topo_history_ctrl.shape (21,)\n",
      "topo_history [0.78738777 0.66071219 0.65       0.65441176 0.63758054 0.66703244\n",
      " 0.65258512 0.64204692 0.63330153 0.6347101  0.63286115 0.6332245\n",
      " 0.65997874 0.6381538  0.63637359 0.63484707 0.63442597 0.63105146\n",
      " 0.624375   0.62501584 0.61232417]\n",
      "topo_history_ctrl [0.76674376 0.64647728 0.6325897  0.61615236 0.60570517 0.61044744\n",
      " 0.60542713 0.5965553  0.59390285 0.58781785 0.596831   0.59147801\n",
      " 0.6276695  0.60283896 0.59306464 0.59273958 0.58976956 0.58523062\n",
      " 0.57579841 0.5827603  0.57602025]\n",
      "clustering_history [1.32142857 2.45099819 3.41435185 3.87571429 3.60714286 3.61175711\n",
      " 3.89172078 4.13419118 3.49181669 3.16690375 3.29356271 3.35758514\n",
      " 2.81318681 3.46347518 3.34090909 3.22376631 3.02457627 3.22649573\n",
      " 3.26118421 3.10779696 2.82718579]\n",
      "clustering_history_ctrl [0.62790567 0.93334409 1.12644658 1.24410739 1.27782272 1.24105464\n",
      " 1.28706428 1.20870649 1.14003922 0.96895821 1.08308079 1.09107287\n",
      " 1.08792233 0.94178412 1.0230132  1.06256758 1.00092442 0.96986085\n",
      " 0.995535   0.98304258 0.99567979]\n",
      "describe(clustering_history) DescribeResult(nobs=21, minmax=(1.3214285714285714, 4.134191176470588), mean=3.2336071168779017, variance=0.33986833599715977, skewness=-1.6029247953769803, kurtosis=3.758149090279767)\n"
     ]
    },
    {
     "data": {
      "image/png": "[encoded data removed]",
      "text/plain": [
       "<Figure size 864x864 with 5 Axes>"
      ]
     },
     "metadata": {
      "needs_background": "light"
     },
     "output_type": "display_data"
    },
    {
     "data": {
      "image/png": "[encoded data removed]",
      "text/plain": [
       "<Figure size 864x864 with 5 Axes>"
      ]
     },
     "metadata": {
      "needs_background": "light"
     },
     "output_type": "display_data"
    },
    {
     "data": {
      "image/png": "[encoded data removed]",
      "text/plain": [
       "<Figure size 864x864 with 5 Axes>"
      ]
     },
     "metadata": {
      "needs_background": "light"
     },
     "output_type": "display_data"
    },
    {
     "data": {
      "image/png": "[encoded data removed]",
      "text/plain": [
       "<Figure size 864x864 with 5 Axes>"
      ]
     },
     "metadata": {
      "needs_background": "light"
     },
     "output_type": "display_data"
    }
   ],
   "source": [
    "checkpointpath = '/content/drive/MyDrive/ColabNotebooks/'\n",
    "modelnames = ['ResetNumber1','ResetNumber2','ResetNumber4','ResetNumber8']\n",
    "datasets = 4*['Numbers10']\n",
    "\n",
    "#modelnames = ['ResetNumber1']\n",
    "#datasets = ['Numbers10']\n",
    "classes = ['0', '1', '2', '3', '4', '5', '6', '7', '8', '9'];lc=len(classes)\n",
    "threshold = 2\n",
    "smoothing = 0\n",
    "map_smoothing = 0.\n",
    "nopref = True\n",
    "for i, (modelname, dataset) in enumerate(zip(modelnames, datasets)): \n",
    "  compute_save_metrics2(modelname=modelname, dataset=dataset, T=threshold, S=smoothing, nopref=nopref)\n",
    "  animate_numerosity(T=threshold, S_map = map_smoothing, nopref=nopref)\n"
   ]
  },
  {
   "cell_type": "markdown",
   "metadata": {
    "id": "XCIAjHwbAbsZ"
   },
   "source": [
    "# Conclusions"
   ]
  },
  {
   "cell_type": "markdown",
   "metadata": {
    "id": "bkHnANdLwiPw"
   },
   "source": [
    "Is there topography for numbers ? <br>\n",
    "Yes. In these networks:<br>\n",
    "1. Units with the same number preference are more likely than chance to be connected on the map (quantified with clustering index).<br>\n",
    "2. Units with similar number preferences cluster together on the map (quantified with topography index).<br>\n",
    "3. Clustering increases with the number of subnetworks. Subnetworks appear to specialize in different numbers."
   ]
  }
 ],
 "metadata": {
  "colab": {
   "collapsed_sections": [],
   "machine_shape": "hm",
   "name": "Reset Networks - Number topography.ipynb",
   "provenance": []
  },
  "kernelspec": {
   "display_name": "Python 3",
   "name": "python3"
  }
 },
 "nbformat": 4,
 "nbformat_minor": 0
}
