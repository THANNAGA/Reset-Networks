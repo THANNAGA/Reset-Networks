{
  "nbformat": 4,
  "nbformat_minor": 0,
  "metadata": {
    "accelerator": "GPU",
    "colab": {
      "name": "Reset Networks - Number topography.ipynb",
      "provenance": [],
      "collapsed_sections": [],
      "machine_shape": "hm"
    },
    "kernelspec": {
      "display_name": "Python 3",
      "name": "python3"
    }
  },
  "cells": [
    {
      "cell_type": "markdown",
      "metadata": {
        "id": "n53Dkv-KLoeP"
      },
      "source": [
        "# Reset networks - number topography\n",
        "**Objective**\n",
        "\n",
        "Demonstrate the emergence of topography for numbers - numerotopy\n",
        "\n",
        "**Means**\n",
        "\n",
        "Reset network <br>\n",
        "Number codes as distributed labels (random matrix theory) <br>"
      ]
    },
    {
      "cell_type": "markdown",
      "metadata": {
        "id": "EpUlyU5RbvsB"
      },
      "source": [
        "<img src = 'https://drive.google.com/uc?id=1iOo8GxRLoeGgA3Od8MMK8KWFomya1PNM' width=700px>\n"
      ]
    },
    {
      "cell_type": "markdown",
      "metadata": {
        "id": "NdQPjJ7YQfin"
      },
      "source": [
        "*Figure 1.(A) Reset Networks approach the visual cortex as a sequence of levels that realize different topographic spaces. Each level consists in a grid of deep neural networks shares the entire input from the level below. The output of the grid then becomes the input to the grid of networks at the next level.**(B)** A 2-fold NS network as a model of the ventral occipitotemporal cortex. When trained on the CIFAR 100 dataset augmented with words, categorical areas appear at level 1 of the NS.*"
      ]
    },
    {
      "cell_type": "code",
      "metadata": {
        "colab": {
          "base_uri": "https://localhost:8080/"
        },
        "id": "YGz5Bsqt_oe-",
        "outputId": "28bea64d-3f52-4a83-b7f1-d9a832e6e611"
      },
      "source": [
        "from google.colab import drive\n",
        "drive.mount('/content/drive')"
      ],
      "execution_count": null,
      "outputs": [
        {
          "output_type": "stream",
          "text": [
            "Drive already mounted at /content/drive; to attempt to forcibly remount, call drive.mount(\"/content/drive\", force_remount=True).\n"
          ],
          "name": "stdout"
        }
      ]
    },
    {
      "cell_type": "code",
      "metadata": {
        "colab": {
          "base_uri": "https://localhost:8080/"
        },
        "id": "fDyaqHopQKX0",
        "outputId": "3883fec7-31e7-4794-eb85-4a5dc4adf7ac"
      },
      "source": [
        "drive.mount(\"/content/drive\", force_remount=True)"
      ],
      "execution_count": null,
      "outputs": [
        {
          "output_type": "stream",
          "text": [
            "Mounted at /content/drive\n"
          ],
          "name": "stdout"
        }
      ]
    },
    {
      "cell_type": "code",
      "metadata": {
        "colab": {
          "base_uri": "https://localhost:8080/"
        },
        "id": "-dBrA_-ck766",
        "outputId": "20919ce5-dd1d-43ab-de89-3eb0ca400871"
      },
      "source": [
        "import torch\n",
        "import torch.nn as nn\n",
        "import torch.nn.functional as F\n",
        "from torch.autograd import Variable\n",
        "\n",
        "import torchvision\n",
        "import torchvision.transforms as transforms\n",
        "import torch.optim as optim\n",
        "\n",
        "from PIL import Image\n",
        "import time\n",
        "import numpy as np\n",
        "from numpy.ma import masked_array\n",
        "from scipy import ndimage\n",
        "from scipy.signal import convolve2d as conv\n",
        "from scipy.ndimage import gaussian_filter\n",
        "import matplotlib.pyplot as plt\n",
        "import matplotlib.patches as patches\n",
        "from matplotlib.patches import Rectangle\n",
        "from matplotlib import gridspec\n",
        "import sys, math\n",
        "import pandas as pd\n",
        "from sklearn.utils import shuffle\n",
        "import cv2\n",
        "\n",
        "!pip install einops\n",
        "sys.path.insert(0,'/content/drive/MyDrive/ColabNotebooks/')\n",
        "from vit_pytorch import ViT, ViT_rec\n",
        "from resnet import resnetSmall, resnet18, resnet34, resnet50, resnet101, resnet152 \n",
        "from resnet_CIFAR10 import resnet20, hresnet20reg"
      ],
      "execution_count": null,
      "outputs": [
        {
          "output_type": "stream",
          "text": [
            "Requirement already satisfied: einops in /usr/local/lib/python3.7/dist-packages (0.3.0)\n"
          ],
          "name": "stdout"
        }
      ]
    },
    {
      "cell_type": "code",
      "metadata": {
        "id": "RjT8uSonOv70"
      },
      "source": [
        "checkpointpath = '/content/drive/MyDrive/ColabNotebooks/'\n",
        "modelname = 'ResNet20'#'ResetNumber8'\n",
        "dataset = 'Numbers10'\n",
        "train_batchsize = 100\n",
        "test_batchsize = 100\n",
        "classes = ['0', '1', '2', '3', '4', '5', '6', '7', '8', '9']\n",
        "use_cuda = True\n",
        "gridsize = 8\n",
        "n_classes1 = 4*4#16*16#8*8#32*32#400#36#100\n",
        "n_classes = 100\n",
        "lrate = 0.001\n",
        "drop_rate = 0.5\n",
        "input_channels = 3\n",
        "load_model = False\n",
        "load_submodels = False\n",
        "epochs = 50"
      ],
      "execution_count": null,
      "outputs": []
    },
    {
      "cell_type": "markdown",
      "metadata": {
        "id": "rL8HumqbE-eC"
      },
      "source": [
        "Transforms for data augmentation"
      ]
    },
    {
      "cell_type": "code",
      "metadata": {
        "id": "ZpM_i-WtDCBz"
      },
      "source": [
        "augment_data = False\n",
        "if augment_data: \n",
        "    transform = transforms.Compose(\n",
        "      [transforms.RandomCrop(32, padding=4),\n",
        "      transforms.RandomHorizontalFlip(),\n",
        "      transforms.ToTensor(),\n",
        "      transforms.Normalize((0.5071, 0.4867, 0.4408), (0.2675, 0.2565, 0.2761))])\n",
        "    \n",
        "    transform_w = transforms.Compose(\n",
        "      [transforms.RandomCrop(32, padding=4),\n",
        "      transforms.RandomHorizontalFlip(),\n",
        "      transforms.ToTensor(),\n",
        "      transforms.Normalize((0, 0, 0), (1, 1, 1))])\n",
        "else: \n",
        "    transform = transforms.Compose(\n",
        "      [transforms.ToTensor(),\n",
        "       transforms.Normalize((0.5071, 0.4867, 0.4408), (0.2675, 0.2565, 0.2761))])\n",
        "    transform_w = transforms.Compose(\n",
        "      [transforms.ToTensor(),\n",
        "       transforms.Normalize((0, 0, 0), (1, 1, 1))])"
      ],
      "execution_count": null,
      "outputs": []
    },
    {
      "cell_type": "markdown",
      "metadata": {
        "id": "bUom9_JDzv3n"
      },
      "source": [
        "# Creating the number dataset (skip if already loaded)"
      ]
    },
    {
      "cell_type": "markdown",
      "metadata": {
        "id": "X1xGkgSgD1tG"
      },
      "source": [
        "Create number dataset: \n",
        "X = images in 3 x 32 x 32 format<br>\n",
        "Y = number codes - [Hannagan et al. (2018)](https://royalsocietypublishing.org/doi/10.1098/rstb.2017.0253)<br>"
      ]
    },
    {
      "cell_type": "code",
      "metadata": {
        "id": "eWKgtcZpGcBK"
      },
      "source": [
        "from PIL import Image, ImageDraw, ImageFont, ImageFile\n",
        "def numbers_to_images(shuffle=True, text=None, numex=1, dimx = 32, dimy = 32, size=8, show=False):\n",
        "    nw_array = np.zeros((6*12*9, 3, dimx, dimy))   #6x, 24y, 9fonts\n",
        "    fontnames = ['arial', 'lato', 'openSans', 'ostrich', 'oswald', 'PTN57F', 'raleway', 'roboto', 'tahoma']\n",
        "    i = 0\n",
        "    for xshift in np.arange(-3,3):\n",
        "      for yshift in np.arange(-6,6):\n",
        "        for fontname in fontnames:\n",
        "          if len(text) == 1:\n",
        "            size = np.random.randint(15,20)\n",
        "\n",
        "          text = text.upper()\n",
        "\n",
        "          img = Image.new(\"RGB\", (dimx,dimy), color = (255, 255, 255))\n",
        "          fnt = ImageFont.truetype(checkpointpath+fontname+'.ttf', size) #size in pixels\n",
        "          draw = ImageDraw.Draw(img)\n",
        "          w, h = fnt.getsize(text)\n",
        "          draw.text((xshift + (dimx-w)/2, yshift + (dimy-h)/2), text, font=fnt, fill='black')\n",
        "\n",
        "          if show:\n",
        "              print ('was here')\n",
        "              plt.imshow(img);plt.show()\n",
        "          nw_array[i] = np.moveaxis(np.array(img), 2, 0)\n",
        "          if np.mean(nw_array[i]) == 255.0:\n",
        "            print ('xshift, yshift, text, fontname', xshift, yshift, text, fontname)\n",
        "            return 'issue'\n",
        "          i += 1\n",
        "\n",
        "    if shuffle:\n",
        "      np.random.shuffle(nw_array)\n",
        "    return nw_array[:numex]\n",
        "\n",
        "def numbers_to_vectors(number_codes=None, number_id=0, numex=1):\n",
        "    number_vector = number_codes[number_id, 0]\n",
        "    number_vectors = np.repeat(np.expand_dims(number_vector, axis=0), numex, axis=0)\n",
        "    return number_vectors\n",
        "\n",
        "def numbers_to_labels(number_id=0, numex=1):\n",
        "    number_vector = number_codes[number_id, 0]\n",
        "    number_labels = number_id*np.ones(numex)\n",
        "    return number_labels"
      ],
      "execution_count": null,
      "outputs": []
    },
    {
      "cell_type": "code",
      "metadata": {
        "colab": {
          "base_uri": "https://localhost:8080/"
        },
        "id": "PiygYJt-D-cz",
        "outputId": "ba04578e-514a-4917-ae72-bf3d59c377d3"
      },
      "source": [
        "number_list = ['0', '1', '2', '3', '4', '5', '6', '7', '8', '9']\n",
        "np.save(checkpointpath + \"number_classes.npy\", number_list)\n",
        "\n",
        "#number_codes = np.load(checkpointpath + \"Numbers_num40_dim100.npy\")\n",
        "number_codes = np.load(checkpointpath + \"Numbers_stable.npy\");number_codes = np.expand_dims(number_codes, axis=1)\n",
        "print ('number_codes.shape', number_codes.shape)\n",
        "def create_number_dataset(dimx=32, dimy=32, dimn=100, number_list=None, numex=600):\n",
        "  \n",
        "  n = len(number_list)\n",
        "  num_train = 500\n",
        "  num_test = 100\n",
        "\n",
        "  X_train = np.zeros((n*num_train, 3, dimx, dimy))\n",
        "  Y1_train = np.zeros((n*num_train, dimn))\n",
        "  Y2_train = np.zeros(n*num_train)\n",
        "\n",
        "  X_test = np.zeros((n*num_test, 3, dimx, dimy))\n",
        "  Y1_test = np.zeros((n*num_test, dimn))\n",
        "  Y2_test = np.zeros(n*num_test)\n",
        "\n",
        "\n",
        "  # Calculate input image and p_vector\n",
        "  for i, number in enumerate(number_list):\n",
        "    number_matrices = numbers_to_images(text=number, size=10, numex=numex)\n",
        "    number_vectors = numbers_to_vectors(number_codes = number_codes, number_id=i, numex=numex)\n",
        "    number_labels = numbers_to_labels(number_id=i, numex=numex)\n",
        "    \n",
        "    X_train[i*num_train : (i+1)*num_train] = number_matrices[:num_train]\n",
        "    Y1_train[i*num_train : (i+1)*num_train] = number_vectors[:num_train]\n",
        "    Y2_train[i*num_train : (i+1)*num_train] = number_labels[:num_train]\n",
        "\n",
        "    X_test[i*num_test : (i+1)*num_test] = number_matrices[-num_test:]\n",
        "    Y1_test[i*num_test : (i+1)*num_test]= number_vectors[-num_test:]\n",
        "    Y2_test[i*num_test : (i+1)*num_test] = number_labels[:num_test]\n",
        "  \n",
        "  # print shapes\n",
        "  print ('X_train.shape', X_train.shape)\n",
        "  print ('Y1_train.shape', Y1_train.shape)\n",
        "  print ('Y2_train.shape', Y2_train.shape)\n",
        "\n",
        "  print ('X_test.shape', X_test.shape)\n",
        "  print ('Y1_test.shape', Y1_test.shape)\n",
        "  print ('Y2_test.shape', Y2_test.shape)\n",
        "\n",
        "  # save datasets\n",
        "  np.save(checkpointpath + \"number_images_train.npy\", X_train)\n",
        "  np.save(checkpointpath + \"number_codes_train.npy\", Y1_train)\n",
        "  np.save(checkpointpath + \"number_labels_train.npy\", Y2_train)\n",
        "\n",
        "  np.save(checkpointpath + \"number_images_test.npy\", X_test)\n",
        "  np.save(checkpointpath + \"number_codes_test.npy\", Y1_test)  \n",
        "  np.save(checkpointpath + \"number_labels_test.npy\", Y2_test)\n",
        "  \n",
        "  return X_train, Y1_train, Y2_train, X_test, Y1_test, Y2_test\n",
        "\n",
        "create_sym_dataset = False\n",
        "if create_sym_dataset:\n",
        "  X_train, Y1_train, Y2_train, X_test, Y1_test, Y2_test = create_number_dataset(number_list=number_list, numex=1100)"
      ],
      "execution_count": null,
      "outputs": [
        {
          "output_type": "stream",
          "text": [
            "number_codes.shape (21, 1, 100)\n"
          ],
          "name": "stdout"
        }
      ]
    },
    {
      "cell_type": "markdown",
      "metadata": {
        "id": "2UARZOt_Fcek"
      },
      "source": [
        "Load dataset: Numbers 10 - custom loading"
      ]
    },
    {
      "cell_type": "code",
      "metadata": {
        "colab": {
          "base_uri": "https://localhost:8080/"
        },
        "id": "n5FaZRX1e5CV",
        "outputId": "e2469345-6b85-4eeb-8fae-ed2cba2dd745"
      },
      "source": [
        "from torch.utils.data import Dataset\n",
        "class SymbolDataset(Dataset):\n",
        "    def __init__(self, X, Y, transform=None):\n",
        "        self.X = X\n",
        "        self.Y = Y\n",
        "        self.transform = transform\n",
        "\n",
        "    def __len__(self):\n",
        "        return len(self.Y)\n",
        "\n",
        "    def __getitem__(self, index):\n",
        "        if self.transform:\n",
        "          #sample = Image.fromarray(self.X[index])\n",
        "          #sample = self.transform(sample)\n",
        "          sample = self.transform(self.X[index])\n",
        "          x = torch.tensor(sample).float()\n",
        "        else:\n",
        "          x = torch.tensor(self.X[index]).float()\n",
        "        #custom item-wise standaradizing\n",
        "        #mu = torch.mean(x, dim = (1,2), keepdim = True)\n",
        "        #sd = torch.std(x, dim = (1,2), keepdim = True)\n",
        "        #x = (x - mu)/sd\n",
        "        #x = 1-x\n",
        "        y = torch.tensor(self.Y[index]).float()\n",
        "\n",
        "        return (x/255.0, y)\n",
        "\n",
        "class SymbolDataset2(Dataset):\n",
        "    def __init__(self, X, Y1, Y2, transform=None):\n",
        "        self.X = X\n",
        "        self.Y1 = Y1\n",
        "        self.Y2 = Y2\n",
        "        self.transform = transform\n",
        "\n",
        "    def __len__(self):\n",
        "        return len(self.Y2)\n",
        "\n",
        "    def __getitem__(self, index):\n",
        "        if self.transform:\n",
        "          #sample = Image.fromarray(self.X[index])\n",
        "          #sample = self.transform(sample)\n",
        "          sample = self.transform(self.X[index])\n",
        "          x = torch.tensor(sample).float()\n",
        "        else:\n",
        "          x = torch.tensor(self.X[index]).float()\n",
        "        #custom item-wise standaradizing\n",
        "        #mu = torch.mean(x, dim = (1,2), keepdim = True)\n",
        "        #sd = torch.std(x, dim = (1,2), keepdim = True)\n",
        "        #x = (x - mu)/sd\n",
        "        #x = 1-x\n",
        "        y1 = torch.tensor(self.Y1[index]).float()\n",
        "        y2 = torch.tensor(self.Y2[index]).float()\n",
        "\n",
        "        return (x/255.0, y1, y2)\n",
        "\n",
        "\n",
        "train_x = np.load(checkpointpath + \"number_images_train.npy\")\n",
        "train_y1 = np.load(checkpointpath + \"number_codes_train.npy\")\n",
        "train_y2 = np.load(checkpointpath + \"number_labels_train.npy\")\n",
        "\n",
        "test_x = np.load(checkpointpath + \"number_images_test.npy\")\n",
        "test_y1 = np.load(checkpointpath + \"number_codes_test.npy\")\n",
        "test_y2 = np.load(checkpointpath + \"number_labels_test.npy\")\n",
        "\n",
        "classes = np.load(checkpointpath + \"number_classes.npy\")\n",
        "print ('train_x.shape', train_x.shape)\n",
        "print ('test_x.shape', test_x.shape)\n",
        "train_y1 = np.array(train_y1)\n",
        "test_y1 = np.array(test_y1)\n",
        "train_y2 = np.array(train_y2, dtype='int')\n",
        "test_y2 = np.array(test_y2, dtype='int')\n",
        "\n",
        "if augment_data: \n",
        "  #train_x = np.moveaxis(train_x, 1, 3); test_x = np.moveaxis(test_x, 1, 3)\n",
        "  train_x = np.array(train_x, dtype = 'uint')\n",
        "  test_x = np.array(test_x, dtype = 'uint')\n",
        "  print ('np.shape(train_x)', np.shape(train_x))\n",
        "  print ('np.min(train_x)', np.min(train_x))\n",
        "  print ('np.max(train_x)', np.max(train_x))\n",
        "\n",
        "trainset = SymbolDataset(train_x, train_y1)#, transform=transform_w)\n",
        "testset = SymbolDataset(test_x, test_y1)\n",
        "trainset2 = SymbolDataset2(train_x, train_y1, train_y2)#, transform=transform_w)\n",
        "testset2 = SymbolDataset2(test_x, test_y1, test_y2)"
      ],
      "execution_count": null,
      "outputs": [
        {
          "output_type": "stream",
          "text": [
            "train_x.shape (5000, 3, 32, 32)\n",
            "test_x.shape (1000, 3, 32, 32)\n"
          ],
          "name": "stdout"
        }
      ]
    },
    {
      "cell_type": "markdown",
      "metadata": {
        "id": "2MrKquq_Fj3O"
      },
      "source": [
        "Dataloaders"
      ]
    },
    {
      "cell_type": "code",
      "metadata": {
        "colab": {
          "base_uri": "https://localhost:8080/"
        },
        "id": "XAtydvnh9U4R",
        "outputId": "a4002ac4-d7c6-4766-9ca7-972a93a25f49"
      },
      "source": [
        "trainloader = torch.utils.data.DataLoader(trainset, batch_size=train_batchsize, shuffle=True, num_workers=1)\n",
        "testloader = torch.utils.data.DataLoader(testset, batch_size=test_batchsize, shuffle=False, num_workers=1)\n",
        "\n",
        "lc = len(classes)\n",
        "\n",
        "class_total = np.zeros(lc)\n",
        "for ex in trainset2:\n",
        "  class_total[int(ex[2])] += 1\n",
        "weights = torch.Tensor(np.max(class_total)/np.array(class_total)).float()\n",
        "print ('number of classes:', len(weights))\n",
        "print ('weights.size():', weights.size())\n",
        "print ('weights:', weights)\n",
        "print ('Custom number dataset has been loaded')"
      ],
      "execution_count": null,
      "outputs": [
        {
          "output_type": "stream",
          "text": [
            "number of classes: 10\n",
            "weights.size(): torch.Size([10])\n",
            "weights: tensor([1., 1., 1., 1., 1., 1., 1., 1., 1., 1.])\n",
            "Custom number dataset has been loaded\n"
          ],
          "name": "stdout"
        }
      ]
    },
    {
      "cell_type": "markdown",
      "metadata": {
        "id": "Qv8GC0BoFpZm"
      },
      "source": [
        "Reality check"
      ]
    },
    {
      "cell_type": "code",
      "metadata": {
        "colab": {
          "base_uri": "https://localhost:8080/",
          "height": 597
        },
        "id": "5ZH7c5QLShyc",
        "outputId": "0f2d009e-291e-4d9f-8bbf-a7f7f78d8718"
      },
      "source": [
        "trainloader2 = torch.utils.data.DataLoader(trainset2, batch_size=train_batchsize, shuffle=True, num_workers=1)\n",
        "testloader2 = torch.utils.data.DataLoader(testset2, batch_size=test_batchsize, shuffle=False, num_workers=1)\n",
        "train_iter = iter(trainloader2)\n",
        "images, codes, labels = train_iter.next()\n",
        "for i in np.arange(5):\n",
        "  index = int(labels[i].numpy())\n",
        "  plt.subplot(2,5,i+1)\n",
        "  plt.title(classes[index])\n",
        "  plt.axis('off')\n",
        "  im = np.moveaxis(images[i].numpy(), 0,2)\n",
        "  plt.imshow(im)\n",
        "  plt.subplot(2,5,5+i+1)\n",
        "  im2 = np.reshape(codes[i], (10, 10))\n",
        "  plt.imshow(im2)\n",
        "  plt.axis('off')\n",
        "  print ('classes[index], mean:', classes[index], np.mean(im))\n",
        "plt.savefig('Symbols_10.png', dpi = 300)\n",
        "plt.show()\n",
        "print ('codes[0]', codes[0])"
      ],
      "execution_count": null,
      "outputs": [
        {
          "output_type": "stream",
          "text": [
            "classes[index], mean: 7 0.96922493\n",
            "classes[index], mean: 2 0.9645872\n",
            "classes[index], mean: 7 0.97526425\n",
            "classes[index], mean: 5 0.9620711\n",
            "classes[index], mean: 1 0.9763174\n"
          ],
          "name": "stdout"
        },
        {
          "output_type": "display_data",
          "data": {
            "image/png": "[encoded data removed]",
            "text/plain": [
              "<Figure size 432x288 with 10 Axes>"
            ]
          },
          "metadata": {
            "tags": [],
            "needs_background": "light"
          }
        },
        {
          "output_type": "stream",
          "text": [
            "codes[0] tensor([0.0000e+00, 1.4549e-02, 0.0000e+00, 6.4039e-02, 0.0000e+00, 0.0000e+00,\n",
            "        8.7235e-02, 0.0000e+00, 0.0000e+00, 0.0000e+00, 0.0000e+00, 0.0000e+00,\n",
            "        6.2763e-02, 0.0000e+00, 0.0000e+00, 6.8468e-01, 1.0000e+00, 0.0000e+00,\n",
            "        0.0000e+00, 3.2728e-01, 0.0000e+00, 0.0000e+00, 0.0000e+00, 1.8524e-01,\n",
            "        0.0000e+00, 6.1496e-01, 5.7063e-01, 0.0000e+00, 3.4843e-01, 8.1785e-02,\n",
            "        0.0000e+00, 7.7252e-02, 0.0000e+00, 1.5576e-02, 0.0000e+00, 1.9266e-01,\n",
            "        0.0000e+00, 6.6046e-02, 5.8720e-02, 0.0000e+00, 0.0000e+00, 1.1174e-02,\n",
            "        1.1362e-02, 0.0000e+00, 2.0503e-02, 2.7426e-02, 4.2481e-02, 0.0000e+00,\n",
            "        3.4780e-02, 0.0000e+00, 2.1972e-02, 0.0000e+00, 0.0000e+00, 1.3141e-01,\n",
            "        0.0000e+00, 0.0000e+00, 6.4699e-02, 0.0000e+00, 5.4347e-02, 0.0000e+00,\n",
            "        0.0000e+00, 0.0000e+00, 0.0000e+00, 0.0000e+00, 6.4207e-02, 2.4674e-02,\n",
            "        5.0919e-02, 6.7668e-03, 0.0000e+00, 6.3051e-02, 6.2625e-03, 2.7291e-02,\n",
            "        0.0000e+00, 0.0000e+00, 8.5218e-03, 6.8430e-03, 7.7994e-03, 1.0627e-02,\n",
            "        3.1981e-02, 0.0000e+00, 1.5661e-02, 1.0865e-02, 3.2841e-03, 3.2659e-02,\n",
            "        0.0000e+00, 0.0000e+00, 0.0000e+00, 0.0000e+00, 0.0000e+00, 0.0000e+00,\n",
            "        6.7425e-03, 0.0000e+00, 0.0000e+00, 0.0000e+00, 2.1657e-04, 8.9973e-03,\n",
            "        0.0000e+00, 9.6803e-03, 0.0000e+00, 0.0000e+00])\n"
          ],
          "name": "stdout"
        }
      ]
    },
    {
      "cell_type": "markdown",
      "metadata": {
        "id": "AZfqAMKThb6V"
      },
      "source": [
        "## Model"
      ]
    },
    {
      "cell_type": "code",
      "metadata": {
        "id": "E6-k78fuhfVy"
      },
      "source": [
        "# Nested classifiers for CIFAR\n",
        "class NestedCifarNoDecoder(nn.Module):\n",
        "  def __init__(self, input_channels=3, h1_1=400, gridsize=8, n_classes1=16, n_classes2=10, drop_rate=0.2):\n",
        "    super(NestedCifarNoDecoder, self).__init__()\n",
        "    self.gridsize = gridsize\n",
        "    self.n_classes1 = n_classes1\n",
        "    self.sqrt_n_classes1 = int(n_classes1**0.5)\n",
        "    self.Nest1 = nn.ModuleList([resnet20(num_channels=input_channels, num_classes=n_classes1) for i in np.arange(self.gridsize**2)])\n",
        "    self.Classifier = resnet20(num_channels=1, num_classes=n_classes2)\n",
        "    self.BN0 = nn.BatchNorm2d(num_features = 1)\n",
        "    self.dropout = nn.Dropout(drop_rate)\n",
        "    self.sigmoid = nn.Sigmoid()\n",
        "    self.tanh = nn.Tanh()\n",
        "\t\n",
        "  def forward(self, x):\n",
        "    level1 = [self.Nest1[i](x) for i in np.arange(self.gridsize**2)] #process input through all networks at level 1\n",
        "    level1 = torch.stack(level1, dim=0)\n",
        "    level1 = level1.permute(1,2,0)\n",
        "    # reshape by patch (nested list comprehension probably more elegant)\n",
        "    to_cat = []\n",
        "    for j in np.arange(self.gridsize):\n",
        "      to_cat += [torch.cat([level1[:,:,i].reshape(-1, 1, self.sqrt_n_classes1, self.sqrt_n_classes1) for i in np.arange(j*self.gridsize, (j+1)*self.gridsize)],3)]\n",
        "    grid = torch.cat(to_cat, 2)\n",
        "    #grid = self.sigmoid(grid)\n",
        "    grid = self.tanh(grid)\n",
        "    grid = self.dropout(grid)\n",
        "    grid = self.BN0(grid)\n",
        "    out_c = self.Classifier(grid)\n",
        "    out_c = self.sigmoid(out_c)\n",
        "    return grid, out_c"
      ],
      "execution_count": null,
      "outputs": []
    },
    {
      "cell_type": "code",
      "metadata": {
        "colab": {
          "base_uri": "https://localhost:8080/"
        },
        "id": "TUBA5NyRiNX1",
        "outputId": "4f1cff65-54ab-4c76-8718-0b09cd427b34"
      },
      "source": [
        "def load_Model(checkpointpath=None, modelname=None, dataset=None, load_model=False,\n",
        "               input_channels=input_channels, gridsize=gridsize, n_classes1=n_classes1, n_classes2=n_classes):\n",
        "\n",
        "\n",
        "  if 'NestedCifar' in modelname:\n",
        "    net = NestedCifar(input_channels=input_channels, gridsize=gridsize, n_classes1=n_classes1, n_classes2=n_classes)\n",
        "    print ('Nested cortical networks for CIFAR loaded')\n",
        "\n",
        "  if 'ResetNumber' in modelname:\n",
        "    net = NestedCifarNoDecoder(input_channels=input_channels, gridsize=gridsize, n_classes1=n_classes1, n_classes2=n_classes)\n",
        "    print ('Nested cortical networks (without autoencoder) for Numbers loaded')\n",
        "\n",
        "  if 'ResNet20' in modelname:\n",
        "    net = hresnet20reg(num_channels=input_channels, num_classes=n_classes)\n",
        "    print ('ResNet20 loaded')\n",
        "\n",
        "  model_total_params = sum(p.numel() for p in net.parameters())\n",
        "  print('==> Model built. The model has ',model_total_params,'total parameters, and ',n_classes,'classes')\n",
        "\n",
        "  if load_model:\n",
        "    #load the model\n",
        "    state = torch.load(checkpointpath + modelname + dataset + 'best_ckpt.t7')\n",
        "    keys = list(state['net'].keys()); print ('This network had', len(keys),'stored sets of parameters')\n",
        "    if 'module.' in keys[0]:\n",
        "      for name in keys:\n",
        "        state['net'][name[7:]] = state['net'].pop(name)\n",
        "    net.load_state_dict(state['net'])\n",
        "    print ('Pretrained weights loaded')\n",
        "\n",
        "  if load_submodels:\n",
        "    #load pretrained submodel\n",
        "    pretrained_dict = submodel.state_dict()\n",
        "    \n",
        "    model_dict = model.state_dict()\n",
        "    # 1. filter out unnecessary keys (remove key for last dense layer)\n",
        "    pretrained_dict = {k: v for k, v in pretrained_dict.items() if k is not 'fc2'}\n",
        "    # 2. overwrite entries in the existing state dict\n",
        "    model_dict.update(pretrained_dict) \n",
        "    # 3. load the new state dict\n",
        "    model.load_state_dict(pretrained_dict)\n",
        "  \n",
        "  return net\n",
        "\n",
        "net = load_Model(checkpointpath=checkpointpath, modelname=modelname, load_model=load_model)"
      ],
      "execution_count": null,
      "outputs": [
        {
          "output_type": "stream",
          "text": [
            "ResNet20 loaded\n",
            "==> Model built. The model has  275572 total parameters, and  100 classes\n"
          ],
          "name": "stdout"
        }
      ]
    },
    {
      "cell_type": "markdown",
      "metadata": {
        "id": "wFKCRzDnGGtQ"
      },
      "source": [
        "# Training"
      ]
    },
    {
      "cell_type": "markdown",
      "metadata": {
        "id": "yQtbPnojAMVZ"
      },
      "source": [
        "Parallel computing"
      ]
    },
    {
      "cell_type": "code",
      "metadata": {
        "colab": {
          "base_uri": "https://localhost:8080/"
        },
        "id": "E8aznUBZPYQH",
        "outputId": "fd34c7d8-7d79-43d7-c7a3-cb2af5685532"
      },
      "source": [
        "# Parallel computing\n",
        "device = torch.device(\"cuda\" if use_cuda else \"cpu\")\n",
        "print ('device:', device)\n",
        "net.to(device)\n",
        "net = torch.nn.DataParallel(net)\n",
        "weights = weights.to(device)\n",
        "GPUcount = torch.cuda.device_count()\n",
        "if GPUcount == 0:\n",
        "  print ('No GPU available.')\n",
        "if GPUcount == 1:\n",
        "  print ('One GPU available.')\n",
        "if GPUcount > 1:\n",
        "  print (GPUcount, 'GPUs are available.')\n",
        "print ('GPU type:', torch.cuda.get_device_name())"
      ],
      "execution_count": null,
      "outputs": [
        {
          "output_type": "stream",
          "text": [
            "device: cuda\n",
            "One GPU available.\n",
            "GPU type: Tesla P100-PCIE-16GB\n"
          ],
          "name": "stdout"
        }
      ]
    },
    {
      "cell_type": "code",
      "metadata": {
        "id": "sfxTZF9v0k2S"
      },
      "source": [
        "Adam=False\n",
        "if Adam:\n",
        "  criterion = nn.CrossEntropyLoss(weight=weights)\n",
        "  optimizer = optim.Adam(net.parameters(), lr=lrate)"
      ],
      "execution_count": null,
      "outputs": []
    },
    {
      "cell_type": "code",
      "metadata": {
        "id": "PVyRe0h1g2Kc"
      },
      "source": [
        "Sgd=False\n",
        "if Sgd:\n",
        "  criterion = nn.CrossEntropyLoss(weight=weights)\n",
        "  optimizer = optim.SGD(net.parameters(), lr=lrate, momentum=0.9, weight_decay=5e-4)\n",
        "  scheduler = torch.optim.lr_scheduler.CosineAnnealingLR(optimizer, T_max=200)"
      ],
      "execution_count": null,
      "outputs": []
    },
    {
      "cell_type": "code",
      "metadata": {
        "id": "tIIVBmcRt7zJ"
      },
      "source": [
        "BCE = True\n",
        "if BCE:# Define an optimizer and criterion for autoencoder\n",
        "  criterion = nn.BCELoss()\n",
        "  optimizer = optim.Adam(net.parameters())"
      ],
      "execution_count": null,
      "outputs": []
    },
    {
      "cell_type": "code",
      "metadata": {
        "id": "7bePq6neW_Tf"
      },
      "source": [
        "CombinedLoss = False\n",
        "if CombinedLoss:# Define an optimizer and criterion for autoencoder and classfier\n",
        "  criterionAuto = nn.BCELoss()\n",
        "  criterionClass = nn.CrossEntropyLoss(weight=weights)\n",
        "  optimizer = optim.Adam(net.parameters())"
      ],
      "execution_count": null,
      "outputs": []
    },
    {
      "cell_type": "markdown",
      "metadata": {
        "id": "zn05hy_j3UP5"
      },
      "source": [
        "Testing:"
      ]
    },
    {
      "cell_type": "code",
      "metadata": {
        "id": "kFFyUKtvAJY8"
      },
      "source": [
        "def test2(net):\n",
        "  net.eval()\n",
        "  start = time.time()\n",
        "  net.to(device)\n",
        "  correct = 0\n",
        "  total = 0\n",
        "  with torch.no_grad():\n",
        "      for data in testloader:\n",
        "          inputs, codes = data\n",
        "          inputs, codes = inputs.to(device), codes.to(device)\n",
        "          grid, outputs = net(inputs)\n",
        "          mse = torch.mean(torch.square(outputs - codes)).item()\n",
        "          total += labels.size(0)\n",
        "\n",
        "  print('Mse of the network on ',total,'test images:',mse)\n",
        "\n",
        "  end = time.time()\n",
        "  print('Test time:', time.strftime('%H:%M:%S', time.gmtime(end-start)))\n",
        "  print('n')\n",
        "\n",
        "  return grid, mse"
      ],
      "execution_count": null,
      "outputs": []
    },
    {
      "cell_type": "markdown",
      "metadata": {
        "id": "-f8vrDnw97pH"
      },
      "source": [
        "Compute grid responses and output accuracies for all categories"
      ]
    },
    {
      "cell_type": "code",
      "metadata": {
        "id": "B3NbZS_FDWWU"
      },
      "source": [
        "def compute_class_grid2(grid, verbose=False):\n",
        "  n = len(classes)\n",
        "  if modelname == 'ResNet20':\n",
        "    gn, gh = grid.shape\n",
        "    gc = 1\n",
        "    gs = int(gh**0.5)\n",
        "  else:\n",
        "    gn, gc, gs, gs = grid.shape\n",
        "  print ('gn, gc, gs, gs', gn, gc, gs, gs)\n",
        "  class_correct = list(0. for i in np.arange(n))\n",
        "  class_total = list(0. for i in np.arange(n))\n",
        "  class_grid = np.zeros((n, gs, gs))\n",
        "  with torch.no_grad():\n",
        "      for data in testloader2:\n",
        "          images, codes, labels = data\n",
        "          #images, codes, labels = images.to(device), codes.to(device), labels.to(device)\n",
        "          images, codes = images.to(device), codes.to(device)\n",
        "\n",
        "          grid, outputs = net(images)\n",
        "          mse = torch.mean(torch.square(outputs - codes), 1)\n",
        "          grid_data = grid.cpu().numpy().squeeze()\n",
        "          if modelname == 'ResNet20':\n",
        "            grid_data = np.reshape(grid_data, (-1, gs, gs))\n",
        "\n",
        "          for i, label in enumerate(labels):\n",
        "              label = int(label.cpu().numpy())\n",
        "              if gc > 1:\n",
        "                class_grid[label] += np.mean(grid[i], axis=0)\n",
        "              else:\n",
        "                class_grid[label] += grid_data[i]\n",
        "              class_correct[label] += mse[i].item()\n",
        "              class_total[label] += 1\n",
        "  class_acc = np.zeros(n)\n",
        "  for i in np.arange(n):\n",
        "      class_acc[i] = 100 * class_correct[i] / class_total[i]\n",
        "      if class_total[i] > 0:\n",
        "        class_grid[i] = class_grid[i]/class_total[i]\n",
        "      if verbose:\n",
        "        print('%3d Accuracy of %5s : %2d %% (%5d / %5d)' % (i, classes[i], class_acc[i], class_correct[i], class_total[i]))\n",
        "  return class_acc, class_grid\n",
        "  \n",
        "go_compute_class_grid2 = False\n",
        "if go_compute_class_grid2:\n",
        "  class_acc, class_grid = compute_class_grid2(grid, verbose=True)"
      ],
      "execution_count": null,
      "outputs": []
    },
    {
      "cell_type": "markdown",
      "metadata": {
        "id": "i1LrtuXRQsdl"
      },
      "source": [
        "Training"
      ]
    },
    {
      "cell_type": "code",
      "metadata": {
        "colab": {
          "base_uri": "https://localhost:8080/",
          "height": 245
        },
        "id": "olmO7hhzQtvY",
        "outputId": "97c0246c-ab7d-46b6-8066-dcc40d3ce6bb"
      },
      "source": [
        "start = time.time()\n",
        "e_start = time.time()\n",
        "ltrain, ltest = len(trainloader), len(testloader)\n",
        "print ('number of mini-batches for training:', ltrain)\n",
        "print ('mini-batch size:', train_batchsize)\n",
        "print ('total number of training exemplars:', ltrain*train_batchsize)\n",
        "print ('\\nnumber of mini-batches for testing:', ltest)\n",
        "print ('mini-batch size:', test_batchsize)\n",
        "\n",
        "if load_model:\n",
        "  test_acc_history = np.load(checkpointpath + modelname + dataset + 'test_acc_history.npy')\n",
        "  class_acc_history = np.load(checkpointpath + modelname + dataset + 'class_acc_history.npy')\n",
        "  class_grid_history = np.load(checkpointpath + modelname + dataset + 'class_grid_history.npy')\n",
        "  last_epoch = len(test_acc_history)\n",
        "  bestacc = np.max(test_acc_history)\n",
        "  print ('saved metrics loaded')\n",
        "else:\n",
        "  test_acc_history = []\n",
        "  class_acc_history = []\n",
        "  class_grid_history = []\n",
        "  last_epoch = 0\n",
        "  bestacc = 0\n",
        "\n",
        "test_every = ltrain//2\n",
        "#test_every = 2*ltrain   #never test\n",
        "print_every = ltrain//20\n",
        "print ('we will test every:', test_every, 'mini-batches, meaning, every',test_every*train_batchsize,'training exemplars.')\n",
        "\n",
        "# Initial testing before training.\n",
        "grid, testacc = test2(net)\n",
        "test_acc_history += [testacc]\n",
        "class_acc, class_grid = compute_class_grid2(grid, verbose=False)\n",
        "class_acc_history += [class_acc]\n",
        "class_grid_history += [class_grid]\n",
        "np.save(checkpointpath + modelname + dataset + 'test_acc_history.npy', test_acc_history)\n",
        "np.save(checkpointpath + modelname + dataset + 'class_acc_history.npy', class_acc_history)\n",
        "np.save(checkpointpath + modelname + dataset + 'class_grid_history.npy', class_grid_history)\n",
        "\n",
        "# Start training\n",
        "net.train()\n",
        "for epoch in np.arange(last_epoch + epochs): \n",
        "    print ('Epoch:', epoch) \n",
        "    running_loss = 0.0\n",
        "    running_lossAuto = 0.0\n",
        "    running_lossClass = 0.0\n",
        "    for i, (inputs, codes, labels) in enumerate(trainloader2):\n",
        "        inputs, codes = inputs.to(device), codes.to(device)\n",
        "        #print ('labels.size()', labels.size())\n",
        "\n",
        "        optimizer.zero_grad()\n",
        "        grid, outputs = net(inputs)\n",
        "        #print(outputs.size())\n",
        "        loss = criterion(outputs, codes)\n",
        "\n",
        "        \n",
        "        loss.backward()\n",
        "        optimizer.step()\n",
        "\n",
        "        # print statistics\n",
        "        running_loss += loss.item()\n",
        "        if (i != 0) & (i % print_every == 0):    # print\n",
        "          print ('[batch %3d] number code loss:%.3f' % (i, loss.item()))\n",
        "\n",
        "        if (i != 0) & (i % test_every == 0):    # test \n",
        "            e_end = time.time()\n",
        "            print('\\n\\nTraining time:', time.strftime('%H:%M:%S', time.gmtime(e_end - e_start)))\n",
        "            e_start = time.time()\n",
        "\n",
        "            closs = running_loss / test_every\n",
        "            print('[%d, %5d] number code loss:%.3f' % (epoch + 1, i + 1, closs))\n",
        "\n",
        "            running_loss = 0.0\n",
        "            _, testacc = test2(net)\n",
        "            test_acc_history += [testacc]\n",
        "            class_acc, class_grid = compute_class_grid2(grid, verbose=False)\n",
        "            class_acc_history += [class_acc]\n",
        "            class_grid_history += [class_grid]\n",
        "            np.save(checkpointpath + modelname + dataset + 'test_acc_history.npy', test_acc_history)\n",
        "            np.save(checkpointpath + modelname + dataset + 'class_acc_history.npy', class_acc_history)\n",
        "            np.save(checkpointpath + modelname + dataset + 'class_grid_history.npy', class_grid_history)\n",
        "            net.train()\n",
        "\n",
        "            if testacc > bestacc:\n",
        "              print ('saving as best model')\n",
        "              state = {'net': net.state_dict(),}\n",
        "              torch.save(state, checkpointpath + modelname + dataset + 'best_ckpt.t7')\n",
        "              bestacc = testacc\n",
        "np.save(checkpointpath + modelname + dataset + 'test_acc_history.npy', test_acc_history)\n",
        "np.save(checkpointpath + modelname + dataset + 'class_acc_history.npy', class_acc_history)\n",
        "np.save(checkpointpath + modelname + dataset + 'class_grid_history.npy', class_grid_history)\n",
        "end = time.time()\n",
        "print('Done training. Total training time:')\n",
        "print(time.strftime('%H:%M:%S', time.gmtime(end-start)))"
      ],
      "execution_count": null,
      "outputs": [
        {
          "output_type": "error",
          "ename": "NameError",
          "evalue": "ignored",
          "traceback": [
            "\u001b[0;31m---------------------------------------------------------------------------\u001b[0m",
            "\u001b[0;31mNameError\u001b[0m                                 Traceback (most recent call last)",
            "\u001b[0;32m<ipython-input-4-2641c9e108a9>\u001b[0m in \u001b[0;36m<module>\u001b[0;34m()\u001b[0m\n\u001b[1;32m      3\u001b[0m \u001b[0mstart\u001b[0m \u001b[0;34m=\u001b[0m \u001b[0mtime\u001b[0m\u001b[0;34m.\u001b[0m\u001b[0mtime\u001b[0m\u001b[0;34m(\u001b[0m\u001b[0;34m)\u001b[0m\u001b[0;34m\u001b[0m\u001b[0;34m\u001b[0m\u001b[0m\n\u001b[1;32m      4\u001b[0m \u001b[0me_start\u001b[0m \u001b[0;34m=\u001b[0m \u001b[0mtime\u001b[0m\u001b[0;34m.\u001b[0m\u001b[0mtime\u001b[0m\u001b[0;34m(\u001b[0m\u001b[0;34m)\u001b[0m\u001b[0;34m\u001b[0m\u001b[0;34m\u001b[0m\u001b[0m\n\u001b[0;32m----> 5\u001b[0;31m \u001b[0mltrain\u001b[0m\u001b[0;34m,\u001b[0m \u001b[0mltest\u001b[0m \u001b[0;34m=\u001b[0m \u001b[0mlen\u001b[0m\u001b[0;34m(\u001b[0m\u001b[0mtrainloader\u001b[0m\u001b[0;34m)\u001b[0m\u001b[0;34m,\u001b[0m \u001b[0mlen\u001b[0m\u001b[0;34m(\u001b[0m\u001b[0mtestloader\u001b[0m\u001b[0;34m)\u001b[0m\u001b[0;34m\u001b[0m\u001b[0;34m\u001b[0m\u001b[0m\n\u001b[0m\u001b[1;32m      6\u001b[0m \u001b[0mprint\u001b[0m \u001b[0;34m(\u001b[0m\u001b[0;34m'number of mini-batches for training:'\u001b[0m\u001b[0;34m,\u001b[0m \u001b[0mltrain\u001b[0m\u001b[0;34m)\u001b[0m\u001b[0;34m\u001b[0m\u001b[0;34m\u001b[0m\u001b[0m\n\u001b[1;32m      7\u001b[0m \u001b[0mprint\u001b[0m \u001b[0;34m(\u001b[0m\u001b[0;34m'mini-batch size:'\u001b[0m\u001b[0;34m,\u001b[0m \u001b[0mtrain_batchsize\u001b[0m\u001b[0;34m)\u001b[0m\u001b[0;34m\u001b[0m\u001b[0;34m\u001b[0m\u001b[0m\n",
            "\u001b[0;31mNameError\u001b[0m: name 'trainloader' is not defined"
          ]
        }
      ]
    },
    {
      "cell_type": "markdown",
      "metadata": {
        "id": "Z_56hLLurEbj"
      },
      "source": [
        "## Various tests"
      ]
    },
    {
      "cell_type": "code",
      "metadata": {
        "colab": {
          "base_uri": "https://localhost:8080/",
          "height": 317
        },
        "id": "G1_HF-XcdeKv",
        "outputId": "784a8c64-8e79-471a-f762-6e7b53f36d1c"
      },
      "source": [
        "# Test model\n",
        "grid, testacc = test2(net)\n",
        "print ('testacc=', testacc)\n",
        "print ('grid shape:', grid.size())\n",
        "grid = grid.detach().cpu().numpy()\n",
        "plt.imshow(np.mean(grid[:,0,:,:], axis=0));plt.colorbar();plt.show()\n",
        "print ('grid min:',np.min(grid[:,0,:,:]))\n",
        "print ('grid mean:',np.mean(grid[:,0,:,:]))\n",
        "print ('grid max:',np.max(grid[:,0,:,:]))"
      ],
      "execution_count": null,
      "outputs": [
        {
          "output_type": "stream",
          "text": [
            "Mse of the network on  1000 test images: 2.2948734113015234e-05\n",
            "Test time: 00:00:00\n",
            "n\n",
            "testacc= 2.2948734113015234e-05\n",
            "grid shape: torch.Size([100, 64])\n"
          ],
          "name": "stdout"
        },
        {
          "output_type": "error",
          "ename": "IndexError",
          "evalue": "ignored",
          "traceback": [
            "\u001b[0;31m---------------------------------------------------------------------------\u001b[0m",
            "\u001b[0;31mIndexError\u001b[0m                                Traceback (most recent call last)",
            "\u001b[0;32m<ipython-input-17-348123ddc065>\u001b[0m in \u001b[0;36m<module>\u001b[0;34m()\u001b[0m\n\u001b[1;32m      4\u001b[0m \u001b[0mprint\u001b[0m \u001b[0;34m(\u001b[0m\u001b[0;34m'grid shape:'\u001b[0m\u001b[0;34m,\u001b[0m \u001b[0mgrid\u001b[0m\u001b[0;34m.\u001b[0m\u001b[0msize\u001b[0m\u001b[0;34m(\u001b[0m\u001b[0;34m)\u001b[0m\u001b[0;34m)\u001b[0m\u001b[0;34m\u001b[0m\u001b[0;34m\u001b[0m\u001b[0m\n\u001b[1;32m      5\u001b[0m \u001b[0mgrid\u001b[0m \u001b[0;34m=\u001b[0m \u001b[0mgrid\u001b[0m\u001b[0;34m.\u001b[0m\u001b[0mdetach\u001b[0m\u001b[0;34m(\u001b[0m\u001b[0;34m)\u001b[0m\u001b[0;34m.\u001b[0m\u001b[0mcpu\u001b[0m\u001b[0;34m(\u001b[0m\u001b[0;34m)\u001b[0m\u001b[0;34m.\u001b[0m\u001b[0mnumpy\u001b[0m\u001b[0;34m(\u001b[0m\u001b[0;34m)\u001b[0m\u001b[0;34m\u001b[0m\u001b[0;34m\u001b[0m\u001b[0m\n\u001b[0;32m----> 6\u001b[0;31m \u001b[0mplt\u001b[0m\u001b[0;34m.\u001b[0m\u001b[0mimshow\u001b[0m\u001b[0;34m(\u001b[0m\u001b[0mnp\u001b[0m\u001b[0;34m.\u001b[0m\u001b[0mmean\u001b[0m\u001b[0;34m(\u001b[0m\u001b[0mgrid\u001b[0m\u001b[0;34m[\u001b[0m\u001b[0;34m:\u001b[0m\u001b[0;34m,\u001b[0m\u001b[0;36m0\u001b[0m\u001b[0;34m,\u001b[0m\u001b[0;34m:\u001b[0m\u001b[0;34m,\u001b[0m\u001b[0;34m:\u001b[0m\u001b[0;34m]\u001b[0m\u001b[0;34m,\u001b[0m \u001b[0maxis\u001b[0m\u001b[0;34m=\u001b[0m\u001b[0;36m0\u001b[0m\u001b[0;34m)\u001b[0m\u001b[0;34m)\u001b[0m\u001b[0;34m;\u001b[0m\u001b[0mplt\u001b[0m\u001b[0;34m.\u001b[0m\u001b[0mcolorbar\u001b[0m\u001b[0;34m(\u001b[0m\u001b[0;34m)\u001b[0m\u001b[0;34m;\u001b[0m\u001b[0mplt\u001b[0m\u001b[0;34m.\u001b[0m\u001b[0mshow\u001b[0m\u001b[0;34m(\u001b[0m\u001b[0;34m)\u001b[0m\u001b[0;34m\u001b[0m\u001b[0;34m\u001b[0m\u001b[0m\n\u001b[0m\u001b[1;32m      7\u001b[0m \u001b[0mprint\u001b[0m \u001b[0;34m(\u001b[0m\u001b[0;34m'grid min:'\u001b[0m\u001b[0;34m,\u001b[0m\u001b[0mnp\u001b[0m\u001b[0;34m.\u001b[0m\u001b[0mmin\u001b[0m\u001b[0;34m(\u001b[0m\u001b[0mgrid\u001b[0m\u001b[0;34m[\u001b[0m\u001b[0;34m:\u001b[0m\u001b[0;34m,\u001b[0m\u001b[0;36m0\u001b[0m\u001b[0;34m,\u001b[0m\u001b[0;34m:\u001b[0m\u001b[0;34m,\u001b[0m\u001b[0;34m:\u001b[0m\u001b[0;34m]\u001b[0m\u001b[0;34m)\u001b[0m\u001b[0;34m)\u001b[0m\u001b[0;34m\u001b[0m\u001b[0;34m\u001b[0m\u001b[0m\n\u001b[1;32m      8\u001b[0m \u001b[0mprint\u001b[0m \u001b[0;34m(\u001b[0m\u001b[0;34m'grid mean:'\u001b[0m\u001b[0;34m,\u001b[0m\u001b[0mnp\u001b[0m\u001b[0;34m.\u001b[0m\u001b[0mmean\u001b[0m\u001b[0;34m(\u001b[0m\u001b[0mgrid\u001b[0m\u001b[0;34m[\u001b[0m\u001b[0;34m:\u001b[0m\u001b[0;34m,\u001b[0m\u001b[0;36m0\u001b[0m\u001b[0;34m,\u001b[0m\u001b[0;34m:\u001b[0m\u001b[0;34m,\u001b[0m\u001b[0;34m:\u001b[0m\u001b[0;34m]\u001b[0m\u001b[0;34m)\u001b[0m\u001b[0;34m)\u001b[0m\u001b[0;34m\u001b[0m\u001b[0;34m\u001b[0m\u001b[0m\n",
            "\u001b[0;31mIndexError\u001b[0m: too many indices for array: array is 2-dimensional, but 4 were indexed"
          ]
        }
      ]
    },
    {
      "cell_type": "markdown",
      "metadata": {
        "id": "8qKDiRKupJ-o"
      },
      "source": [
        "## Number topography"
      ]
    },
    {
      "cell_type": "code",
      "metadata": {
        "id": "_1VHgsA9pXCq"
      },
      "source": [
        "\"\"\"\n",
        "def topo(data, lc=9, pad=1):\n",
        "  lx, ly = data.shape\n",
        "  # create a copy padded with -1\n",
        "  topo_index = 0\n",
        "  map_below = -1*np.ones((lx+2*pad,ly+2*pad))\n",
        "  map_below[pad:-pad, pad:-pad] = np.copy(data)\n",
        "  data = masked_array(data, data < 0)\n",
        "  map_below = masked_array(map_below, map_below < 0)\n",
        "  count = 0\n",
        "  for i in range(lx):\n",
        "    for j in range(ly):\n",
        "      #compute similarity between each unit and its neighbor.\n",
        "      if data[i,j] != -1:\n",
        "        lo = map_below[i-pad : i+pad+1, j-pad : j+pad+1]\n",
        "        n = np.sum(lo>-1)\n",
        "        if n != 0:\n",
        "          topo_index += 1 - np.mean(np.abs(lo - data[i,j]))/(lc)\n",
        "          count += 1\n",
        "  topo_index = topo_index/count\n",
        "  return topo_index\n",
        "\"\"\"\n",
        "def topo(data):\n",
        "  #topo_index = np.mean(ndimage.sobel(data)) # the more variations on the sobeled map, the less the neighbors are the same, the less topography.\n",
        "  #topo_index = np.mean(data - gaussian_filter(data, sigma = 1))\n",
        "  filter = (-1/8)*np.ones((3, 3));filter[0,0]=1\n",
        "  d = np.mean(ndimage.convolve(data, filter))\n",
        "  dz = np.mean(ndimage.convolve(data, (1/8)*np.ones((3, 3))))\n",
        "  if d != 0:\n",
        "    topo_index = 1/d # topography == same neighbors ==> more canceling ==> low mean ==> high inverse of mean\n",
        "  else:\n",
        "    topo_index = dz\n",
        "  return topo_index\n",
        "\n",
        "def clustering_index2(data, threshold=0.85, connectivity=4):\n",
        "  den_index = np.sum(data)\n",
        "  data = (data > threshold).astype(np.uint8)\n",
        "  # Thresholding\n",
        "  ret, thresh = cv2.threshold(data,0,255,cv2.THRESH_BINARY+cv2.THRESH_OTSU)\n",
        "  # Choose 4 or 8 for connectivity type\n",
        "  num_labels, labels, stats, centroids = cv2.connectedComponentsWithStats(thresh, connectivity, cv2.CV_32S)\n",
        "  clu_index = np.mean(stats[1:,-1])\n",
        "  if math.isnan(clu_index):\n",
        "    clu_index = 1 #minimal cluster size\n",
        "  topo_index = topo(data)\n",
        "  return num_labels, labels, clu_index, topo_index\n",
        "\n",
        "def compute_pipeline2(select1, select2, T = 1, connectivity = 8, gf_sigma=0, show=False):\n",
        "\n",
        "  # compute d-prime sensitivity measure at each point of the grid\n",
        "  mean1 = np.mean(select1, axis=0)\n",
        "  mean2 = np.mean(select2, axis=0)\n",
        "  std1 = np.var(select1, axis=0)**0.5\n",
        "  std2 = np.var(select2, axis=0)**0.5\n",
        "\n",
        "  # possibly smooth activations\n",
        "  gf_sigma = 0#.5\n",
        "  smean1 = gaussian_filter(mean1, sigma = gf_sigma)   # smoothing\n",
        "  smean2 = gaussian_filter(mean2, sigma = gf_sigma)   \n",
        "\n",
        "  # compute d-prime map\n",
        "  dmap = 2*(smean1 - smean2)/(std1 + std2)\n",
        "\n",
        "  # compute clustering index\n",
        "  _, _, clu_index,topo_index = clustering_index2(dmap, threshold=T, connectivity=connectivity)\n",
        "\n",
        "  # compute control clustering index\n",
        "  clu_index_ctrl = 0\n",
        "  topo_index_ctrl = 0\n",
        "  power = 20\n",
        "  for k in range(10):\n",
        "    dmapshuf = np.ravel(np.copy(dmap))\n",
        "    np.random.shuffle(dmapshuf)\n",
        "    dmapshuf = np.reshape(dmapshuf, dmap.shape)\n",
        "    _, _, ctrl_clu, ctrl_topo = clustering_index2(dmapshuf, threshold=T, connectivity=connectivity)\n",
        "    clu_index_ctrl += ctrl_clu\n",
        "    topo_index_ctrl += ctrl_topo\n",
        "  clu_index_ctrl = clu_index_ctrl/float(power)\n",
        "  topo_index_ctrl = topo_index_ctrl/float(power)\n",
        "\n",
        "  # return variables\n",
        "  targets_data = dmap #> T\n",
        "\n",
        "  density = np.sum(smean1)\n",
        "  if show:\n",
        "    plt.figure(figsize=(10,10))\n",
        "    plt.subplot(141);plt.imshow(mean1);plt.title('mean1');plt.axis('off')\n",
        "    plt.subplot(142);plt.imshow(mean2);plt.title('mean2');plt.axis('off')\n",
        "    plt.subplot(143);plt.imshow(dmap);plt.title('dprimes 1-2');plt.axis('off');plt.colorbar(orientation='horizontal')\n",
        "    plt.subplot(144);plt.imshow(dmap>T);plt.title('clustering:'+str(clu_index)[:5]);plt.axis('off');plt.colorbar(orientation='horizontal')\n",
        "    plt.show()\n",
        "    return stop_error\n",
        "  \n",
        "  return targets_data, clu_index, clu_index_ctrl, topo_index, topo_index_ctrl, density\n",
        "\n",
        "def compute_save_metrics2(modelname=None, dataset=None, T=2, S=0, nopref=False):\n",
        "  # load data history\n",
        "  class_acc_history = np.load(checkpointpath + modelname + dataset + 'class_acc_history.npy')\n",
        "  print ('class_acc_history.shape',class_acc_history.shape)\n",
        "  class_grid_history = np.load(checkpointpath + modelname + dataset + 'class_grid_history.npy')\n",
        "  print ('class_grid_history.shape',class_grid_history.shape)\n",
        "\n",
        "  # initialize arrays \n",
        "  n_epochs,_,x,y = np.shape(class_grid_history)\n",
        "  n_classes = lc\n",
        "  print ('n_epochs,n_classes,x,y', n_epochs,n_classes,x,y)\n",
        "  target_maps_history = np.zeros((n_epochs, n_classes, x, y))\n",
        "  clustering_history = np.zeros((n_epochs, n_classes))\n",
        "  clustering_history_ctrl = np.zeros((n_epochs, n_classes))\n",
        "  topo_history = np.zeros((n_epochs, n_classes))\n",
        "  topo_history_ctrl = np.zeros((n_epochs, n_classes))\n",
        "  density_history = np.zeros((n_epochs, n_classes))\n",
        "  target_acc_history = np.zeros((n_epochs, n_classes))\n",
        "\n",
        "  # setting parameters for sensitivity and clustering analysis\n",
        "  connectivity = 4\n",
        "\n",
        "  # consider a contrast between two sets of classes, here animals vs objects\n",
        "  \n",
        "  sets1 = np.arange(lc)\n",
        "  sets2 = np.array([[j for j in sets1 if i != j] for i in sets1])\n",
        "  \n",
        "  # compute\n",
        "  for epoch in range(n_epochs):\n",
        "    print ('analyzing data from epoch', epoch)\n",
        "    for cat, (set1, set2) in enumerate(zip(sets1, sets2)):\n",
        "      #print ('cat', cat)\n",
        "      #print ('set1', set1)\n",
        "      #print ('set2', set2)\n",
        "      select1 = class_grid_history[epoch, set1]\n",
        "      select1 = np.expand_dims(select1, axis=0) #easier to expand dim here this way, for clustering index.\n",
        "      select2 = class_grid_history[epoch, set2]\n",
        "      \n",
        "      targets_data, clustering, clustering_ctrl, topo, topo_ctrl, density = compute_pipeline2(select1, select2, T = T, connectivity = connectivity, gf_sigma=S, show=False)\n",
        "      target_maps_history[epoch, cat] = targets_data\n",
        "      clustering_history[epoch, cat] = clustering\n",
        "      clustering_history_ctrl[epoch, cat] = clustering_ctrl\n",
        "      topo_history[epoch, cat] = topo\n",
        "      topo_history_ctrl[epoch, cat] = topo_ctrl\n",
        "      density_history[epoch, cat] = density\n",
        "      target_acc_history[epoch, cat] = np.mean(class_acc_history[epoch,set1])\n",
        "\n",
        "  # create label maps. This makes a lot of sense for numerosity, since we've got a clear number line.\n",
        "  \n",
        "  if nopref:\n",
        "    # label -1 will stand for \"no preference\", when all d-primes are below thresholds\n",
        "    # we achieve that by concatenating a no preference map before the d-prime maps, filled with a high value.\n",
        "    # then we remove 1 to all the labels.\n",
        "    label_maps_history = np.zeros((n_epochs,x,y))\n",
        "    for epoch, target_maps in enumerate(target_maps_history):\n",
        "      thres_data = (target_maps<T)\n",
        "      #print ('thres_data.shape',thres_data.shape)\n",
        "      indices_no_pref = (np.sum(thres_data, axis=0) == lc)\n",
        "      #print ('indices_no_pref.shape',indices_no_pref.shape)\n",
        "      #print ('indices_no_pref', indices_no_pref)\n",
        "      #plt.imshow(indices_no_pref);plt.show()\n",
        "      #print ('indices_no_pref', indices_no_pref)\n",
        "      no_pref = 100*indices_no_pref\n",
        "      #plt.imshow(no_pref);plt.show()\n",
        "      no_pref = np.expand_dims(no_pref, axis=0)\n",
        "      #print ('no_pref.shape',no_pref.shape)\n",
        "      target_maps = np.concatenate((no_pref, target_maps))\n",
        "      #print ('target_maps.shape',target_maps.shape)\n",
        "      label_maps = np.argmax(target_maps, axis=0) - 1\n",
        "      #print ('label_maps.shape, min, max',label_maps.shape, label_maps.min(), label_maps.max())\n",
        "      #plt.imshow(label_maps);plt.colorbar();plt.show()\n",
        "      label_maps_history[epoch] = label_maps\n",
        "    masked_array(label_maps_history, label_maps_history < 0)\n",
        "    #plt.imshow(masked_array(label_maps, label_maps < 0));plt.colorbar();plt.show()\n",
        "\n",
        "    #save\n",
        "    np.save(checkpointpath + modelname + dataset + 'target_acc_history.npy', target_acc_history)\n",
        "    np.save(checkpointpath + modelname + dataset + 'target_maps_history.npy', target_maps_history) \n",
        "    np.save(checkpointpath + modelname + dataset + 'label_maps_history_nopref.npy', label_maps_history)\n",
        "    np.save(checkpointpath + modelname + dataset + 'density_history.npy', density_history)\n",
        "    np.save(checkpointpath + modelname + dataset + 'clustering_history.npy', clustering_history)\n",
        "    np.save(checkpointpath + modelname + dataset + 'clustering_history_ctrl.npy', clustering_history_ctrl)\n",
        "    np.save(checkpointpath + modelname + dataset + 'topo_history.npy', topo_history)\n",
        "    np.save(checkpointpath + modelname + dataset + 'topo_history_ctrl.npy', topo_history_ctrl)\n",
        "\n",
        "  else:\n",
        "    label_maps_history = np.argmax(target_maps_history, axis=1)\n",
        "    \n",
        "    #save\n",
        "    np.save(checkpointpath + modelname + dataset + 'target_acc_history.npy', target_acc_history)\n",
        "    np.save(checkpointpath + modelname + dataset + 'target_maps_history.npy', target_maps_history) \n",
        "    np.save(checkpointpath + modelname + dataset + 'label_maps_history.npy', label_maps_history)\n",
        "    np.save(checkpointpath + modelname + dataset + 'density_history.npy', density_history)\n",
        "    np.save(checkpointpath + modelname + dataset + 'clustering_history.npy', clustering_history)\n",
        "    np.save(checkpointpath + modelname + dataset + 'clustering_history_ctrl.npy', clustering_history_ctrl)\n",
        "    np.save(checkpointpath + modelname + dataset + 'topo_history.npy', topo_history)\n",
        "    np.save(checkpointpath + modelname + dataset + 'topo_history_ctrl.npy', topo_history_ctrl)"
      ],
      "execution_count": null,
      "outputs": []
    },
    {
      "cell_type": "code",
      "metadata": {
        "id": "xjw6A-ILve4y"
      },
      "source": [
        "def animate_numerosity(T=None, S_map = None, save=True, nopref=False):\n",
        "  import numpy as np\n",
        "  from numpy.ma import masked_array\n",
        "  import matplotlib.pyplot as plt\n",
        "  from matplotlib import animation, rc\n",
        "  from IPython.display import HTML\n",
        "  from scipy.stats import describe\n",
        "\n",
        "  test_acc_history = np.load(checkpointpath + modelname + dataset + 'test_acc_history.npy')\n",
        "  target_acc_history = np.load(checkpointpath + modelname + dataset + 'target_acc_history.npy')\n",
        "  density_history = np.load(checkpointpath + modelname + dataset + 'density_history.npy')\n",
        "  clustering_history = np.load(checkpointpath + modelname + dataset + 'clustering_history.npy')\n",
        "  clustering_history_ctrl = np.load(checkpointpath + modelname + dataset + 'clustering_history_ctrl.npy')\n",
        "  topo_history = np.load(checkpointpath + modelname + dataset + 'topo_history.npy')\n",
        "  topo_history_ctrl = np.load(checkpointpath + modelname + dataset + 'topo_history_ctrl.npy')\n",
        "  if nopref:\n",
        "    label_maps_history = np.load(checkpointpath + modelname + dataset + 'label_maps_history_nopref.npy')\n",
        "  else:\n",
        "    label_maps_history = np.load(checkpointpath + modelname + dataset + 'label_maps_history.npy')\n",
        "\n",
        "  print ('label_maps_history.shape, min, max',label_maps_history.shape, label_maps_history.min(), label_maps_history.max())\n",
        "  epoch, x, y = label_maps_history.shape\n",
        "\n",
        "  target_acc_history = np.median(target_acc_history, axis=1)\n",
        "  density_history = np.median(density_history, axis=1)\n",
        "  clustering_history = np.median(clustering_history, axis=1)\n",
        "  clustering_history_ctrl = np.median(clustering_history_ctrl, axis=1)\n",
        "  topo_history = np.median(topo_history, axis=1)\n",
        "  topo_history_ctrl = np.median(topo_history_ctrl, axis=1)\n",
        "  \n",
        "  print ('test_acc_history.shape', test_acc_history.shape)\n",
        "  print ('target_acc_history.shape', target_acc_history.shape)\n",
        "  print ('density_history.shape', density_history.shape)\n",
        "  print ('label_maps_history.shape', label_maps_history.shape)\n",
        "  print ('clustering_history.shape', clustering_history.shape)\n",
        "  print ('clustering_history_ctrl.shape', clustering_history_ctrl.shape)\n",
        "  print ('topo_history.shape', topo_history.shape)\n",
        "  print ('topo_history_ctrl.shape', topo_history_ctrl.shape)\n",
        "  print ('topo_history', topo_history)\n",
        "  print ('topo_history_ctrl', topo_history_ctrl)\n",
        "  print ('clustering_history', clustering_history)\n",
        "  print ('clustering_history_ctrl', clustering_history_ctrl)\n",
        "  print ('describe(clustering_history)', describe(np.ravel(clustering_history)))\n",
        "  print ('describe(density_history)', describe(np.ravel(density_history)))\n",
        "\n",
        "  epochs = np.arange(epoch)\n",
        "  nans = np.nan*np.zeros(epoch)\n",
        "  acc_lines, clu_lines, clu_ctrl_lines, topo_lines, topo_ctrl_lines, den_lines = [[]], [[]], [[]], [[]], [[]], [[]]\n",
        "\n",
        "  titles = classes\n",
        "  l = len(titles)\n",
        "\n",
        "  fig = plt.figure(figsize=(12, 12)) \n",
        "  ncols, nrows = 15, 15\n",
        "  gs = gridspec.GridSpec(nrows, ncols, left=0.05, bottom=0.05, right=0.95, top=0.95, wspace=2, hspace=10)\n",
        "  plt.subplots_adjust(left=None, bottom=None, right=None, top=None, wspace=0.1, hspace=None)\n",
        "  # Add axes which can span multiple grid boxes\n",
        "  ax0 = fig.add_subplot(gs[:3, :5])\n",
        "  ax1 = fig.add_subplot(gs[:3, 5:10])\n",
        "  ax2 = fig.add_subplot(gs[:3, 10:15])\n",
        "  ax3 = fig.add_subplot(gs[3:, :15])\n",
        "\n",
        "  #plt.suptitle(modelname+' '+dataset, size=25)\n",
        "  ax0.set_title('test mse', size=20)\n",
        "  ax0.set_xlabel('epochs', size=13) \n",
        "  ax0.set_xlim(0, epoch+1)\n",
        "  \n",
        "  #ax1.set_title('clustering index', size=20)\n",
        "  ax1.set_title('cluster size', size=20)\n",
        "  ax1.set_xlabel('epochs', size=13)\n",
        "  ax1.set_xlim(0,epoch+1)\n",
        "  \n",
        "  #ax2.set_title('density index', size=20)\n",
        "  ax2.set_title('neighbor similarity', size=20)\n",
        "  ax2.set_xlabel('epochs', size=13)\n",
        "  ax2.set_xlim(0,epoch+1)\n",
        "  \n",
        "  ax3.set_title('epoch 0', size=20, y=-0.07)\n",
        "  ax3.tick_params(\n",
        "          axis='x',          # changes apply to the x-axis\n",
        "          which='both',      # both major and minor ticks are affected\n",
        "          bottom=False,      # ticks along the bottom edge are off\n",
        "          top=False,         # ticks along the top edge are off\n",
        "          labelbottom=False) # labels along the bottom edge are off\n",
        "  ax3.tick_params(\n",
        "          axis='y',          # changes apply to the x-axis\n",
        "          which='both',      # both major and minor ticks are affected\n",
        "          left=False,      # ticks along the bottom edge are off\n",
        "          right=False,         # ticks along the top edge are off\n",
        "          labelleft=False) # labels along the bottom edge are off\n",
        "  \n",
        "  MAX = np.max(label_maps_history)\n",
        "  smooth = True\n",
        "  sigma_curves = 1\n",
        "  if smooth:\n",
        "    target_acc_history = ndimage.gaussian_filter1d(target_acc_history, sigma_curves, axis=0)\n",
        "    clustering_history = ndimage.gaussian_filter1d(clustering_history, sigma_curves, axis=0)\n",
        "    clustering_history_ctrl = ndimage.gaussian_filter1d(clustering_history_ctrl, sigma_curves, axis=0)\n",
        "    topo_history = ndimage.gaussian_filter1d(topo_history, sigma_curves, axis=0)\n",
        "    topo_history_ctrl = ndimage.gaussian_filter1d(topo_history_ctrl, sigma_curves, axis=0)\n",
        "    density_history = ndimage.gaussian_filter1d(density_history, sigma_curves, axis=0)\n",
        "  \n",
        "  rescale = True\n",
        "  min_acc, max_acc = np.min(target_acc_history), np.max(target_acc_history)\n",
        "  min_clu = np.min((np.min(clustering_history), np.min(clustering_history_ctrl))) \n",
        "  max_clu = np.max((np.max(clustering_history), np.max(clustering_history_ctrl)))\n",
        "  min_topo = np.min((np.min(topo_history), np.min(topo_history_ctrl)))\n",
        "  max_topo = np.max((np.max(topo_history), np.max(topo_history_ctrl)))\n",
        "  min_den, max_den = np.min(density_history), np.max(density_history)\n",
        "  if rescale:\n",
        "    target_acc_history = (target_acc_history - min_acc) / (max_acc - min_acc)\n",
        "    clustering_history = (clustering_history - min_clu) / (max_clu - min_clu)\n",
        "    clustering_history_ctrl = (clustering_history_ctrl - min_clu) / (max_clu - min_clu)\n",
        "    topo_history = (topo_history - min_topo) / (max_topo - min_topo)\n",
        "    topo_history_ctrl = (topo_history_ctrl - min_topo) / (max_topo - min_topo)\n",
        "    density_history = (density_history - min_den) / (max_den - min_den)\n",
        "    ax0.set_ylim(0,1.05) \n",
        "    ax1.set_ylim(0,1.05)\n",
        "    ax2.set_ylim(0,1.05)\n",
        "  else:\n",
        "    ax0.set_ylim(np.floor(min_acc), np.ceil(max_acc)) \n",
        "    ax1.set_ylim(0, np.ceil(max_clu))\n",
        "    ax2.set_ylim(min_topo, np.ceil(max_topo))\n",
        "    #ax2.set_ylim(0, 100)\n",
        "    #ax2.set_ylim(np.floor(min_den), np.ceil(max_den))\n",
        "\n",
        "  max = 9; min = 0\n",
        "  cmap = plt.get_cmap('gist_rainbow', max+1-min)\n",
        "  color = 'black'\n",
        "  # plot: accuracy\n",
        "  acc_lines[0], = ax0.plot([], [], color=color, lw=2)\n",
        "  # plot: clustering\n",
        "  clu_lines[0], = ax1.plot([], [], color=color, label='normal', lw=2)\n",
        "  # plot: clustering ctrl\n",
        "  clu_ctrl_lines[0], = ax1.plot([], [], color='gray', label='shuffled', lw=2);ax1.legend(frameon=False)\n",
        "  # plot: topo\n",
        "  topo_lines[0], = ax2.plot([], [], color=color, lw=2)\n",
        "  # plot: topo ctrl\n",
        "  topo_ctrl_lines[0], = ax2.plot([], [], color='gray', label='shuffled', lw=2)#;ax1.legend(frameon=False)\n",
        "  # plot: density\n",
        "  #den_lines[0], = ax3.plot([], [], color=color, lw=2)\n",
        "  # plot: common map\n",
        "  data = label_maps_history[0]\n",
        "  images = ax3.imshow(data, alpha=0.7, cmap=plt.get_cmap(cmap), vmin = min -.5, vmax = max +.5)\n",
        "  \n",
        "  #cb = plt.colorbar(images, ticks=np.arange(min, max+1), pad=0.01)\n",
        "  #cb.set_ticklabels(['0', '1', '2', '3', '4', '5', '6', '7', '8', '9', 'No Pref'])\n",
        "  cb = plt.colorbar(images, ticks=np.arange(min, max+1), pad=0.01)\n",
        "  cb.set_ticklabels(['0', '1', '2', '3', '4', '5', '6', '7', '8', '9'])\n",
        "  cb.ax.set_ylabel('number preference', size=20)\n",
        "  \n",
        "  # initialization function: plot the background of each frame\n",
        "  def init():\n",
        "    acc_lines[0].set_data([], [])\n",
        "    clu_lines[0].set_data([], [])\n",
        "    clu_ctrl_lines[0].set_data([], [])\n",
        "    topo_lines[0].set_data([], [])\n",
        "    topo_ctrl_lines[0].set_data([], [])\n",
        "    #den_lines[0].set_data([], [])\n",
        "    images.set_array(label_maps_history[0])\n",
        "    return acc_lines+clu_lines+clu_ctrl_lines+topo_lines+topo_ctrl_lines+[images]\n",
        "  \n",
        "  # animation function. This is called sequentially  \n",
        "  def animate(t):\n",
        "    ax3.clear()\n",
        "    ax3.set_title('epoch '+str(t), size=20, y=-0.07)\n",
        "    acc_lines[0].set_data(epochs[:t+1], target_acc_history[:t+1])\n",
        "    clu_lines[0].set_data(epochs[:t+1], clustering_history[:t+1])\n",
        "    clu_ctrl_lines[0].set_data(epochs[:t+1], clustering_history_ctrl[:t+1])\n",
        "    topo_lines[0].set_data(epochs[:t+1], topo_history[:t+1])\n",
        "    topo_ctrl_lines[0].set_data(epochs[:t+1], topo_history_ctrl[:t+1])\n",
        "    #den_lines[0].set_data(epochs[:t+1], density_history[:t+1])\n",
        "    update_data = label_maps_history[t]\n",
        "    update_data = gaussian_filter(update_data, sigma = S_map)\n",
        "    images = ax3.imshow(masked_array(update_data, update_data < 0), alpha=0.7, cmap=plt.get_cmap(cmap), vmin = min -.5, vmax = max +.5)\n",
        "    return acc_lines+clu_lines+clu_ctrl_lines+topo_lines+topo_ctrl_lines+[images]\n",
        "\n",
        "  frames = np.min((100, epoch))\n",
        "  anim = animation.FuncAnimation(fig, animate, init_func=init, frames=frames, interval=100, blit=True)\n",
        "\n",
        "  if save:\n",
        "    anim.save(filename='history_monitor_'+modelname+'_'+dataset+'.mp4', fps=5, dpi=300)\n",
        "\n",
        "  # Note: below is the part which makes it work on Colab\n",
        "  rc('animation', html='jshtml')\n",
        "  return anim"
      ],
      "execution_count": null,
      "outputs": []
    },
    {
      "cell_type": "code",
      "metadata": {
        "colab": {
          "base_uri": "https://localhost:8080/",
          "height": 1000
        },
        "id": "tgX6DFn_teTA",
        "outputId": "004a6979-703d-4b3f-a2dd-1b511dcb2b43"
      },
      "source": [
        "checkpointpath = '/content/drive/MyDrive/ColabNotebooks/'\n",
        "#modelnames = ['ResetNumber1','ResetNumber2','ResetNumber4','ResetNumber8']\n",
        "#datasets = 4*['Numbers10']\n",
        "\n",
        "modelnames = ['ResNet20']\n",
        "datasets = ['Numbers10']\n",
        "classes = ['0', '1', '2', '3', '4', '5', '6', '7', '8', '9'];lc=len(classes)\n",
        "threshold = 2\n",
        "smoothing = 0\n",
        "map_smoothing = 0.\n",
        "nopref = True\n",
        "for i, (modelname, dataset) in enumerate(zip(modelnames, datasets)): \n",
        "  compute_save_metrics2(modelname=modelname, dataset=dataset, T=threshold, S=smoothing, nopref=nopref)\n",
        "  animate_numerosity(T=threshold, S_map = map_smoothing, nopref=nopref)\n"
      ],
      "execution_count": null,
      "outputs": [
        {
          "output_type": "stream",
          "text": [
            "class_acc_history.shape (51, 10)\n",
            "class_grid_history.shape (51, 10, 8, 8)\n",
            "n_epochs,n_classes,x,y 51 10 8 8\n",
            "analyzing data from epoch 0\n",
            "analyzing data from epoch 1\n",
            "analyzing data from epoch 2\n",
            "analyzing data from epoch 3\n",
            "analyzing data from epoch 4\n",
            "analyzing data from epoch 5\n",
            "analyzing data from epoch 6\n",
            "analyzing data from epoch 7\n",
            "analyzing data from epoch 8\n",
            "analyzing data from epoch 9"
          ],
          "name": "stdout"
        },
        {
          "output_type": "stream",
          "text": [
            "/usr/local/lib/python3.7/dist-packages/numpy/core/fromnumeric.py:3373: RuntimeWarning: Mean of empty slice.\n",
            "  out=out, **kwargs)\n",
            "/usr/local/lib/python3.7/dist-packages/numpy/core/_methods.py:170: RuntimeWarning: invalid value encountered in double_scalars\n",
            "  ret = ret.dtype.type(ret / rcount)\n"
          ],
          "name": "stderr"
        },
        {
          "output_type": "stream",
          "text": [
            "\n",
            "analyzing data from epoch 10\n",
            "analyzing data from epoch 11\n",
            "analyzing data from epoch 12\n",
            "analyzing data from epoch 13\n",
            "analyzing data from epoch 14\n",
            "analyzing data from epoch 15\n",
            "analyzing data from epoch 16\n",
            "analyzing data from epoch 17\n",
            "analyzing data from epoch 18\n",
            "analyzing data from epoch 19\n",
            "analyzing data from epoch 20\n",
            "analyzing data from epoch 21\n",
            "analyzing data from epoch 22\n",
            "analyzing data from epoch 23\n",
            "analyzing data from epoch 24\n",
            "analyzing data from epoch 25\n",
            "analyzing data from epoch 26\n",
            "analyzing data from epoch 27\n",
            "analyzing data from epoch 28\n",
            "analyzing data from epoch 29\n",
            "analyzing data from epoch 30\n",
            "analyzing data from epoch 31\n",
            "analyzing data from epoch 32\n",
            "analyzing data from epoch 33\n",
            "analyzing data from epoch 34\n",
            "analyzing data from epoch 35\n",
            "analyzing data from epoch 36\n",
            "analyzing data from epoch 37\n",
            "analyzing data from epoch 38\n",
            "analyzing data from epoch 39\n",
            "analyzing data from epoch 40\n",
            "analyzing data from epoch 41\n",
            "analyzing data from epoch 42\n",
            "analyzing data from epoch 43\n",
            "analyzing data from epoch 44\n",
            "analyzing data from epoch 45\n",
            "analyzing data from epoch 46\n",
            "analyzing data from epoch 47\n",
            "analyzing data from epoch 48\n",
            "analyzing data from epoch 49\n",
            "analyzing data from epoch 50\n",
            "label_maps_history.shape, min, max (51, 8, 8) -1.0 9.0\n",
            "test_acc_history.shape (51,)\n",
            "target_acc_history.shape (51,)\n",
            "density_history.shape (51,)\n",
            "label_maps_history.shape (51, 8, 8)\n",
            "clustering_history.shape (51,)\n",
            "clustering_history_ctrl.shape (51,)\n",
            "topo_history.shape (51,)\n",
            "topo_history_ctrl.shape (51,)\n",
            "topo_history [26.66666667 24.         32.         32.         26.66666667 32.\n",
            " 32.         26.66666667 21.33333333 21.33333333 21.33333333 21.33333333\n",
            " 21.33333333 21.33333333 18.66666667 21.33333333 18.66666667 21.33333333\n",
            " 21.33333333 21.33333333 21.33333333 21.33333333 21.33333333 21.33333333\n",
            " 21.33333333 21.33333333 26.66666667 21.33333333 21.33333333 26.66666667\n",
            " 26.66666667 26.66666667 32.         21.33333333 21.33333333 26.66666667\n",
            " 26.66666667 26.66666667 21.33333333 26.66666667 26.66666667 26.66666667\n",
            " 26.66666667 26.66666667 26.66666667 21.33333333 21.33333333 26.66666667\n",
            " 21.33333333 21.33333333 26.66666667]\n",
            "topo_history_ctrl [15.46666667 16.53333333 16.         14.26666667 13.38666667 16.\n",
            " 18.4        14.32       15.86744792 15.6        14.85333333 13.12\n",
            " 18.93333333 14.80627451 18.4        16.32       15.2        16.26705729\n",
            " 17.17333333 14.8        14.         16.13333333 16.67294118 15.86666667\n",
            " 14.00627451 16.32       14.93958333 14.96       15.06666667 13.6\n",
            " 14.66666667 17.52117188 16.50666667 16.13333333 15.46666667 18.4\n",
            " 15.30666667 16.2733318  13.70666667 15.06666667 10.80273438 14.13955901\n",
            " 18.53333333 16.8        15.2        15.46666667 14.8        16.8\n",
            " 13.73333333 13.78666667 14.26666667]\n",
            "clustering_history [1.25       2.31666667 1.         1.51428571 1.42222222 1.9625\n",
            " 1.83333333 1.58333333 1.7125     1.7125     1.61904762 1.75714286\n",
            " 1.9        1.9        1.61904762 1.78571429 1.71666667 1.75\n",
            " 1.85714286 1.75       1.5        1.60714286 1.70238095 1.67857143\n",
            " 1.60714286 1.60714286 1.73214286 1.53571429 1.67857143 1.77380952\n",
            " 1.77380952 1.65714286 1.69047619 1.60714286 1.76190476 1.77380952\n",
            " 1.77380952 1.85714286 1.69047619 1.69047619 1.78571429 1.78571429\n",
            " 1.78571429 1.83333333 1.73214286 1.69047619 1.75714286 1.79166667\n",
            " 1.75714286 1.73214286 1.77380952]\n",
            "clustering_history_ctrl [0.63541667 1.05412698 0.6375     0.83041667 0.82440476 0.989375\n",
            " 1.06630952 0.97020833 0.99955357 1.01123016 1.0025     0.93434524\n",
            " 0.97833333 0.95089286 0.96967262 1.0635119  0.98454365 0.9425\n",
            " 0.88517857 0.8868254  0.89553571 0.98136905 0.91863095 0.88473214\n",
            " 0.90772817 0.87680556 0.93488095 0.88713294 0.98171627 0.98869048\n",
            " 0.97872024 0.92866071 0.9571131  0.91919643 0.969375   1.07130952\n",
            " 0.97142857 0.97455357 0.92535714 1.00389881 0.83958333 0.88490079\n",
            " 1.01025794 0.93353175 0.93205357 1.00416667 0.96964286 1.02803571\n",
            " 1.01890873 0.94206349 0.96145833]\n",
            "describe(clustering_history) DescribeResult(nobs=51, minmax=(1.0, 2.3166666666666664), mean=1.707566915655151, variance=0.032680519368241116, skewness=-0.7860846119115076, kurtosis=5.642290300215748)\n",
            "describe(density_history) DescribeResult(nobs=51, minmax=(55.06222849037498, 1297.3477127902581), mean=149.9543377470528, variance=27515.96577529159, skewness=6.687568515161862, kurtosis=43.71108095191643)\n"
          ],
          "name": "stdout"
        },
        {
          "output_type": "display_data",
          "data": {
            "image/png": "[encoded data removed]",
            "text/plain": [
              "<Figure size 864x864 with 5 Axes>"
            ]
          },
          "metadata": {
            "tags": [],
            "needs_background": "light"
          }
        }
      ]
    },
    {
      "cell_type": "markdown",
      "metadata": {
        "id": "WfydPuAM8Kew"
      },
      "source": [
        "# Summary results"
      ]
    },
    {
      "cell_type": "code",
      "metadata": {
        "colab": {
          "base_uri": "https://localhost:8080/",
          "height": 418
        },
        "id": "g0aKvoDy8OJ7",
        "outputId": "650ced10-d9bd-42ef-d283-705dac54fd59"
      },
      "source": [
        "def plot_model_comparison(prefix='/content/drive/MyDrive/ColabNotebooks/', epoch=51):\n",
        "    r=-1; smooth = 1.5\n",
        "    \n",
        "    models = ['ResNet20', 'ResetNumber1','ResetNumber2','ResetNumber4','ResetNumber8'][::-1]\n",
        "    names = ['ResNet', 'RESET(1)', 'RESET(2)', 'RESET(4)', 'RESET(8)'][::-1]\n",
        "    datasets = 5*['Numbers10'][::-1]\n",
        "    colors = ['black', 'lightsteelblue', 'cyan', 'blue', 'purple'][::-1]\n",
        "    \n",
        "    \"\"\"\n",
        "    models = ['ResetNumber1','ResetNumber2','ResetNumber4','ResetNumber8'][::-1]\n",
        "    names = ['RESET(1)', 'RESET(2)', 'RESET(4)', 'RESET(8)'][::-1]\n",
        "    datasets = 4*['Numbers10']\n",
        "    colors = ['lightsteelblue', 'cyan', 'blue', 'purple'][::-1]\n",
        "    \"\"\"\n",
        "    # initialize figure\n",
        "    fig = plt.figure(figsize=(20, 7)) \n",
        "    ncols, nrows = 3, 1\n",
        "    gs = gridspec.GridSpec(nrows, ncols, left=0.05, bottom=0.08, right=0.95, top=0.92)#, wspace=2, hspace=10)\n",
        "    ax0 = fig.add_subplot(gs[0, 0])\n",
        "    ax1 = fig.add_subplot(gs[0, 1])\n",
        "    ax2 = fig.add_subplot(gs[0, 2])\n",
        "\n",
        "    stitle = 25\n",
        "    slabels = 19\n",
        "    #plt.suptitle(modelname+' '+dataset, size=25)\n",
        "    ax0.set_title('test mse', size=stitle)\n",
        "    ax0.set_xlabel('epochs', size=slabels) \n",
        "    ax0.set_xlim(0, epoch+1)\n",
        "    ax0.set_ylim(0, 0.5)\n",
        "    \n",
        "    #ax1.set_title('clustering index', size=20)\n",
        "    ax1.set_title('cluster size', size=stitle)\n",
        "    ax1.set_xlabel('epochs', size=slabels)\n",
        "    ax1.set_xlim(0, epoch+1)\n",
        "    ax1.set_ylim(0, 3.0)\n",
        "    \n",
        "    #ax2.set_title('density index', size=20)\n",
        "    ax2.set_title('neighbor similarity', size=stitle)\n",
        "    ax2.set_xlabel('epochs', size=slabels)\n",
        "    ax2.set_xlim(0, epoch+1)\n",
        "    ax2.set_ylim(0, 50.0)\n",
        "\n",
        "    # load and preprocess data (smooth and normalize)\n",
        "    for i, (model, name, dataset, color) in enumerate(zip(models, names, datasets, colors)):\n",
        "      # load data\n",
        "      los = np.load(prefix+model+dataset+'test_acc_history.npy')\n",
        "      clu = np.load(prefix+model+dataset+'clustering_history.npy')-np.load(prefix+model+dataset+'clustering_history_ctrl.npy')\n",
        "      topo = np.load(prefix+model+dataset+'topo_history.npy')-np.load(prefix+model+dataset+'topo_history_ctrl.npy')\n",
        "\n",
        "      #los = np.median(los, axis=1)\n",
        "      clu = np.median(clu, axis=1)\n",
        "      topo = np.median(topo, axis=1)\n",
        "\n",
        "      # smooth\n",
        "      if smooth > 0:\n",
        "          los = ndimage.gaussian_filter1d(los[:r], smooth, 0)\n",
        "          clu = ndimage.gaussian_filter1d(clu[:r], smooth, 0)\n",
        "          topo = ndimage.gaussian_filter1d(topo[:r], smooth, 0)\n",
        "      \n",
        "      # plot data as subplots in same figure\n",
        "      ax0.plot(los, lw=2, label=name, c=color)\n",
        "      ax1.plot(clu, lw=2, label=name, c=color)\n",
        "      ax2.plot(topo, lw=2, label=name, c=color)\n",
        "\n",
        "    plt.legend(frameon=False)\n",
        "    plt.savefig('numerosity_comparison.png', dpi = 300)\n",
        "    plt.show()\n",
        "    \n",
        "    return 'done'\n",
        "\n",
        "plot_model_comparison()"
      ],
      "execution_count": null,
      "outputs": [
        {
          "output_type": "display_data",
          "data": {
            "image/png": "[encoded data removed]",
            "text/plain": [
              "<Figure size 1440x504 with 3 Axes>"
            ]
          },
          "metadata": {
            "tags": [],
            "needs_background": "light"
          }
        },
        {
          "output_type": "execute_result",
          "data": {
            "application/vnd.google.colaboratory.intrinsic+json": {
              "type": "string"
            },
            "text/plain": [
              "'done'"
            ]
          },
          "metadata": {
            "tags": []
          },
          "execution_count": 57
        }
      ]
    },
    {
      "cell_type": "markdown",
      "metadata": {
        "id": "XCIAjHwbAbsZ"
      },
      "source": [
        "# Conclusions"
      ]
    },
    {
      "cell_type": "markdown",
      "metadata": {
        "id": "bkHnANdLwiPw"
      },
      "source": [
        "Is there topography for numbers ? <br>\n",
        "Yes. In these networks:<br>\n",
        "1. Units with the same number preference are more likely than chance to be connected on the map (quantified with clustering index).<br>\n",
        "2. Units with similar number preferences cluster together on the map (quantified with neighborhood index).<br>\n",
        "3. Clustering increases with the number of subnetworks. Subnetworks appear to specialize in different numbers."
      ]
    }
  ]
}