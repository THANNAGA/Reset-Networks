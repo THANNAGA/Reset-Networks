{
  "nbformat": 4,
  "nbformat_minor": 0,
  "metadata": {
    "accelerator": "GPU",
    "colab": {
      "name": "Reset Networks - Topography MNIST.ipynb",
      "provenance": [],
      "collapsed_sections": [],
      "machine_shape": "hm"
    },
    "kernelspec": {
      "display_name": "Python 3",
      "name": "python3"
    }
  },
  "cells": [
    {
      "cell_type": "markdown",
      "metadata": {
        "id": "n53Dkv-KLoeP"
      },
      "source": [
        "# Reset networks - Topography for MNIST\n",
        "**Objective**\n",
        "\n",
        "Demonstrate the emergence of topography for number classification - MNIST\n",
        "\n",
        "**Means**\n",
        "\n",
        "Reset network <br>\n",
        "MNIST dataset <br>"
      ]
    },
    {
      "cell_type": "markdown",
      "metadata": {
        "id": "EpUlyU5RbvsB"
      },
      "source": [
        "<img src = 'https://github.com/THANNAGA/Reset-Networks/blob/main/Topography%20for%20mnist/reset_archi_gene_mnist.png?raw=true' width=700px>\n"
      ]
    },
    {
      "cell_type": "markdown",
      "metadata": {
        "id": "NdQPjJ7YQfin"
      },
      "source": [
        "*Figure 1.(A) Reset Networks approach the visual cortex as a sequence of levels that realize different topographic spaces. Each level consists in a grid of deep neural networks sharing the entire input from the level below. The output of the grid then becomes the input to the grid of networks at the next level.**(B)** A Reset network with 2 levels trained on the QMNIST dataset.*"
      ]
    },
    {
      "cell_type": "code",
      "metadata": {
        "colab": {
          "base_uri": "https://localhost:8080/"
        },
        "id": "YGz5Bsqt_oe-",
        "outputId": "82d6f845-935e-4480-d452-f6167989a08c"
      },
      "source": [
        "from google.colab import drive\n",
        "drive.mount('/content/drive')"
      ],
      "execution_count": 1,
      "outputs": [
        {
          "output_type": "stream",
          "name": "stdout",
          "text": [
            "Mounted at /content/drive\n"
          ]
        }
      ]
    },
    {
      "cell_type": "code",
      "metadata": {
        "colab": {
          "base_uri": "https://localhost:8080/"
        },
        "id": "fDyaqHopQKX0",
        "outputId": "408068ee-f844-42b4-f819-78bc0e971083"
      },
      "source": [
        "drive.mount(\"/content/drive\", force_remount=True)"
      ],
      "execution_count": 2,
      "outputs": [
        {
          "output_type": "stream",
          "name": "stdout",
          "text": [
            "Mounted at /content/drive\n"
          ]
        }
      ]
    },
    {
      "cell_type": "code",
      "metadata": {
        "colab": {
          "base_uri": "https://localhost:8080/"
        },
        "id": "-dBrA_-ck766",
        "outputId": "3c02486c-7a4a-4fca-e3d8-ecc52b50c17e"
      },
      "source": [
        "import torch\n",
        "import torch.nn as nn\n",
        "import torch.nn.functional as F\n",
        "from torch.autograd import Variable\n",
        "\n",
        "import torchvision\n",
        "import torchvision.transforms as transforms\n",
        "import torch.optim as optim\n",
        "\n",
        "from PIL import Image\n",
        "import time\n",
        "import numpy as np\n",
        "from numpy.ma import masked_array\n",
        "from scipy import ndimage\n",
        "from scipy.signal import convolve2d as conv\n",
        "from scipy.ndimage import gaussian_filter\n",
        "import matplotlib.pyplot as plt\n",
        "import matplotlib.patches as patches\n",
        "from matplotlib.patches import Rectangle\n",
        "from matplotlib import gridspec\n",
        "import sys, math\n",
        "import pandas as pd\n",
        "from sklearn.utils import shuffle\n",
        "import cv2\n",
        "\n",
        "!pip install einops\n",
        "sys.path.insert(0,'/content/drive/MyDrive/ColabNotebooks/')\n",
        "from vit_pytorch import ViT, ViT_rec\n",
        "from resnet import resnetSmall, resnet18, resnet34, resnet50, resnet101, resnet152 \n",
        "from resnet_CIFAR10 import resnet20, hresnet20reg"
      ],
      "execution_count": 2,
      "outputs": [
        {
          "output_type": "stream",
          "name": "stdout",
          "text": [
            "Collecting einops\n",
            "  Downloading einops-0.3.2-py3-none-any.whl (25 kB)\n",
            "Installing collected packages: einops\n",
            "Successfully installed einops-0.3.2\n"
          ]
        }
      ]
    },
    {
      "cell_type": "code",
      "metadata": {
        "id": "RjT8uSonOv70"
      },
      "source": [
        "checkpointpath = '/content/drive/MyDrive/ColabNotebooks/'\n",
        "modelname = 'ResetNumber4'#'ResNet20'#'ResetNumber8'\n",
        "dataset = 'MNIST'\n",
        "train_batchsize = 500\n",
        "test_batchsize = 500\n",
        "classes = ['0', '1', '2', '3', '4', '5', '6', '7', '8', '9']\n",
        "use_cuda = True\n",
        "gridsize = 1\n",
        "n_classes1 = 8*8#8*8#32*32#400#36#100\n",
        "n_classes = 10\n",
        "lrate = 0.001\n",
        "drop_rate = 0.5\n",
        "input_channels = 1\n",
        "load_model = False\n",
        "load_submodels = False\n",
        "epochs = 10\n",
        "num_workers=1\n"
      ],
      "execution_count": 3,
      "outputs": []
    },
    {
      "cell_type": "markdown",
      "metadata": {
        "id": "rL8HumqbE-eC"
      },
      "source": [
        "Transforms for data augmentation"
      ]
    },
    {
      "cell_type": "code",
      "metadata": {
        "id": "ZpM_i-WtDCBz"
      },
      "source": [
        "augment_data = False\n",
        "if augment_data: \n",
        "    transform = transforms.Compose(\n",
        "      [transforms.RandomCrop(32, padding=4),\n",
        "      transforms.RandomHorizontalFlip(),\n",
        "      transforms.ToTensor(),\n",
        "      transforms.Normalize((0.5071, 0.4867, 0.4408), (0.2675, 0.2565, 0.2761))])\n",
        "    \n",
        "    transform_w = transforms.Compose(\n",
        "      [transforms.RandomCrop(32, padding=4),\n",
        "      transforms.RandomHorizontalFlip(),\n",
        "      transforms.ToTensor(),\n",
        "      transforms.Normalize((0, 0, 0), (1, 1, 1))])\n",
        "else: \n",
        "    transform = transforms.Compose(\n",
        "      [transforms.ToTensor(),\n",
        "       transforms.Normalize((0.5071, 0.4867, 0.4408), (0.2675, 0.2565, 0.2761))])\n",
        "    transform_w = transforms.Compose(\n",
        "      [transforms.ToTensor(),\n",
        "       transforms.Normalize((0, 0, 0), (1, 1, 1))])"
      ],
      "execution_count": 5,
      "outputs": []
    },
    {
      "cell_type": "markdown",
      "metadata": {
        "id": "P9dMMQL3upbh"
      },
      "source": [
        "## Load MNIST"
      ]
    },
    {
      "cell_type": "code",
      "metadata": {
        "colab": {
          "base_uri": "https://localhost:8080/"
        },
        "id": "czq7-r-butN9",
        "outputId": "ca2c830f-7ad3-4ce2-dea6-138d9289e4f3"
      },
      "source": [
        "transform = transforms.Compose(\n",
        "      [transforms.Resize(32),\n",
        "      transforms.RandomCrop(32, padding=4),\n",
        "      transforms.RandomHorizontalFlip(),\n",
        "      transforms.ToTensor(),\n",
        "      transforms.Normalize((0.491, 0.482, 0.447), (0.247, 0.243, 0.261))])\n",
        "  \n",
        "  #!wget www.di.ens.fr/~lelarge/MNIST.tar.gz\n",
        "  #!tar -zxvf MNIST.tar.gz\n",
        "transform = transforms.Compose(\n",
        "    [transforms.ToTensor(),\n",
        "     transforms.Normalize((0.1307,), (0.3081,))])\n",
        "\n",
        "trainset = torchvision.datasets.QMNIST(root='./data', train=True,\n",
        "                                          download=True, transform=transform)\n",
        "trainloader = torch.utils.data.DataLoader(trainset, batch_size=train_batchsize,\n",
        "                                            shuffle=True, num_workers=num_workers)\n",
        "\n",
        "testset = torchvision.datasets.QMNIST(root='./data', train=False,\n",
        "                                        download=True, transform=transform)\n",
        "testloader = torch.utils.data.DataLoader(testset, batch_size=test_batchsize,\n",
        "                                          shuffle=False, num_workers=1)\n",
        "\n",
        "classes = ('0', '1', '2', '3', '4', '5', '6', '7', '8', '9')\n",
        "class_total = [np.sum(trainset.targets.numpy()[:,0] == i) for i in range(10)]\n",
        "weights = torch.Tensor(np.max(class_total)/np.array(class_total))\n",
        "print ('train class weights:', weights)\n",
        "\n",
        "print ('QMNIST loaded')"
      ],
      "execution_count": 6,
      "outputs": [
        {
          "output_type": "stream",
          "name": "stdout",
          "text": [
            "train class weights: tensor([1.1383, 1.0000, 1.1316, 1.0997, 1.1541, 1.2437, 1.1392, 1.0761, 1.1523,\n",
            "        1.1333])\n",
            "QMNIST loaded\n"
          ]
        }
      ]
    },
    {
      "cell_type": "markdown",
      "metadata": {
        "id": "Qv8GC0BoFpZm"
      },
      "source": [
        "Reality check"
      ]
    },
    {
      "cell_type": "code",
      "metadata": {
        "colab": {
          "base_uri": "https://localhost:8080/",
          "height": 190
        },
        "id": "5ZH7c5QLShyc",
        "outputId": "c8fefc21-5025-457a-da88-27ae51d37e35"
      },
      "source": [
        "train_iter = iter(trainloader)\n",
        "images, labels = train_iter.next()\n",
        "for i in np.arange(5):\n",
        "  index = int(labels[i].numpy())\n",
        "  plt.subplot(1,5,i+1)\n",
        "  plt.title(classes[index])\n",
        "  plt.axis('off')\n",
        "  im = images[i].squeeze().numpy()\n",
        "  plt.imshow(im)\n",
        "  print ('classes[index], mean:', classes[index], np.mean(im))\n",
        "plt.savefig('MNIST_10.png', dpi = 300)\n",
        "plt.show()"
      ],
      "execution_count": 7,
      "outputs": [
        {
          "output_type": "stream",
          "name": "stdout",
          "text": [
            "classes[index], mean: 0 0.023418263\n",
            "classes[index], mean: 0 0.11519467\n",
            "classes[index], mean: 0 0.040805925\n",
            "classes[index], mean: 3 -0.1697944\n",
            "classes[index], mean: 2 0.117597446\n"
          ]
        },
        {
          "output_type": "display_data",
          "data": {
            "image/png": "[encoded data removed]",
            "text/plain": [
              "<Figure size 432x288 with 5 Axes>"
            ]
          },
          "metadata": {
            "needs_background": "light"
          }
        }
      ]
    },
    {
      "cell_type": "markdown",
      "metadata": {
        "id": "AZfqAMKThb6V"
      },
      "source": [
        "## Model"
      ]
    },
    {
      "cell_type": "code",
      "metadata": {
        "id": "E6-k78fuhfVy"
      },
      "source": [
        "# Reset network for QMNIST\n",
        "class Reset(nn.Module):\n",
        "  def __init__(self, input_channels=1, h1_1=400, gridsize=8, n_classes1=16, n_classes2=10, drop_rate=0.2):\n",
        "    super(Reset, self).__init__()\n",
        "    self.gridsize = gridsize\n",
        "    self.n_classes1 = n_classes1\n",
        "    self.sqrt_n_classes1 = int(n_classes1**0.5)\n",
        "    self.Nest1 = nn.ModuleList([resnet20(num_channels=input_channels, num_classes=n_classes1) for i in np.arange(self.gridsize**2)])\n",
        "    self.Classifier = resnet20(num_channels=1, num_classes=n_classes2)\n",
        "    self.BN0 = nn.BatchNorm2d(num_features = 1)\n",
        "    self.dropout = nn.Dropout(drop_rate)\n",
        "    self.sigmoid = nn.Sigmoid()\n",
        "    self.tanh = nn.Tanh()\n",
        "\t\n",
        "  def forward(self, x):\n",
        "    level1 = [self.Nest1[i](x) for i in np.arange(self.gridsize**2)] #process input through all networks at level 1\n",
        "    level1 = torch.stack(level1, dim=0)\n",
        "    level1 = level1.permute(1,2,0)\n",
        "    # reshape by patch (nested list comprehension probably more elegant)\n",
        "    to_cat = []\n",
        "    for j in np.arange(self.gridsize):\n",
        "      to_cat += [torch.cat([level1[:,:,i].reshape(-1, 1, self.sqrt_n_classes1, self.sqrt_n_classes1) for i in np.arange(j*self.gridsize, (j+1)*self.gridsize)],3)]\n",
        "    grid = torch.cat(to_cat, 2)\n",
        "    #grid = self.sigmoid(grid)\n",
        "    grid = self.tanh(grid)\n",
        "    grid = self.dropout(grid)\n",
        "    grid = self.BN0(grid)\n",
        "    out_c = self.Classifier(grid)\n",
        "    return grid, out_c"
      ],
      "execution_count": 8,
      "outputs": []
    },
    {
      "cell_type": "code",
      "metadata": {
        "colab": {
          "base_uri": "https://localhost:8080/"
        },
        "id": "TUBA5NyRiNX1",
        "outputId": "2776d904-2ae4-4412-8793-a262a2c32ecf"
      },
      "source": [
        "def load_Model(checkpointpath=None, modelname=None, dataset=None, load_model=False,\n",
        "               input_channels=input_channels, gridsize=gridsize, n_classes1=n_classes1, n_classes2=n_classes):\n",
        "\n",
        "  if 'Reset' in modelname:\n",
        "    net = Reset(input_channels=input_channels, gridsize=gridsize, n_classes1=n_classes1, n_classes2=n_classes)\n",
        "    print ('Reset network for QMNIST loaded')\n",
        "\n",
        "  if 'ResNet20' in modelname:\n",
        "    net = hresnet20reg(num_channels=input_channels, num_classes=n_classes)\n",
        "    print ('ResNet20 loaded')\n",
        "\n",
        "  model_total_params = sum(p.numel() for p in net.parameters())\n",
        "  print('==> Model built. The model has ',model_total_params,'total parameters, and ',n_classes,'classes')\n",
        "\n",
        "  if load_model:\n",
        "    #load the model\n",
        "    state = torch.load(checkpointpath + modelname + dataset + 'best_ckpt.t7')\n",
        "    keys = list(state['net'].keys()); print ('This network had', len(keys),'stored sets of parameters')\n",
        "    if 'module.' in keys[0]:\n",
        "      for name in keys:\n",
        "        state['net'][name[7:]] = state['net'].pop(name)\n",
        "    net.load_state_dict(state['net'])\n",
        "    print ('Pretrained weights loaded')\n",
        "\n",
        "  if load_submodels:\n",
        "    #load pretrained submodel\n",
        "    pretrained_dict = submodel.state_dict()\n",
        "    \n",
        "    model_dict = model.state_dict()\n",
        "    # 1. filter out unnecessary keys (remove key for last dense layer)\n",
        "    pretrained_dict = {k: v for k, v in pretrained_dict.items() if k is not 'fc2'}\n",
        "    # 2. overwrite entries in the existing state dict\n",
        "    model_dict.update(pretrained_dict) \n",
        "    # 3. load the new state dict\n",
        "    model.load_state_dict(pretrained_dict)\n",
        "  \n",
        "  return net\n",
        "\n",
        "net = load_Model(checkpointpath=checkpointpath, modelname=modelname, load_model=load_model)"
      ],
      "execution_count": 9,
      "outputs": [
        {
          "output_type": "stream",
          "name": "stdout",
          "text": [
            "ResNet20 loaded\n",
            "==> Model built. The model has  269434 total parameters, and  10 classes\n"
          ]
        }
      ]
    },
    {
      "cell_type": "markdown",
      "metadata": {
        "id": "wFKCRzDnGGtQ"
      },
      "source": [
        "# Training"
      ]
    },
    {
      "cell_type": "markdown",
      "metadata": {
        "id": "yQtbPnojAMVZ"
      },
      "source": [
        "Parallel computing"
      ]
    },
    {
      "cell_type": "code",
      "metadata": {
        "colab": {
          "base_uri": "https://localhost:8080/"
        },
        "id": "E8aznUBZPYQH",
        "outputId": "a19ac00b-da2a-44e2-d840-0eebc5b52905"
      },
      "source": [
        "# Parallel computing\n",
        "device = torch.device(\"cuda\" if use_cuda else \"cpu\")\n",
        "print ('device:', device)\n",
        "net.to(device)\n",
        "net = torch.nn.DataParallel(net)\n",
        "weights = weights.to(device)\n",
        "GPUcount = torch.cuda.device_count()\n",
        "if GPUcount == 0:\n",
        "  print ('No GPU available.')\n",
        "if GPUcount == 1:\n",
        "  print ('One GPU available.')\n",
        "if GPUcount > 1:\n",
        "  print (GPUcount, 'GPUs are available.')\n",
        "print ('GPU type:', torch.cuda.get_device_name())"
      ],
      "execution_count": 10,
      "outputs": [
        {
          "output_type": "stream",
          "name": "stdout",
          "text": [
            "device: cuda\n",
            "One GPU available.\n",
            "GPU type: Tesla P100-PCIE-16GB\n"
          ]
        }
      ]
    },
    {
      "cell_type": "code",
      "metadata": {
        "id": "sfxTZF9v0k2S"
      },
      "source": [
        "Adam=True\n",
        "if Adam:\n",
        "  criterion = nn.CrossEntropyLoss(weight=weights)\n",
        "  optimizer = optim.Adam(net.parameters(), lr=lrate)"
      ],
      "execution_count": 11,
      "outputs": []
    },
    {
      "cell_type": "code",
      "metadata": {
        "id": "PVyRe0h1g2Kc"
      },
      "source": [
        "Sgd=False\n",
        "if Sgd:\n",
        "  criterion = nn.CrossEntropyLoss(weight=weights)\n",
        "  optimizer = optim.SGD(net.parameters(), lr=lrate, momentum=0.9, weight_decay=5e-4)\n",
        "  scheduler = torch.optim.lr_scheduler.CosineAnnealingLR(optimizer, T_max=200)"
      ],
      "execution_count": 12,
      "outputs": []
    },
    {
      "cell_type": "markdown",
      "metadata": {
        "id": "zn05hy_j3UP5"
      },
      "source": [
        "Testing:"
      ]
    },
    {
      "cell_type": "code",
      "metadata": {
        "id": "kFFyUKtvAJY8"
      },
      "source": [
        "def test(net):\n",
        "  net.eval()\n",
        "  start = time.time()\n",
        "  net.to(device)\n",
        "  correct = 0\n",
        "  total = 0\n",
        "  with torch.no_grad():\n",
        "      for data in testloader:\n",
        "          inputs, targets = data\n",
        "          inputs, targets = inputs.to(device), targets.to(device)\n",
        "          grid, outputs = net(inputs)\n",
        "          testloss = criterion(outputs, targets).item()\n",
        "          _, predicted = torch.max(outputs.data, 1)\n",
        "          correct += (predicted == targets).float().sum()\n",
        "          total += labels.size(0)\n",
        "  testacc = (100*correct/total).cpu().numpy()\n",
        "  print('test accuracy of the network on ',total,'test images:',testacc)\n",
        "\n",
        "  end = time.time()\n",
        "  print('Test time:', time.strftime('%H:%M:%S', time.gmtime(end-start)))\n",
        "  print('n')\n",
        "\n",
        "  return grid, testacc"
      ],
      "execution_count": 13,
      "outputs": []
    },
    {
      "cell_type": "markdown",
      "metadata": {
        "id": "-f8vrDnw97pH"
      },
      "source": [
        "Compute grid responses and output accuracies for all categories"
      ]
    },
    {
      "cell_type": "code",
      "metadata": {
        "id": "B3NbZS_FDWWU"
      },
      "source": [
        "def compute_class_grid2(grid, epoch=0, verbose=False):\n",
        "  n = len(classes)\n",
        "  if modelname == 'ResNet20':\n",
        "    gn, gh = grid.shape\n",
        "    gc = 1\n",
        "    gs = int(gh**0.5)\n",
        "  else:\n",
        "    gn, gc, gs, gs = grid.shape\n",
        "  print ('gn, gc, gs, gs', gn, gc, gs, gs)\n",
        "  class_correct = list(0. for i in np.arange(n))\n",
        "  class_total = list(0. for i in np.arange(n))\n",
        "  class_grid = np.ones((n, gs, gs))\n",
        "  with torch.no_grad():\n",
        "      for data in testloader:\n",
        "          images, labels = data\n",
        "          images, labels = images.to(device), labels.to(device)\n",
        "\n",
        "          grid, outputs = net(images)\n",
        "          _, predicted = torch.max(outputs.data, 1)\n",
        "\n",
        "          grid_data = grid.cpu().numpy().squeeze()\n",
        "          if modelname == 'ResNet20':\n",
        "            grid_data = np.reshape(grid_data, (-1, gs, gs))\n",
        "\n",
        "          for i, label in enumerate(labels):\n",
        "              label = int(label.cpu().numpy())\n",
        "              if gc > 1:\n",
        "                class_grid[label] += np.mean(grid[i], axis=0)\n",
        "              else:\n",
        "                class_grid[label] += grid_data[i]\n",
        "              if epoch == 0:\n",
        "                class_grid[label] += np.random.rand(gs, gs)*1e-3 #This trick avoids retruning a single argmax in case of equal values.\n",
        "              class_correct[label] += predicted[i].item()\n",
        "              class_total[label] += 1\n",
        "  class_acc = np.zeros(n)\n",
        "  for i in np.arange(n):\n",
        "      class_acc[i] = 100 * class_correct[i] / class_total[i]\n",
        "      if class_total[i] > 0:\n",
        "        class_grid[i] = class_grid[i]/class_total[i]\n",
        "      if verbose:\n",
        "        print('%3d Accuracy of %5s : %2d %% (%5d / %5d)' % (i, classes[i], class_acc[i], class_correct[i], class_total[i]))\n",
        "  return class_acc, class_grid\n",
        "  \n",
        "go_compute_class_grid2 = False\n",
        "if go_compute_class_grid2:\n",
        "  class_acc, class_grid = compute_class_grid2(grid, verbose=True)"
      ],
      "execution_count": 14,
      "outputs": []
    },
    {
      "cell_type": "markdown",
      "metadata": {
        "id": "i1LrtuXRQsdl"
      },
      "source": [
        "Training"
      ]
    },
    {
      "cell_type": "code",
      "metadata": {
        "colab": {
          "base_uri": "https://localhost:8080/"
        },
        "id": "olmO7hhzQtvY",
        "outputId": "a3788c01-8526-4875-b6e6-45b84d610512"
      },
      "source": [
        "start = time.time()\n",
        "e_start = time.time()\n",
        "ltrain, ltest = len(trainloader), len(testloader)\n",
        "print ('number of mini-batches for training:', ltrain)\n",
        "print ('mini-batch size:', train_batchsize)\n",
        "print ('total number of training exemplars:', ltrain*train_batchsize)\n",
        "print ('\\nnumber of mini-batches for testing:', ltest)\n",
        "print ('mini-batch size:', test_batchsize)\n",
        "\n",
        "if load_model:\n",
        "  test_acc_history = np.load(checkpointpath + modelname + dataset + 'test_acc_history.npy')\n",
        "  class_acc_history = np.load(checkpointpath + modelname + dataset + 'class_acc_history.npy')\n",
        "  class_grid_history = np.load(checkpointpath + modelname + dataset + 'class_grid_history.npy')\n",
        "  last_epoch = len(test_acc_history)\n",
        "  bestacc = np.max(test_acc_history)\n",
        "  print ('saved metrics loaded')\n",
        "else:\n",
        "  test_acc_history = []\n",
        "  class_acc_history = []\n",
        "  class_grid_history = []\n",
        "  last_epoch = 0\n",
        "  bestacc = 0\n",
        "\n",
        "test_every = ltrain//2\n",
        "#test_every = 2*ltrain   #never test\n",
        "print_every = ltrain//20\n",
        "print ('we will test every:', test_every, 'mini-batches, meaning, every',test_every*train_batchsize,'training exemplars.')\n",
        "\n",
        "# Initial testing before training.\n",
        "grid, testacc = test(net)\n",
        "test_acc_history += [testacc]\n",
        "class_acc, class_grid = compute_class_grid2(grid, verbose=False)\n",
        "class_acc_history += [class_acc]\n",
        "class_grid_history += [class_grid]\n",
        "np.save(checkpointpath + modelname + dataset + 'test_acc_history.npy', test_acc_history)\n",
        "np.save(checkpointpath + modelname + dataset + 'class_acc_history.npy', class_acc_history)\n",
        "np.save(checkpointpath + modelname + dataset + 'class_grid_history.npy', class_grid_history)\n",
        "\n",
        "# Start training\n",
        "net.train()\n",
        "for epoch in np.arange(last_epoch + epochs): \n",
        "    print ('Epoch:', epoch) \n",
        "    running_loss = 0.0\n",
        "    running_lossAuto = 0.0\n",
        "    running_lossClass = 0.0\n",
        "    for i, (inputs, labels) in enumerate(trainloader):\n",
        "        inputs, labels = inputs.to(device), labels.to(device)\n",
        "        #print ('labels.size()', labels.size())\n",
        "\n",
        "        optimizer.zero_grad()\n",
        "        grid, outputs = net(inputs)\n",
        "        #print(outputs.size())\n",
        "        loss = criterion(outputs, labels)\n",
        "\n",
        "        \n",
        "        loss.backward()\n",
        "        optimizer.step()\n",
        "\n",
        "        # print statistics\n",
        "        running_loss += loss.item()\n",
        "        if (i != 0) & (i % print_every == 0):    # print\n",
        "          print ('[batch %3d] loss:%.3f' % (i, loss.item()))\n",
        "\n",
        "        if (i != 0) & (i % test_every == 0):    # test \n",
        "            e_end = time.time()\n",
        "            print('\\n\\nTraining time:', time.strftime('%H:%M:%S', time.gmtime(e_end - e_start)))\n",
        "            e_start = time.time()\n",
        "\n",
        "            closs = running_loss / test_every\n",
        "            print('[%d, %5d] loss:%.3f' % (epoch + 1, i + 1, closs))\n",
        "\n",
        "            running_loss = 0.0\n",
        "            _, testacc = test(net)\n",
        "            test_acc_history += [testacc]\n",
        "            class_acc, class_grid = compute_class_grid2(grid, epoch=epoch, verbose=False)\n",
        "            class_acc_history += [class_acc]\n",
        "            class_grid_history += [class_grid]\n",
        "            np.save(checkpointpath + modelname + dataset + 'test_acc_history.npy', test_acc_history)\n",
        "            np.save(checkpointpath + modelname + dataset + 'class_acc_history.npy', class_acc_history)\n",
        "            np.save(checkpointpath + modelname + dataset + 'class_grid_history.npy', class_grid_history)\n",
        "            net.train()\n",
        "\n",
        "            if testacc > bestacc:\n",
        "              print ('saving as best model')\n",
        "              state = {'net': net.state_dict(),}\n",
        "              torch.save(state, checkpointpath + modelname + dataset + 'best_ckpt.t7')\n",
        "              bestacc = testacc\n",
        "np.save(checkpointpath + modelname + dataset + 'test_acc_history.npy', test_acc_history)\n",
        "np.save(checkpointpath + modelname + dataset + 'class_acc_history.npy', class_acc_history)\n",
        "np.save(checkpointpath + modelname + dataset + 'class_grid_history.npy', class_grid_history)\n",
        "end = time.time()\n",
        "print('Done training. Total training time:')\n",
        "print(time.strftime('%H:%M:%S', time.gmtime(end-start)))"
      ],
      "execution_count": 15,
      "outputs": [
        {
          "output_type": "stream",
          "name": "stdout",
          "text": [
            "number of mini-batches for training: 120\n",
            "mini-batch size: 500\n",
            "total number of training exemplars: 60000\n",
            "\n",
            "number of mini-batches for testing: 120\n",
            "mini-batch size: 500\n",
            "we will test every: 60 mini-batches, meaning, every 30000 training exemplars.\n",
            "test accuracy of the network on  60000 test images: 9.801667\n",
            "Test time: 00:00:07\n",
            "n\n",
            "gn, gc, gs, gs 500 1 8 8\n",
            "Epoch: 0\n",
            "[batch   6] loss:2.153\n",
            "[batch  12] loss:1.997\n",
            "[batch  18] loss:1.912\n",
            "[batch  24] loss:1.834\n",
            "[batch  30] loss:1.778\n",
            "[batch  36] loss:1.749\n",
            "[batch  42] loss:1.703\n",
            "[batch  48] loss:1.661\n",
            "[batch  54] loss:1.617\n",
            "[batch  60] loss:1.597\n",
            "\n",
            "\n",
            "Training time: 00:00:19\n",
            "[1,    61] loss:1.870\n",
            "test accuracy of the network on  60000 test images: 83.041664\n",
            "Test time: 00:00:07\n",
            "n\n",
            "gn, gc, gs, gs 500 1 8 8\n",
            "saving as best model\n",
            "[batch  66] loss:1.567\n",
            "[batch  72] loss:1.550\n",
            "[batch  78] loss:1.541\n",
            "[batch  84] loss:1.520\n",
            "[batch  90] loss:1.506\n",
            "[batch  96] loss:1.510\n",
            "[batch 102] loss:1.497\n",
            "[batch 108] loss:1.497\n",
            "[batch 114] loss:1.485\n",
            "Epoch: 1\n",
            "[batch   6] loss:1.491\n",
            "[batch  12] loss:1.483\n",
            "[batch  18] loss:1.483\n",
            "[batch  24] loss:1.483\n",
            "[batch  30] loss:1.487\n",
            "[batch  36] loss:1.491\n",
            "[batch  42] loss:1.479\n",
            "[batch  48] loss:1.480\n",
            "[batch  54] loss:1.479\n",
            "[batch  60] loss:1.477\n",
            "\n",
            "\n",
            "Training time: 00:00:23\n",
            "[2,    61] loss:1.510\n",
            "test accuracy of the network on  60000 test images: 98.23\n",
            "Test time: 00:00:07\n",
            "n\n",
            "gn, gc, gs, gs 500 1 8 8\n",
            "saving as best model\n",
            "[batch  66] loss:1.476\n",
            "[batch  72] loss:1.477\n",
            "[batch  78] loss:1.478\n",
            "[batch  84] loss:1.483\n",
            "[batch  90] loss:1.484\n",
            "[batch  96] loss:1.480\n",
            "[batch 102] loss:1.478\n",
            "[batch 108] loss:1.487\n",
            "[batch 114] loss:1.482\n",
            "Epoch: 2\n",
            "[batch   6] loss:1.480\n",
            "[batch  12] loss:1.474\n",
            "[batch  18] loss:1.473\n",
            "[batch  24] loss:1.474\n",
            "[batch  30] loss:1.471\n",
            "[batch  36] loss:1.475\n",
            "[batch  42] loss:1.476\n",
            "[batch  48] loss:1.474\n",
            "[batch  54] loss:1.472\n",
            "[batch  60] loss:1.475\n",
            "\n",
            "\n",
            "Training time: 00:00:22\n",
            "[3,    61] loss:1.498\n",
            "test accuracy of the network on  60000 test images: 98.52333\n",
            "Test time: 00:00:07\n",
            "n\n",
            "gn, gc, gs, gs 500 1 8 8\n",
            "saving as best model\n",
            "[batch  66] loss:1.470\n",
            "[batch  72] loss:1.470\n",
            "[batch  78] loss:1.470\n",
            "[batch  84] loss:1.480\n",
            "[batch  90] loss:1.481\n",
            "[batch  96] loss:1.477\n",
            "[batch 102] loss:1.471\n",
            "[batch 108] loss:1.474\n",
            "[batch 114] loss:1.476\n",
            "Epoch: 3\n",
            "[batch   6] loss:1.474\n",
            "[batch  12] loss:1.474\n",
            "[batch  18] loss:1.471\n",
            "[batch  24] loss:1.469\n",
            "[batch  30] loss:1.471\n",
            "[batch  36] loss:1.468\n",
            "[batch  42] loss:1.469\n",
            "[batch  48] loss:1.471\n",
            "[batch  54] loss:1.472\n",
            "[batch  60] loss:1.470\n",
            "\n",
            "\n",
            "Training time: 00:00:23\n",
            "[4,    61] loss:1.495\n",
            "test accuracy of the network on  60000 test images: 98.51667\n",
            "Test time: 00:00:07\n",
            "n\n",
            "gn, gc, gs, gs 500 1 8 8\n",
            "[batch  66] loss:1.472\n",
            "[batch  72] loss:1.470\n",
            "[batch  78] loss:1.469\n",
            "[batch  84] loss:1.475\n",
            "[batch  90] loss:1.470\n",
            "[batch  96] loss:1.468\n",
            "[batch 102] loss:1.472\n",
            "[batch 108] loss:1.469\n",
            "[batch 114] loss:1.471\n",
            "Epoch: 4\n",
            "[batch   6] loss:1.474\n",
            "[batch  12] loss:1.466\n",
            "[batch  18] loss:1.469\n",
            "[batch  24] loss:1.469\n",
            "[batch  30] loss:1.470\n",
            "[batch  36] loss:1.468\n",
            "[batch  42] loss:1.469\n",
            "[batch  48] loss:1.470\n",
            "[batch  54] loss:1.466\n",
            "[batch  60] loss:1.468\n",
            "\n",
            "\n",
            "Training time: 00:00:22\n",
            "[5,    61] loss:1.493\n",
            "test accuracy of the network on  60000 test images: 98.99167\n",
            "Test time: 00:00:07\n",
            "n\n",
            "gn, gc, gs, gs 500 1 8 8\n",
            "saving as best model\n",
            "[batch  66] loss:1.470\n",
            "[batch  72] loss:1.466\n",
            "[batch  78] loss:1.469\n",
            "[batch  84] loss:1.469\n",
            "[batch  90] loss:1.467\n",
            "[batch  96] loss:1.469\n",
            "[batch 102] loss:1.469\n",
            "[batch 108] loss:1.464\n",
            "[batch 114] loss:1.467\n",
            "Epoch: 5\n",
            "[batch   6] loss:1.468\n",
            "[batch  12] loss:1.465\n",
            "[batch  18] loss:1.465\n",
            "[batch  24] loss:1.465\n",
            "[batch  30] loss:1.464\n",
            "[batch  36] loss:1.465\n",
            "[batch  42] loss:1.467\n",
            "[batch  48] loss:1.471\n",
            "[batch  54] loss:1.464\n",
            "[batch  60] loss:1.469\n",
            "\n",
            "\n",
            "Training time: 00:00:22\n",
            "[6,    61] loss:1.491\n",
            "test accuracy of the network on  60000 test images: 97.975\n",
            "Test time: 00:00:07\n",
            "n\n",
            "gn, gc, gs, gs 500 1 8 8\n",
            "[batch  66] loss:1.464\n",
            "[batch  72] loss:1.465\n",
            "[batch  78] loss:1.466\n",
            "[batch  84] loss:1.464\n",
            "[batch  90] loss:1.465\n",
            "[batch  96] loss:1.467\n",
            "[batch 102] loss:1.465\n",
            "[batch 108] loss:1.464\n",
            "[batch 114] loss:1.468\n",
            "Epoch: 6\n",
            "[batch   6] loss:1.467\n",
            "[batch  12] loss:1.463\n",
            "[batch  18] loss:1.469\n",
            "[batch  24] loss:1.463\n",
            "[batch  30] loss:1.464\n",
            "[batch  36] loss:1.467\n",
            "[batch  42] loss:1.466\n",
            "[batch  48] loss:1.464\n",
            "[batch  54] loss:1.466\n",
            "[batch  60] loss:1.465\n",
            "\n",
            "\n",
            "Training time: 00:00:23\n",
            "[7,    61] loss:1.490\n",
            "test accuracy of the network on  60000 test images: 98.78333\n",
            "Test time: 00:00:07\n",
            "n\n",
            "gn, gc, gs, gs 500 1 8 8\n",
            "[batch  66] loss:1.467\n",
            "[batch  72] loss:1.466\n",
            "[batch  78] loss:1.465\n",
            "[batch  84] loss:1.466\n",
            "[batch  90] loss:1.463\n",
            "[batch  96] loss:1.467\n",
            "[batch 102] loss:1.463\n",
            "[batch 108] loss:1.465\n",
            "[batch 114] loss:1.468\n",
            "Epoch: 7\n",
            "[batch   6] loss:1.465\n",
            "[batch  12] loss:1.464\n",
            "[batch  18] loss:1.463\n",
            "[batch  24] loss:1.466\n",
            "[batch  30] loss:1.465\n",
            "[batch  36] loss:1.466\n",
            "[batch  42] loss:1.464\n",
            "[batch  48] loss:1.466\n",
            "[batch  54] loss:1.467\n",
            "[batch  60] loss:1.465\n",
            "\n",
            "\n",
            "Training time: 00:00:23\n",
            "[8,    61] loss:1.489\n",
            "test accuracy of the network on  60000 test images: 99.08833\n",
            "Test time: 00:00:07\n",
            "n\n",
            "gn, gc, gs, gs 500 1 8 8\n",
            "saving as best model\n",
            "[batch  66] loss:1.464\n",
            "[batch  72] loss:1.466\n",
            "[batch  78] loss:1.471\n",
            "[batch  84] loss:1.465\n",
            "[batch  90] loss:1.463\n",
            "[batch  96] loss:1.466\n",
            "[batch 102] loss:1.465\n",
            "[batch 108] loss:1.464\n",
            "[batch 114] loss:1.466\n",
            "Epoch: 8\n",
            "[batch   6] loss:1.465\n",
            "[batch  12] loss:1.462\n",
            "[batch  18] loss:1.467\n",
            "[batch  24] loss:1.465\n",
            "[batch  30] loss:1.465\n",
            "[batch  36] loss:1.465\n",
            "[batch  42] loss:1.463\n",
            "[batch  48] loss:1.464\n",
            "[batch  54] loss:1.462\n",
            "[batch  60] loss:1.467\n",
            "\n",
            "\n",
            "Training time: 00:00:23\n",
            "[9,    61] loss:1.489\n",
            "test accuracy of the network on  60000 test images: 99.12667\n",
            "Test time: 00:00:07\n",
            "n\n",
            "gn, gc, gs, gs 500 1 8 8\n",
            "saving as best model\n",
            "[batch  66] loss:1.466\n",
            "[batch  72] loss:1.465\n",
            "[batch  78] loss:1.464\n",
            "[batch  84] loss:1.463\n",
            "[batch  90] loss:1.465\n",
            "[batch  96] loss:1.464\n",
            "[batch 102] loss:1.464\n",
            "[batch 108] loss:1.465\n",
            "[batch 114] loss:1.463\n",
            "Epoch: 9\n",
            "[batch   6] loss:1.465\n",
            "[batch  12] loss:1.464\n",
            "[batch  18] loss:1.463\n",
            "[batch  24] loss:1.463\n",
            "[batch  30] loss:1.463\n",
            "[batch  36] loss:1.464\n",
            "[batch  42] loss:1.467\n",
            "[batch  48] loss:1.463\n",
            "[batch  54] loss:1.465\n",
            "[batch  60] loss:1.465\n",
            "\n",
            "\n",
            "Training time: 00:00:23\n",
            "[10,    61] loss:1.489\n",
            "test accuracy of the network on  60000 test images: 99.10167\n",
            "Test time: 00:00:07\n",
            "n\n",
            "gn, gc, gs, gs 500 1 8 8\n",
            "[batch  66] loss:1.466\n",
            "[batch  72] loss:1.464\n",
            "[batch  78] loss:1.463\n",
            "[batch  84] loss:1.463\n",
            "[batch  90] loss:1.462\n",
            "[batch  96] loss:1.463\n",
            "[batch 102] loss:1.463\n",
            "[batch 108] loss:1.464\n",
            "[batch 114] loss:1.464\n",
            "Done training. Total training time:\n",
            "00:04:06\n"
          ]
        }
      ]
    },
    {
      "cell_type": "markdown",
      "metadata": {
        "id": "Z_56hLLurEbj"
      },
      "source": [
        "## Various tests"
      ]
    },
    {
      "cell_type": "code",
      "metadata": {
        "colab": {
          "base_uri": "https://localhost:8080/",
          "height": 790
        },
        "id": "c-pEWs7pcjAT",
        "outputId": "d579a845-33ea-4bd7-b0b2-7e0c6bfda8b1"
      },
      "source": [
        "  class_grid_history = np.load(checkpointpath + modelname + dataset + 'class_grid_history.npy')\n",
        "  print ('class_grid_history.shape',class_grid_history.shape)\n",
        "  for i in range(10):\n",
        "    plt.subplot(5,2,i+1)\n",
        "    plt.imshow(class_grid_history[0,i])\n",
        "    plt.colorbar()\n",
        "  plt.show()\n",
        "  #A = np.sum(class_grid_history[0], axis=0)\n",
        "  A = class_grid_history[0,0]\n",
        "  B = class_grid_history[0,1]\n",
        "  if np.array_equal(A,B):\n",
        "    print ('all the same')\n",
        "  vis = np.argmax(class_grid_history[0],axis=0)\n",
        "  plt.imshow(vis)\n",
        "  plt.colorbar()\n",
        "  plt.show()\n",
        "  # visualize how many elements the argmax returns at each location of the grid\n",
        "  for i in range(32):\n",
        "     for j in range(32):\n",
        "       tube = class_grid_history[0,:,i,j]\n",
        "       vis[i,j] = len(np.flatnonzero(tube == np.max(tube)))\n",
        "  plt.imshow(vis)\n",
        "  plt.colorbar()\n",
        "  plt.show()"
      ],
      "execution_count": 4,
      "outputs": [
        {
          "output_type": "stream",
          "name": "stdout",
          "text": [
            "class_grid_history.shape (11, 10, 32, 32)\n"
          ]
        },
        {
          "output_type": "display_data",
          "data": {
            "image/png": "[encoded data removed]",
            "text/plain": [
              "<Figure size 432x288 with 20 Axes>"
            ]
          },
          "metadata": {
            "needs_background": "light"
          }
        },
        {
          "output_type": "display_data",
          "data": {
            "image/png": "[encoded data removed]",
            "text/plain": [
              "<Figure size 432x288 with 2 Axes>"
            ]
          },
          "metadata": {
            "needs_background": "light"
          }
        },
        {
          "output_type": "display_data",
          "data": {
            "image/png": "[encoded data removed]",
            "text/plain": [
              "<Figure size 432x288 with 2 Axes>"
            ]
          },
          "metadata": {
            "needs_background": "light"
          }
        }
      ]
    },
    {
      "cell_type": "code",
      "metadata": {
        "colab": {
          "base_uri": "https://localhost:8080/",
          "height": 317
        },
        "id": "G1_HF-XcdeKv",
        "outputId": "a20ba7b4-e2a1-4aeb-f369-00436f81ccf2"
      },
      "source": [
        "# Test model\n",
        "grid, testacc = test(net)\n",
        "print ('testacc=', testacc)\n",
        "print ('grid shape:', grid.size())\n",
        "grid = grid.detach().cpu().numpy()\n",
        "plt.imshow(np.mean(grid[:,0,:,:], axis=0));plt.colorbar();plt.show()\n",
        "print ('grid min:',np.min(grid[:,0,:,:]))\n",
        "print ('grid mean:',np.mean(grid[:,0,:,:]))\n",
        "print ('grid max:',np.max(grid[:,0,:,:]))"
      ],
      "execution_count": 17,
      "outputs": [
        {
          "output_type": "stream",
          "name": "stdout",
          "text": [
            "test accuracy of the network on  60000 test images: 98.25667\n",
            "Test time: 00:00:07\n",
            "n\n",
            "testacc= 98.25667\n",
            "grid shape: torch.Size([500, 64])\n"
          ]
        },
        {
          "output_type": "error",
          "ename": "IndexError",
          "evalue": "ignored",
          "traceback": [
            "\u001b[0;31m---------------------------------------------------------------------------\u001b[0m",
            "\u001b[0;31mIndexError\u001b[0m                                Traceback (most recent call last)",
            "\u001b[0;32m<ipython-input-17-ab1c7432d20e>\u001b[0m in \u001b[0;36m<module>\u001b[0;34m()\u001b[0m\n\u001b[1;32m      4\u001b[0m \u001b[0mprint\u001b[0m \u001b[0;34m(\u001b[0m\u001b[0;34m'grid shape:'\u001b[0m\u001b[0;34m,\u001b[0m \u001b[0mgrid\u001b[0m\u001b[0;34m.\u001b[0m\u001b[0msize\u001b[0m\u001b[0;34m(\u001b[0m\u001b[0;34m)\u001b[0m\u001b[0;34m)\u001b[0m\u001b[0;34m\u001b[0m\u001b[0;34m\u001b[0m\u001b[0m\n\u001b[1;32m      5\u001b[0m \u001b[0mgrid\u001b[0m \u001b[0;34m=\u001b[0m \u001b[0mgrid\u001b[0m\u001b[0;34m.\u001b[0m\u001b[0mdetach\u001b[0m\u001b[0;34m(\u001b[0m\u001b[0;34m)\u001b[0m\u001b[0;34m.\u001b[0m\u001b[0mcpu\u001b[0m\u001b[0;34m(\u001b[0m\u001b[0;34m)\u001b[0m\u001b[0;34m.\u001b[0m\u001b[0mnumpy\u001b[0m\u001b[0;34m(\u001b[0m\u001b[0;34m)\u001b[0m\u001b[0;34m\u001b[0m\u001b[0;34m\u001b[0m\u001b[0m\n\u001b[0;32m----> 6\u001b[0;31m \u001b[0mplt\u001b[0m\u001b[0;34m.\u001b[0m\u001b[0mimshow\u001b[0m\u001b[0;34m(\u001b[0m\u001b[0mnp\u001b[0m\u001b[0;34m.\u001b[0m\u001b[0mmean\u001b[0m\u001b[0;34m(\u001b[0m\u001b[0mgrid\u001b[0m\u001b[0;34m[\u001b[0m\u001b[0;34m:\u001b[0m\u001b[0;34m,\u001b[0m\u001b[0;36m0\u001b[0m\u001b[0;34m,\u001b[0m\u001b[0;34m:\u001b[0m\u001b[0;34m,\u001b[0m\u001b[0;34m:\u001b[0m\u001b[0;34m]\u001b[0m\u001b[0;34m,\u001b[0m \u001b[0maxis\u001b[0m\u001b[0;34m=\u001b[0m\u001b[0;36m0\u001b[0m\u001b[0;34m)\u001b[0m\u001b[0;34m)\u001b[0m\u001b[0;34m;\u001b[0m\u001b[0mplt\u001b[0m\u001b[0;34m.\u001b[0m\u001b[0mcolorbar\u001b[0m\u001b[0;34m(\u001b[0m\u001b[0;34m)\u001b[0m\u001b[0;34m;\u001b[0m\u001b[0mplt\u001b[0m\u001b[0;34m.\u001b[0m\u001b[0mshow\u001b[0m\u001b[0;34m(\u001b[0m\u001b[0;34m)\u001b[0m\u001b[0;34m\u001b[0m\u001b[0;34m\u001b[0m\u001b[0m\n\u001b[0m\u001b[1;32m      7\u001b[0m \u001b[0mprint\u001b[0m \u001b[0;34m(\u001b[0m\u001b[0;34m'grid min:'\u001b[0m\u001b[0;34m,\u001b[0m\u001b[0mnp\u001b[0m\u001b[0;34m.\u001b[0m\u001b[0mmin\u001b[0m\u001b[0;34m(\u001b[0m\u001b[0mgrid\u001b[0m\u001b[0;34m[\u001b[0m\u001b[0;34m:\u001b[0m\u001b[0;34m,\u001b[0m\u001b[0;36m0\u001b[0m\u001b[0;34m,\u001b[0m\u001b[0;34m:\u001b[0m\u001b[0;34m,\u001b[0m\u001b[0;34m:\u001b[0m\u001b[0;34m]\u001b[0m\u001b[0;34m)\u001b[0m\u001b[0;34m)\u001b[0m\u001b[0;34m\u001b[0m\u001b[0;34m\u001b[0m\u001b[0m\n\u001b[1;32m      8\u001b[0m \u001b[0mprint\u001b[0m \u001b[0;34m(\u001b[0m\u001b[0;34m'grid mean:'\u001b[0m\u001b[0;34m,\u001b[0m\u001b[0mnp\u001b[0m\u001b[0;34m.\u001b[0m\u001b[0mmean\u001b[0m\u001b[0;34m(\u001b[0m\u001b[0mgrid\u001b[0m\u001b[0;34m[\u001b[0m\u001b[0;34m:\u001b[0m\u001b[0;34m,\u001b[0m\u001b[0;36m0\u001b[0m\u001b[0;34m,\u001b[0m\u001b[0;34m:\u001b[0m\u001b[0;34m,\u001b[0m\u001b[0;34m:\u001b[0m\u001b[0;34m]\u001b[0m\u001b[0;34m)\u001b[0m\u001b[0;34m)\u001b[0m\u001b[0;34m\u001b[0m\u001b[0;34m\u001b[0m\u001b[0m\n",
            "\u001b[0;31mIndexError\u001b[0m: too many indices for array: array is 2-dimensional, but 4 were indexed"
          ]
        }
      ]
    },
    {
      "cell_type": "markdown",
      "metadata": {
        "id": "8qKDiRKupJ-o"
      },
      "source": [
        "## Number topography"
      ]
    },
    {
      "cell_type": "code",
      "metadata": {
        "id": "_1VHgsA9pXCq"
      },
      "source": [
        "\"\"\"\n",
        "def topo(data, lc=9, pad=1):\n",
        "  lx, ly = data.shape\n",
        "  # create a copy padded with -1\n",
        "  topo_index = 0\n",
        "  map_below = -1*np.ones((lx+2*pad,ly+2*pad))\n",
        "  map_below[pad:-pad, pad:-pad] = np.copy(data)\n",
        "  data = masked_array(data, data < 0)\n",
        "  map_below = masked_array(map_below, map_below < 0)\n",
        "  count = 0\n",
        "  for i in range(lx):\n",
        "    for j in range(ly):\n",
        "      #compute similarity between each unit and its neighbor.\n",
        "      if data[i,j] != -1:\n",
        "        lo = map_below[i-pad : i+pad+1, j-pad : j+pad+1]\n",
        "        n = np.sum(lo>-1)\n",
        "        if n != 0:\n",
        "          topo_index += 1 - np.mean(np.abs(lo - data[i,j]))/(lc)\n",
        "          count += 1\n",
        "  topo_index = topo_index/count\n",
        "  return topo_index\n",
        "\"\"\"\n",
        "def topo(data):\n",
        "  #topo_index = np.mean(ndimage.sobel(data)) # the more variations on the sobeled map, the less the neighbors are the same, the less topography.\n",
        "  #topo_index = np.mean(data - gaussian_filter(data, sigma = 1))\n",
        "  filter = (-1/8)*np.ones((3, 3));filter[0,0]=1\n",
        "  d = np.mean(ndimage.convolve(data, filter))\n",
        "  dz = np.mean(ndimage.convolve(data, (1/8)*np.ones((3, 3))))\n",
        "  if d != 0:\n",
        "    topo_index = 1/d # topography == same neighbors ==> more canceling ==> low mean ==> high inverse of mean\n",
        "  else:\n",
        "    topo_index = dz\n",
        "  return topo_index\n",
        "\n",
        "def clustering_index2(data, threshold=0.85, connectivity=4):\n",
        "  den_index = np.sum(data)\n",
        "  data = (data > threshold).astype(np.uint8)\n",
        "  # Thresholding\n",
        "  ret, thresh = cv2.threshold(data,0,255,cv2.THRESH_BINARY+cv2.THRESH_OTSU)\n",
        "  # Choose 4 or 8 for connectivity type\n",
        "  num_labels, labels, stats, centroids = cv2.connectedComponentsWithStats(thresh, connectivity, cv2.CV_32S)\n",
        "  clu_index = np.mean(stats[1:,-1])\n",
        "  if math.isnan(clu_index):\n",
        "    clu_index = 1 #minimal cluster size\n",
        "  topo_index = topo(data)\n",
        "  return num_labels, labels, clu_index, topo_index\n",
        "\n",
        "def compute_pipeline2(select1, select2, T = 1, connectivity = 8, gf_sigma=0, show=False):\n",
        "\n",
        "  # compute d-prime sensitivity measure at each point of the grid\n",
        "  mean1 = np.mean(select1, axis=0)\n",
        "  mean2 = np.mean(select2, axis=0)\n",
        "  std1 = np.var(select1, axis=0)**0.5\n",
        "  std2 = np.var(select2, axis=0)**0.5\n",
        "\n",
        "  # possibly smooth activations\n",
        "  gf_sigma = 0#.5\n",
        "  smean1 = gaussian_filter(mean1, sigma = gf_sigma)   # smoothing\n",
        "  smean2 = gaussian_filter(mean2, sigma = gf_sigma)   \n",
        "\n",
        "  # compute d-prime map\n",
        "  dmap = 2*(smean1 - smean2)/(std1 + std2)\n",
        "\n",
        "  # compute clustering index\n",
        "  _, _, clu_index,topo_index = clustering_index2(dmap, threshold=T, connectivity=connectivity)\n",
        "\n",
        "  # compute control clustering index\n",
        "  clu_index_ctrl = 0\n",
        "  topo_index_ctrl = 0\n",
        "  power = 20\n",
        "  for k in range(10):\n",
        "    dmapshuf = np.ravel(np.copy(dmap))\n",
        "    np.random.shuffle(dmapshuf)\n",
        "    dmapshuf = np.reshape(dmapshuf, dmap.shape)\n",
        "    _, _, ctrl_clu, ctrl_topo = clustering_index2(dmapshuf, threshold=T, connectivity=connectivity)\n",
        "    clu_index_ctrl += ctrl_clu\n",
        "    topo_index_ctrl += ctrl_topo\n",
        "  clu_index_ctrl = clu_index_ctrl/float(power)\n",
        "  topo_index_ctrl = topo_index_ctrl/float(power)\n",
        "\n",
        "  # return variables\n",
        "  targets_data = dmap #> T\n",
        "\n",
        "  density = np.sum(smean1)\n",
        "  if show:\n",
        "    plt.figure(figsize=(10,10))\n",
        "    plt.subplot(141);plt.imshow(mean1);plt.title('mean1');plt.axis('off')\n",
        "    plt.subplot(142);plt.imshow(mean2);plt.title('mean2');plt.axis('off')\n",
        "    plt.subplot(143);plt.imshow(dmap);plt.title('dprimes 1-2');plt.axis('off');plt.colorbar(orientation='horizontal')\n",
        "    plt.subplot(144);plt.imshow(dmap>T);plt.title('clustering:'+str(clu_index)[:5]);plt.axis('off');plt.colorbar(orientation='horizontal')\n",
        "    plt.show()\n",
        "    return stop_error\n",
        "  \n",
        "  return targets_data, clu_index, clu_index_ctrl, topo_index, topo_index_ctrl, density\n",
        "\n",
        "def compute_save_metrics2(modelname=None, dataset=None, T=2, S=0, nopref=False):\n",
        "  # load data history\n",
        "  class_acc_history = np.load(checkpointpath + modelname + dataset + 'class_acc_history.npy')\n",
        "  print ('class_acc_history.shape',class_acc_history.shape)\n",
        "  class_grid_history = np.load(checkpointpath + modelname + dataset + 'class_grid_history.npy')\n",
        "  print ('class_grid_history.shape',class_grid_history.shape)\n",
        "\n",
        "  # initialize arrays \n",
        "  n_epochs,_,x,y = np.shape(class_grid_history)\n",
        "  n_classes = lc\n",
        "  print ('n_epochs,n_classes,x,y', n_epochs,n_classes,x,y)\n",
        "  target_maps_history = np.zeros((n_epochs, n_classes, x, y))\n",
        "  clustering_history = np.zeros((n_epochs, n_classes))\n",
        "  clustering_history_ctrl = np.zeros((n_epochs, n_classes))\n",
        "  topo_history = np.zeros((n_epochs, n_classes))\n",
        "  topo_history_ctrl = np.zeros((n_epochs, n_classes))\n",
        "  density_history = np.zeros((n_epochs, n_classes))\n",
        "  target_acc_history = np.zeros((n_epochs, n_classes))\n",
        "\n",
        "  # setting parameters for sensitivity and clustering analysis\n",
        "  connectivity = 4\n",
        "\n",
        "  # consider a contrast between two sets of classes, here animals vs objects\n",
        "  \n",
        "  sets1 = np.arange(lc)\n",
        "  sets2 = np.array([[j for j in sets1 if i != j] for i in sets1])\n",
        "  \n",
        "  # compute\n",
        "  for epoch in range(n_epochs):\n",
        "    print ('analyzing data from epoch', epoch)\n",
        "    for cat, (set1, set2) in enumerate(zip(sets1, sets2)):\n",
        "      #print ('cat', cat)\n",
        "      #print ('set1', set1)\n",
        "      #print ('set2', set2)\n",
        "      select1 = class_grid_history[epoch, set1]\n",
        "      select1 = np.expand_dims(select1, axis=0) #easier to expand dim here this way, for clustering index.\n",
        "      select2 = class_grid_history[epoch, set2]\n",
        "      \n",
        "      targets_data, clustering, clustering_ctrl, topo, topo_ctrl, density = compute_pipeline2(select1, select2, T = T, connectivity = connectivity, gf_sigma=S, show=False)\n",
        "      target_maps_history[epoch, cat] = targets_data\n",
        "      clustering_history[epoch, cat] = clustering\n",
        "      clustering_history_ctrl[epoch, cat] = clustering_ctrl\n",
        "      topo_history[epoch, cat] = topo\n",
        "      topo_history_ctrl[epoch, cat] = topo_ctrl\n",
        "      density_history[epoch, cat] = density\n",
        "      target_acc_history[epoch, cat] = np.mean(class_acc_history[epoch,set1])\n",
        "\n",
        "  # create label maps. This makes a lot of sense for numerosity, since we've got a clear number line.\n",
        "  \n",
        "  if nopref:\n",
        "    # label -1 will stand for \"no preference\", when all d-primes are below thresholds\n",
        "    # we achieve that by concatenating a no preference map before the d-prime maps, filled with a high value.\n",
        "    # then we remove 1 to all the labels.\n",
        "    label_maps_history = np.zeros((n_epochs,x,y))\n",
        "    for epoch, target_maps in enumerate(target_maps_history):\n",
        "      thres_data = (target_maps<T)\n",
        "      #print ('thres_data.shape',thres_data.shape)\n",
        "      indices_no_pref = (np.sum(thres_data, axis=0) == lc)\n",
        "      #print ('indices_no_pref.shape',indices_no_pref.shape)\n",
        "      #print ('indices_no_pref', indices_no_pref)\n",
        "      #plt.imshow(indices_no_pref);plt.show()\n",
        "      #print ('indices_no_pref', indices_no_pref)\n",
        "      no_pref = 100*indices_no_pref\n",
        "      #plt.imshow(no_pref);plt.show()\n",
        "      no_pref = np.expand_dims(no_pref, axis=0)\n",
        "      #print ('no_pref.shape',no_pref.shape)\n",
        "      target_maps = np.concatenate((no_pref, target_maps))\n",
        "      #print ('target_maps.shape',target_maps.shape)\n",
        "      label_maps = np.argmax(target_maps, axis=0) - 1\n",
        "      #print ('label_maps.shape, min, max',label_maps.shape, label_maps.min(), label_maps.max())\n",
        "      #plt.imshow(label_maps);plt.colorbar();plt.show()\n",
        "      label_maps_history[epoch] = label_maps\n",
        "    masked_array(label_maps_history, label_maps_history < 0)\n",
        "    #plt.imshow(masked_array(label_maps, label_maps < 0));plt.colorbar();plt.show()\n",
        "\n",
        "    #save\n",
        "    np.save(checkpointpath + modelname + dataset + 'target_acc_history.npy', target_acc_history)\n",
        "    np.save(checkpointpath + modelname + dataset + 'target_maps_history.npy', target_maps_history) \n",
        "    np.save(checkpointpath + modelname + dataset + 'label_maps_history_nopref.npy', label_maps_history)\n",
        "    np.save(checkpointpath + modelname + dataset + 'density_history.npy', density_history)\n",
        "    np.save(checkpointpath + modelname + dataset + 'clustering_history.npy', clustering_history)\n",
        "    np.save(checkpointpath + modelname + dataset + 'clustering_history_ctrl.npy', clustering_history_ctrl)\n",
        "    np.save(checkpointpath + modelname + dataset + 'topo_history.npy', topo_history)\n",
        "    np.save(checkpointpath + modelname + dataset + 'topo_history_ctrl.npy', topo_history_ctrl)\n",
        "\n",
        "  else:\n",
        "    label_maps_history = np.argmax(target_maps_history, axis=1)\n",
        "    \n",
        "    #save\n",
        "    np.save(checkpointpath + modelname + dataset + 'target_acc_history.npy', target_acc_history)\n",
        "    np.save(checkpointpath + modelname + dataset + 'target_maps_history.npy', target_maps_history) \n",
        "    np.save(checkpointpath + modelname + dataset + 'label_maps_history.npy', label_maps_history)\n",
        "    np.save(checkpointpath + modelname + dataset + 'density_history.npy', density_history)\n",
        "    np.save(checkpointpath + modelname + dataset + 'clustering_history.npy', clustering_history)\n",
        "    np.save(checkpointpath + modelname + dataset + 'clustering_history_ctrl.npy', clustering_history_ctrl)\n",
        "    np.save(checkpointpath + modelname + dataset + 'topo_history.npy', topo_history)\n",
        "    np.save(checkpointpath + modelname + dataset + 'topo_history_ctrl.npy', topo_history_ctrl)"
      ],
      "execution_count": 18,
      "outputs": []
    },
    {
      "cell_type": "code",
      "metadata": {
        "id": "xjw6A-ILve4y"
      },
      "source": [
        "def animate_numerosity(T=None, S_map = None, save=True, nopref=False):\n",
        "  import numpy as np\n",
        "  from numpy.ma import masked_array\n",
        "  import matplotlib.pyplot as plt\n",
        "  from matplotlib import animation, rc\n",
        "  from IPython.display import HTML\n",
        "  from scipy.stats import describe\n",
        "\n",
        "  test_acc_history = np.load(checkpointpath + modelname + dataset + 'test_acc_history.npy')\n",
        "  target_acc_history = np.load(checkpointpath + modelname + dataset + 'target_acc_history.npy')\n",
        "  density_history = np.load(checkpointpath + modelname + dataset + 'density_history.npy')\n",
        "  clustering_history = np.load(checkpointpath + modelname + dataset + 'clustering_history.npy')\n",
        "  clustering_history_ctrl = np.load(checkpointpath + modelname + dataset + 'clustering_history_ctrl.npy')\n",
        "  topo_history = np.load(checkpointpath + modelname + dataset + 'topo_history.npy')\n",
        "  topo_history_ctrl = np.load(checkpointpath + modelname + dataset + 'topo_history_ctrl.npy')\n",
        "  if nopref:\n",
        "    label_maps_history = np.load(checkpointpath + modelname + dataset + 'label_maps_history_nopref.npy')\n",
        "  else:\n",
        "    label_maps_history = np.load(checkpointpath + modelname + dataset + 'label_maps_history.npy')\n",
        "\n",
        "  print ('label_maps_history.shape, min, max',label_maps_history.shape, label_maps_history.min(), label_maps_history.max())\n",
        "  epoch, x, y = label_maps_history.shape\n",
        "\n",
        "  target_acc_history = np.median(target_acc_history, axis=1)\n",
        "  density_history = np.median(density_history, axis=1)\n",
        "  clustering_history = np.median(clustering_history, axis=1)\n",
        "  clustering_history_ctrl = np.median(clustering_history_ctrl, axis=1)\n",
        "  topo_history = np.median(topo_history, axis=1)\n",
        "  topo_history_ctrl = np.median(topo_history_ctrl, axis=1)\n",
        "  \n",
        "  print ('test_acc_history.shape', test_acc_history.shape)\n",
        "  print ('target_acc_history.shape', target_acc_history.shape)\n",
        "  print ('density_history.shape', density_history.shape)\n",
        "  print ('label_maps_history.shape', label_maps_history.shape)\n",
        "  print ('clustering_history.shape', clustering_history.shape)\n",
        "  print ('clustering_history_ctrl.shape', clustering_history_ctrl.shape)\n",
        "  print ('topo_history.shape', topo_history.shape)\n",
        "  print ('topo_history_ctrl.shape', topo_history_ctrl.shape)\n",
        "  print ('topo_history', topo_history)\n",
        "  print ('topo_history_ctrl', topo_history_ctrl)\n",
        "  print ('clustering_history', clustering_history)\n",
        "  print ('clustering_history_ctrl', clustering_history_ctrl)\n",
        "  print ('describe(clustering_history)', describe(np.ravel(clustering_history)))\n",
        "  print ('describe(density_history)', describe(np.ravel(density_history)))\n",
        "\n",
        "  epochs = np.arange(epoch)\n",
        "  nans = np.nan*np.zeros(epoch)\n",
        "  acc_lines, clu_lines, clu_ctrl_lines, topo_lines, topo_ctrl_lines, den_lines = [[]], [[]], [[]], [[]], [[]], [[]]\n",
        "\n",
        "  titles = classes\n",
        "  l = len(titles)\n",
        "\n",
        "  fig = plt.figure(figsize=(12, 12)) \n",
        "  ncols, nrows = 15, 15\n",
        "  gs = gridspec.GridSpec(nrows, ncols, left=0.05, bottom=0.05, right=0.95, top=0.95, wspace=2, hspace=10)\n",
        "  plt.subplots_adjust(left=None, bottom=None, right=None, top=None, wspace=0.1, hspace=None)\n",
        "  # Add axes which can span multiple grid boxes\n",
        "  ax0 = fig.add_subplot(gs[:3, :5])\n",
        "  ax1 = fig.add_subplot(gs[:3, 5:10])\n",
        "  ax2 = fig.add_subplot(gs[:3, 10:15])\n",
        "  ax3 = fig.add_subplot(gs[3:, :15])\n",
        "\n",
        "  #plt.suptitle(modelname+' '+dataset, size=25)\n",
        "  ax0.set_title('Test accuracy', size=20)\n",
        "  ax0.set_xlabel('Epochs', size=13) \n",
        "  ax0.set_xlim(0, epoch+1)\n",
        "  \n",
        "  #ax1.set_title('clustering index', size=20)\n",
        "  ax1.set_title('Cluster size', size=20)\n",
        "  ax1.set_xlabel('Epochs', size=13)\n",
        "  ax1.set_xlim(0,epoch+1)\n",
        "  \n",
        "  #ax2.set_title('density index', size=20)\n",
        "  ax2.set_title('Neighbor similarity', size=20)\n",
        "  ax2.set_xlabel('Epochs', size=13)\n",
        "  ax2.set_xlim(0,epoch+1)\n",
        "  \n",
        "  ax3.set_title('Epoch 0', size=20, y=-0.07)\n",
        "  ax3.tick_params(\n",
        "          axis='x',          # changes apply to the x-axis\n",
        "          which='both',      # both major and minor ticks are affected\n",
        "          bottom=False,      # ticks along the bottom edge are off\n",
        "          top=False,         # ticks along the top edge are off\n",
        "          labelbottom=False) # labels along the bottom edge are off\n",
        "  ax3.tick_params(\n",
        "          axis='y',          # changes apply to the x-axis\n",
        "          which='both',      # both major and minor ticks are affected\n",
        "          left=False,      # ticks along the bottom edge are off\n",
        "          right=False,         # ticks along the top edge are off\n",
        "          labelleft=False) # labels along the bottom edge are off\n",
        "  \n",
        "  MAX = np.max(label_maps_history)\n",
        "  smooth = True\n",
        "  sigma_curves = 1\n",
        "  if smooth:\n",
        "    target_acc_history = ndimage.gaussian_filter1d(target_acc_history, sigma_curves, axis=0)\n",
        "    clustering_history = ndimage.gaussian_filter1d(clustering_history, sigma_curves, axis=0)\n",
        "    clustering_history_ctrl = ndimage.gaussian_filter1d(clustering_history_ctrl, sigma_curves, axis=0)\n",
        "    topo_history = ndimage.gaussian_filter1d(topo_history, sigma_curves, axis=0)\n",
        "    topo_history_ctrl = ndimage.gaussian_filter1d(topo_history_ctrl, sigma_curves, axis=0)\n",
        "    density_history = ndimage.gaussian_filter1d(density_history, sigma_curves, axis=0)\n",
        "  \n",
        "  rescale = True\n",
        "  min_acc, max_acc = np.min(target_acc_history), np.max(target_acc_history)\n",
        "  min_clu = np.min((np.min(clustering_history), np.min(clustering_history_ctrl))) \n",
        "  max_clu = np.max((np.max(clustering_history), np.max(clustering_history_ctrl)))\n",
        "  min_topo = np.min((np.min(topo_history), np.min(topo_history_ctrl)))\n",
        "  max_topo = np.max((np.max(topo_history), np.max(topo_history_ctrl)))\n",
        "  min_den, max_den = np.min(density_history), np.max(density_history)\n",
        "  if rescale:\n",
        "    target_acc_history = 100*(target_acc_history - min_acc) / (max_acc - min_acc)\n",
        "    clustering_history = (clustering_history - min_clu) / (max_clu - min_clu)\n",
        "    clustering_history_ctrl = (clustering_history_ctrl - min_clu) / (max_clu - min_clu)\n",
        "    topo_history = (topo_history - min_topo) / (max_topo - min_topo)\n",
        "    topo_history_ctrl = (topo_history_ctrl - min_topo) / (max_topo - min_topo)\n",
        "    density_history = (density_history - min_den) / (max_den - min_den)\n",
        "    ax0.set_ylim(0,105) \n",
        "    ax1.set_ylim(0,1.05)\n",
        "    ax2.set_ylim(0,1.05)\n",
        "  else:\n",
        "    ax0.set_ylim(np.floor(min_acc), np.ceil(max_acc)) \n",
        "    ax1.set_ylim(0, np.ceil(max_clu))\n",
        "    ax2.set_ylim(min_topo, np.ceil(max_topo))\n",
        "    #ax2.set_ylim(0, 100)\n",
        "    #ax2.set_ylim(np.floor(min_den), np.ceil(max_den))\n",
        "\n",
        "  max = 9; min = 0\n",
        "  cmap = plt.get_cmap('gist_rainbow', max+1-min)\n",
        "  color = 'black'\n",
        "  # plot: accuracy\n",
        "  acc_lines[0], = ax0.plot([], [], color=color, lw=2)\n",
        "  # plot: clustering\n",
        "  clu_lines[0], = ax1.plot([], [], color=color, label='normal', lw=2)\n",
        "  # plot: clustering ctrl\n",
        "  clu_ctrl_lines[0], = ax1.plot([], [], color='gray', label='shuffled', lw=2);ax1.legend(frameon=False)\n",
        "  # plot: topo\n",
        "  topo_lines[0], = ax2.plot([], [], color=color, lw=2)\n",
        "  # plot: topo ctrl\n",
        "  topo_ctrl_lines[0], = ax2.plot([], [], color='gray', label='shuffled', lw=2)#;ax1.legend(frameon=False)\n",
        "  # plot: density\n",
        "  #den_lines[0], = ax3.plot([], [], color=color, lw=2)\n",
        "  # plot: common map\n",
        "  data = label_maps_history[0]\n",
        "  images = ax3.imshow(data, alpha=0.7, cmap=plt.get_cmap(cmap), vmin = min -.5, vmax = max +.5)\n",
        "  \n",
        "  #cb = plt.colorbar(images, ticks=np.arange(min, max+1), pad=0.01)\n",
        "  #cb.set_ticklabels(['0', '1', '2', '3', '4', '5', '6', '7', '8', '9', 'No Pref'])\n",
        "  cb = plt.colorbar(images, ticks=np.arange(min, max+1), pad=0.01)\n",
        "  cb.set_ticklabels(['0', '1', '2', '3', '4', '5', '6', '7', '8', '9'])\n",
        "  cb.ax.set_ylabel('number preference', size=20)\n",
        "  \n",
        "  # initialization function: plot the background of each frame\n",
        "  def init():\n",
        "    acc_lines[0].set_data([], [])\n",
        "    clu_lines[0].set_data([], [])\n",
        "    clu_ctrl_lines[0].set_data([], [])\n",
        "    topo_lines[0].set_data([], [])\n",
        "    topo_ctrl_lines[0].set_data([], [])\n",
        "    #den_lines[0].set_data([], [])\n",
        "    images.set_array(label_maps_history[0])\n",
        "    return acc_lines+clu_lines+clu_ctrl_lines+topo_lines+topo_ctrl_lines+[images]\n",
        "  \n",
        "  # animation function. This is called sequentially  \n",
        "  def animate(t):\n",
        "    ax3.clear()\n",
        "    ax3.set_title('epoch '+str(t), size=20, y=-0.07)\n",
        "    acc_lines[0].set_data(epochs[:t+1], target_acc_history[:t+1])\n",
        "    clu_lines[0].set_data(epochs[:t+1], clustering_history[:t+1])\n",
        "    clu_ctrl_lines[0].set_data(epochs[:t+1], clustering_history_ctrl[:t+1])\n",
        "    topo_lines[0].set_data(epochs[:t+1], topo_history[:t+1])\n",
        "    topo_ctrl_lines[0].set_data(epochs[:t+1], topo_history_ctrl[:t+1])\n",
        "    #den_lines[0].set_data(epochs[:t+1], density_history[:t+1])\n",
        "    update_data = label_maps_history[t]\n",
        "    update_data = gaussian_filter(update_data, sigma = S_map)\n",
        "    images = ax3.imshow(masked_array(update_data, update_data < 0), alpha=0.7, cmap=plt.get_cmap(cmap), vmin = min -.5, vmax = max +.5)\n",
        "    return acc_lines+clu_lines+clu_ctrl_lines+topo_lines+topo_ctrl_lines+[images]\n",
        "\n",
        "  frames = np.min((100, epoch))\n",
        "  anim = animation.FuncAnimation(fig, animate, init_func=init, frames=frames, interval=100, blit=True)\n",
        "\n",
        "  if save:\n",
        "    anim.save(filename='history_monitor_'+modelname+'_'+dataset+'.mp4', fps=5, dpi=300)\n",
        "\n",
        "  # Note: below is the part which makes it work on Colab\n",
        "  rc('animation', html='jshtml')\n",
        "  return anim"
      ],
      "execution_count": 19,
      "outputs": []
    },
    {
      "cell_type": "code",
      "metadata": {
        "colab": {
          "base_uri": "https://localhost:8080/",
          "height": 1000
        },
        "id": "tgX6DFn_teTA",
        "outputId": "8a60927a-42fa-4996-8ec5-5de3073d124c"
      },
      "source": [
        "checkpointpath = '/content/drive/MyDrive/ColabNotebooks/'\n",
        "#modelnames = ['ResetNumber1','ResetNumber2','ResetNumber4','ResetNumber8']\n",
        "#datasets = 4*['Numbers10']\n",
        "\n",
        "modelnames = ['ResNet20']\n",
        "datasets = ['MNIST']\n",
        "classes = ['0', '1', '2', '3', '4', '5', '6', '7', '8', '9'];lc=len(classes)\n",
        "threshold = 2\n",
        "smoothing = 0\n",
        "map_smoothing = 0.\n",
        "nopref = True\n",
        "for i, (modelname, dataset) in enumerate(zip(modelnames, datasets)): \n",
        "  compute_save_metrics2(modelname=modelname, dataset=dataset, T=threshold, S=smoothing, nopref=nopref)\n",
        "  animate_numerosity(T=threshold, S_map = map_smoothing, nopref=nopref)\n"
      ],
      "execution_count": 20,
      "outputs": [
        {
          "output_type": "stream",
          "name": "stdout",
          "text": [
            "class_acc_history.shape (11, 10)\n",
            "class_grid_history.shape (11, 10, 8, 8)\n",
            "n_epochs,n_classes,x,y 11 10 8 8\n",
            "analyzing data from epoch 0\n",
            "analyzing data from epoch 1\n",
            "analyzing data from epoch 2\n",
            "analyzing data from epoch 3\n",
            "analyzing data from epoch 4\n",
            "analyzing data from epoch 5\n",
            "analyzing data from epoch 6\n",
            "analyzing data from epoch 7\n",
            "analyzing data from epoch 8\n",
            "analyzing data from epoch 9\n"
          ]
        },
        {
          "output_type": "stream",
          "name": "stderr",
          "text": [
            "/usr/local/lib/python3.7/dist-packages/numpy/core/fromnumeric.py:3373: RuntimeWarning: Mean of empty slice.\n",
            "  out=out, **kwargs)\n",
            "/usr/local/lib/python3.7/dist-packages/numpy/core/_methods.py:170: RuntimeWarning: invalid value encountered in double_scalars\n",
            "  ret = ret.dtype.type(ret / rcount)\n"
          ]
        },
        {
          "output_type": "stream",
          "name": "stdout",
          "text": [
            "analyzing data from epoch 10\n",
            "label_maps_history.shape, min, max (11, 8, 8) -1.0 9.0\n",
            "test_acc_history.shape (11,)\n",
            "target_acc_history.shape (11,)\n",
            "density_history.shape (11,)\n",
            "label_maps_history.shape (11, 8, 8)\n",
            "clustering_history.shape (11,)\n",
            "clustering_history_ctrl.shape (11,)\n",
            "topo_history.shape (11,)\n",
            "topo_history_ctrl.shape (11,)\n",
            "topo_history [26.66666667 18.66666667 32.         32.         32.         32.\n",
            " 64.         48.         32.         32.         32.        ]\n",
            "topo_history_ctrl [12.8        15.39291667 18.13333333 15.12       16.4        15.33333333\n",
            " 15.86666667 16.24       16.26666667 15.06666667 14.66666667]\n",
            "clustering_history [1.1        2.         1.91666667 1.79166667 1.85416667 1.80357143\n",
            " 2.         1.80357143 1.85714286 1.71428571 2.02083333]\n",
            "clustering_history_ctrl [0.62416667 1.05905754 1.07421627 1.24015873 1.10627976 1.09397817\n",
            " 1.09042659 1.15699405 1.13582341 1.0822619  1.14502976]\n",
            "describe(clustering_history) DescribeResult(nobs=11, minmax=(1.1, 2.020833333333333), mean=1.8056277056277055, variance=0.06456713177695318, skewness=-2.082909622535966, kurtosis=3.679524081884648)\n",
            "describe(density_history) DescribeResult(nobs=11, minmax=(91.7809898234035, 654.2879656444511), mean=156.2465845176318, variance=27316.48827135488, skewness=2.8399685659389564, kurtosis=6.079794419345255)\n"
          ]
        },
        {
          "output_type": "display_data",
          "data": {
            "image/png": "[encoded data removed]",
            "text/plain": [
              "<Figure size 864x864 with 5 Axes>"
            ]
          },
          "metadata": {
            "needs_background": "light"
          }
        }
      ]
    },
    {
      "cell_type": "markdown",
      "metadata": {
        "id": "WfydPuAM8Kew"
      },
      "source": [
        "# Summary results"
      ]
    },
    {
      "cell_type": "code",
      "metadata": {
        "id": "g0aKvoDy8OJ7",
        "colab": {
          "base_uri": "https://localhost:8080/",
          "height": 417
        },
        "outputId": "81e014ae-b2f5-43e1-baef-2b99b4c641ed"
      },
      "source": [
        "def plot_model_comparison(prefix='/content/drive/MyDrive/ColabNotebooks/', epoch=51):\n",
        "    r=-1; smooth = 1.5\n",
        "    epoch = 10\n",
        "    models = ['ResNet20', 'ResetNumber1','ResetNumber2','ResetNumber4','ResetNumber8'][::-1]\n",
        "    names = ['ResNet', 'RESET(1)', 'RESET(2)', 'RESET(4)', 'RESET(8)'][::-1]\n",
        "    datasets = 5*['MNIST'][::-1]\n",
        "    colors = ['black', 'lightsteelblue', 'cyan', 'blue', 'purple'][::-1]\n",
        "    \n",
        "    \"\"\"\n",
        "    models = ['ResetNumber1','ResetNumber2','ResetNumber4','ResetNumber8'][::-1]\n",
        "    names = ['RESET(1)', 'RESET(2)', 'RESET(4)', 'RESET(8)'][::-1]\n",
        "    datasets = 4*['Numbers10']\n",
        "    colors = ['lightsteelblue', 'cyan', 'blue', 'purple'][::-1]\n",
        "    \"\"\"\n",
        "    # initialize figure\n",
        "    fig = plt.figure(figsize=(20, 7)) \n",
        "    ncols, nrows = 3, 1\n",
        "    gs = gridspec.GridSpec(nrows, ncols, left=0.05, bottom=0.08, right=0.95, top=0.92)#, wspace=2, hspace=10)\n",
        "    ax0 = fig.add_subplot(gs[0, 0])\n",
        "    ax1 = fig.add_subplot(gs[0, 1])\n",
        "    ax2 = fig.add_subplot(gs[0, 2])\n",
        "\n",
        "    stitle = 25\n",
        "    slabels = 19\n",
        "    #plt.suptitle(modelname+' '+dataset, size=25)\n",
        "    ax0.set_title('test accuracy', size=stitle)\n",
        "    ax0.set_xlabel('epochs', size=slabels) \n",
        "    ax0.set_xlim(0, epoch+1)\n",
        "    #ax0.set_ylim(0, 0.5)\n",
        "    \n",
        "    #ax1.set_title('clustering index', size=20)\n",
        "    ax1.set_title('cluster size', size=stitle)\n",
        "    ax1.set_xlabel('epochs', size=slabels)\n",
        "    ax1.set_xlim(0, epoch+1)\n",
        "    ax1.set_ylim(0, 3.0)\n",
        "    \n",
        "    #ax2.set_title('density index', size=20)\n",
        "    ax2.set_title('neighbor similarity', size=stitle)\n",
        "    ax2.set_xlabel('epochs', size=slabels)\n",
        "    ax2.set_xlim(0, epoch+1)\n",
        "    ax2.set_ylim(0, 50.0)\n",
        "\n",
        "    # load and preprocess data (smooth and normalize)\n",
        "    for i, (model, name, dataset, color) in enumerate(zip(models, names, datasets, colors)):\n",
        "      # load data\n",
        "      los = np.load(prefix+model+dataset+'test_acc_history.npy')\n",
        "      clu = np.load(prefix+model+dataset+'clustering_history.npy')-np.load(prefix+model+dataset+'clustering_history_ctrl.npy')\n",
        "      topo = np.load(prefix+model+dataset+'topo_history.npy')-np.load(prefix+model+dataset+'topo_history_ctrl.npy')\n",
        "\n",
        "      #los = np.median(los, axis=1)\n",
        "      clu = np.median(clu, axis=1)\n",
        "      topo = np.median(topo, axis=1)\n",
        "\n",
        "      # smooth\n",
        "      if smooth > 0:\n",
        "          los = ndimage.gaussian_filter1d(los[:r], smooth, 0)\n",
        "          clu = ndimage.gaussian_filter1d(clu[:r], smooth, 0)\n",
        "          topo = ndimage.gaussian_filter1d(topo[:r], smooth, 0)\n",
        "      \n",
        "      # plot data as subplots in same figure\n",
        "      ax0.plot(los, lw=2, label=name, c=color)\n",
        "      ax1.plot(clu, lw=2, label=name, c=color)\n",
        "      ax2.plot(topo, lw=2, label=name, c=color)\n",
        "\n",
        "    plt.legend(frameon=False)\n",
        "    plt.savefig('numerosity_comparison.png', dpi = 300)\n",
        "    plt.show()\n",
        "    \n",
        "    return 'done'\n",
        "\n",
        "plot_model_comparison()"
      ],
      "execution_count": 22,
      "outputs": [
        {
          "output_type": "display_data",
          "data": {
            "image/png": "[encoded data removed]",
            "text/plain": [
              "<Figure size 1440x504 with 3 Axes>"
            ]
          },
          "metadata": {
            "needs_background": "light"
          }
        },
        {
          "output_type": "execute_result",
          "data": {
            "application/vnd.google.colaboratory.intrinsic+json": {
              "type": "string"
            },
            "text/plain": [
              "'done'"
            ]
          },
          "metadata": {},
          "execution_count": 22
        }
      ]
    },
    {
      "cell_type": "markdown",
      "metadata": {
        "id": "XCIAjHwbAbsZ"
      },
      "source": [
        "# Conclusions"
      ]
    },
    {
      "cell_type": "markdown",
      "metadata": {
        "id": "bkHnANdLwiPw"
      },
      "source": [
        "Is there topography for numbers ? <br>\n",
        "Yes. In these networks:<br>\n",
        "1. Units with the same number preference are more likely than chance to be connected on the map (quantified with clustering index).<br>\n",
        "2. Units with similar number preferences cluster together on the map (quantified with neighborhood index).<br>\n",
        "3. Clustering increases with the number of subnetworks. Subnetworks appear to specialize in different numbers."
      ]
    }
  ]
}