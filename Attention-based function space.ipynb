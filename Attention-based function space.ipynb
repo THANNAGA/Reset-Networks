{
  "nbformat": 4,
  "nbformat_minor": 0,
  "metadata": {
    "colab": {
      "name": "Attention.ipynb",
      "provenance": [],
      "collapsed_sections": [],
      "authorship_tag": "ABX9TyNeEFqXLV39624SMUUAygKW",
      "include_colab_link": true
    },
    "kernelspec": {
      "name": "python3",
      "display_name": "Python 3"
    },
    "language_info": {
      "name": "python"
    }
  },
  "cells": [
    {
      "cell_type": "markdown",
      "metadata": {
        "id": "view-in-github",
        "colab_type": "text"
      },
      "source": [
        "<a href=\"https://colab.research.google.com/github/THANNAGA/Reset-Networks/blob/main/Attention-based%20function%20space.ipynb\" target=\"_parent\"><img src=\"https://colab.research.google.com/assets/colab-badge.svg\" alt=\"Open In Colab\"/></a>"
      ]
    },
    {
      "cell_type": "markdown",
      "metadata": {
        "id": "ZHF4KnydJnqF"
      },
      "source": [
        "## Fun with Attention"
      ]
    },
    {
      "cell_type": "code",
      "metadata": {
        "id": "PyrfwM3MJg62"
      },
      "source": [
        "'''Simple attention module'''\n",
        "# useful blog post for getting dimensions right for attention: https://jalammar.github.io/illustrated-transformer/\n",
        "import torch\n",
        "import torch.nn as nn\n",
        "import torch.nn.functional as F\n",
        "from torch.autograd import Variable\n",
        "import numpy as np\n",
        "import matplotlib.pyplot as plt\n",
        "import math\n",
        "\n",
        "# first try without batch dimension - learned how to declare parameters for arbitrary matrices in pytorch\n",
        "class AttentionModule(nn.Module):\n",
        "    def __init__(self, n=10, dim=20):\n",
        "        super().__init__()\n",
        "        #self.Q = nn.linear(indim, outdim, bias=False)\n",
        "        #self.K = nn.linear(indim, outdim, bias=False)\n",
        "        #self.V = nn.linear(indim, outdim, bias=False)\n",
        "        self.Q = torch.nn.Parameter(torch.rand(n, dim))\n",
        "        self.K = torch.nn.Parameter(torch.rand(n, dim))\n",
        "        self.V = torch.nn.Parameter(torch.rand(n, dim))\n",
        "\n",
        "    def forward(self, x):\n",
        "        #q = self.Q(x)\n",
        "        #k = self.K(x)\n",
        "        #v = self.V(x)\n",
        "        print ('x.size()', x.size())\n",
        "        norm = x.size(1)**0.5;print ('norm', norm)\n",
        "        q = torch.mm(x, self.Q);print ('q.size()', q.size())\n",
        "        k = torch.mm(x, self.K);print ('k.size()', k.size())\n",
        "        v = torch.mm(x, self.V);print ('v.size()', v.size())\n",
        "        z = torch.mm(q, k.T)/norm;print ('normalized', z.size())\n",
        "        z = F.softmax(z, dim=1);print ('softmaxed', z.size())\n",
        "        z = torch.mm(z, v);print ('final z', z.size())\n",
        "        return z\n",
        "\n",
        "# second try, with batch dimension - learned something about torch.einsum\n",
        "# also with embeddings - learned about how they are done in transformers, and about torch.repeat\n",
        "#https://pytorch.org/docs/stable/generated/torch.einsum.html\n",
        "class Attention2(nn.Module):\n",
        "    def __init__(self, n=10, dim=20):\n",
        "        super().__init__()\n",
        "        self.Q = nn.Linear(n, dim, bias=False)\n",
        "        self.K = nn.Linear(n, dim, bias=False)\n",
        "        self.V = nn.Linear(n, dim, bias=False)\n",
        "\n",
        "    def forward(self, x, e=None):\n",
        "        if e is None:\n",
        "          e = torch.zeros_like(x)\n",
        "        x = x + e\n",
        "        print ('x.size()', x.size())\n",
        "        norm = x.size(-1)**0.5;print ('norm', norm)\n",
        "        q = self.Q(x);print ('q.size()', q.size())\n",
        "        k = self.K(x);print ('k.size()', k.size())\n",
        "        v = self.V(x);print ('v.size()', v.size())\n",
        "        z = torch.einsum('bij,bkj->bik', q, k)/norm;print ('normalized', z.size())\n",
        "        z = F.softmax(z, dim=-1);print ('softmaxed', z.size())\n",
        "        z = torch.einsum('bij,bjk->bik', z, v);print ('final z', z.size())\n",
        "        return z"
      ],
      "execution_count": null,
      "outputs": []
    },
    {
      "cell_type": "markdown",
      "metadata": {
        "id": "7p-VK6t2NKZ8"
      },
      "source": [
        "## Visualization"
      ]
    },
    {
      "cell_type": "code",
      "metadata": {
        "id": "UQjbpTA1NM5E"
      },
      "source": [
        "!pip install ipywidgets\n",
        "from ipywidgets import interact\n",
        "#Basic ipywidgets interact would generate UI from the function\n",
        "def f(x):\n",
        "    return x\n",
        "https://towardsdatascience.com/5-interesting-jupyter-interactive-visualization-extensions-ab030c8d0eb9"
      ],
      "execution_count": null,
      "outputs": []
    },
    {
      "cell_type": "markdown",
      "metadata": {
        "id": "NFx_H6s9K02G"
      },
      "source": [
        "##Embeddings"
      ]
    },
    {
      "cell_type": "code",
      "metadata": {
        "colab": {
          "base_uri": "https://localhost:8080/",
          "height": 268
        },
        "id": "BpGskALzLBh2",
        "outputId": "371381be-d8e6-4ead-9ee3-e585440656bc"
      },
      "source": [
        "import numpy as np\n",
        "import matplotlib.pyplot as plt\n",
        "#Generate embeddings as a matrix\n",
        "#https://arxiv.org/pdf/2010.04903.pdf\n",
        "def GenerateEmbeddings(n=10, lseq=3, show=True):\n",
        "  embeddings = np.zeros((lseq, n))\n",
        "  for i in np.arange(lseq):\n",
        "    for j in np.arange(n//2):\n",
        "      embeddings[i, 2*j] = np.sin((i/10000)**(2*j/n))\n",
        "      embeddings[i, 2*j +1] = np.cos((i/10000)**(2*j/n))\n",
        "  if show:\n",
        "    plt.imshow(embeddings);plt.show()\n",
        "  return embeddings\n",
        "embeddings = GenerateEmbeddings(n=50, lseq=100, show=True)"
      ],
      "execution_count": null,
      "outputs": [
        {
          "output_type": "display_data",
          "data": {
            "image/png": "[encoded data removed]",
            "text/plain": [
              "<Figure size 432x288 with 1 Axes>"
            ]
          },
          "metadata": {
            "needs_background": "light"
          }
        }
      ]
    },
    {
      "cell_type": "code",
      "metadata": {
        "colab": {
          "base_uri": "https://localhost:8080/"
        },
        "id": "SSdbYQCZRkDk",
        "outputId": "06543b63-54b0-4eef-a5f6-6560650be55a"
      },
      "source": [
        "#test\n",
        "def test():\n",
        "    nbatch=2; lseq=3; n=10; dim=100\n",
        "    #net = AttentionModule(n=n, dim=dim)\n",
        "    net = Attention2(n=n, dim=dim)\n",
        "    x = torch.randn(nbatch, lseq, n)\n",
        "    embeddings = torch.randn(1, lseq, n).repeat(nbatch, 1, 1)\n",
        "    print ('np.shape(embeddings)', np.shape(embeddings))\n",
        "    z = net(x, e=embeddings)\n",
        "    print ('np.shape(output)', np.shape(z))\n",
        "    model_total_params = sum(p.numel() for p in net.parameters())\n",
        "    print('==> Model built. The model has ',model_total_params,'total parameters')   \n",
        "test()"
      ],
      "execution_count": null,
      "outputs": [
        {
          "output_type": "stream",
          "name": "stdout",
          "text": [
            "np.shape(embeddings) torch.Size([2, 3, 10])\n",
            "x.size() torch.Size([2, 3, 10])\n",
            "norm 3.1622776601683795\n",
            "q.size() torch.Size([2, 3, 100])\n",
            "k.size() torch.Size([2, 3, 100])\n",
            "v.size() torch.Size([2, 3, 100])\n",
            "normalized torch.Size([2, 3, 3])\n",
            "softmaxed torch.Size([2, 3, 3])\n",
            "final z torch.Size([2, 3, 100])\n",
            "np.shape(output) torch.Size([2, 3, 100])\n",
            "==> Model built. The model has  3000 total parameters\n"
          ]
        }
      ]
    }
  ]
}